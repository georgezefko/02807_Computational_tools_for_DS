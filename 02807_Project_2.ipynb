{
  "cells": [
    {
      "cell_type": "markdown",
      "metadata": {
        "id": "PlsPJUw7wCWZ"
      },
      "source": [
        "# 02807: Project 2\n",
        " \n",
        "## Practical information\n",
        " \n",
        "* This project must be completed in groups of 3 students.\n",
        "    * The group must be registered on the course site on DTU Learn: My Course > Groups\n",
        "    * Groups must be registered anew (even if you already registered for Project 1)\n",
        "* This project must be handed in as a jupyter notebook to the course site on DTU Learn. \n",
        "    * Go to the Course Content > Assignments tab to upload your submission. \n",
        "* This project is due on Monday, November 29, 20:00.\n",
        "\n",
        "## Submission rules\n",
        "\n",
        "* Each group has to hand in *one* notebook (`.ipynb`) with their solutions, including a filled out Contribution table (see below).\n",
        "* Your solution must be written in Python.\n",
        "* For each question you should use the cells provided (\"`# your code goes here`\" and \"*your explanation here*\") for your solution\n",
        "    * It is allowed to add code cells within a question block, but consider if it's really necessary.\n",
        "* You should not remove the problem statements, and you should not modify the structure of the notebook.\n",
        "* Your notebook should be runnable and readable from top to bottom.\n",
        "    * Meaning that your code cells work when run in order (from top to bottom).\n",
        "    * Output of any cell depends only on itself and cells above it.\n",
        "* Your notebook should be submitted after having been run from top to bottom.\n",
        "    * This means outputs are interpretable without necessarily running your cells.\n",
        "    * The simplest way to achieve this is using the jupyter menu item Kernel > Restart & Run All just prior to submission. If any cell fails when you do this, your notebook is not ready for submission.\n",
        "    * Exercise 3 in particular will take time to finish, plan accordingly, that is, make sure you have time to run your notebook from top to bottom.\n",
        "* Failure to comply may make it impossible for us to evaluate your submission properly, which will likely negatively impact the points awarded.\n",
        "\n",
        "## Solution guidelines\n",
        "* Data processing is via Spark for the first three exercises and pandas/SQL in the fourth exercise.\n",
        "* Where naming of dataframes and functions are explicitly stated, these must be used.\n",
        "* Your solutions will be evaluated by correctness, code quality and interpretability of the output. \n",
        "    * You have to write clean, readable and efficient Spark code that will generate sensible execution plans.\n",
        "    * You have to write clean, readable and efficient SQL queries.\n",
        "    * Your tables and visualisations should be meaningful and easy to read. This requires, but is not limited to, including headers, legends and well-written (brief) descriptions for graphs/charts. In this step you've found the data processing solution, so put also some effort into its presentation.\n",
        "\n",
        "## Colaboration policy\n",
        " \n",
        "* It is not allowed to collaborate on the exercises with students outside your group, except for discussing the text of the exercise with teachers and fellow students enrolled on the course in the same semester. \n",
        "* It is not allowed to exchange, hand-over or in any other way communicate solutions or parts of solutions to the exercises. \n",
        "* It is not allowed to use solutions from similar courses, or solutions found elsewhere."
      ]
    },
    {
      "cell_type": "markdown",
      "metadata": {
        "id": "ZP30rwxHDQyG"
      },
      "source": [
        "## Contribution table and grading\n",
        "\n",
        "* The total amount of points in the project is 150.\n",
        "* You have to indicate who has solved each part of each exercise in a **contribution table**. \n",
        "* A group member can take credit for solving a part of an exercise only if they have contributed **substantially** to the solution. \n",
        "    * Simple contributions, such as correcting a small bug or double-checking the results of functions, are not sufficient for taking credit for a solution.\n",
        "    * Several group members can take credit for the same solution if they all have contributed substantially to it.\n",
        "* Each group member must contribute **at least 65 points**. \n",
        "    * If no name is provided for an exercise's part, **all group members** are considered contributors to it.\n",
        "* Group members should decide amongst themselves how to collaborate on the project to meet these constraints.  \n",
        "* Scores are individual. The score $\\text{score}(m)$ for a group member $m$ ranges from 0 to 10 and is calculated as follows: \n",
        "\n",
        "  * $\\text{individual-score}(m) = \\frac{\\text{total number of points for the parts correctly solved by }m}{\\text{total number of points for the parts contributed by }m}$\n",
        "\n",
        "  * $\\text{group-score} = \\frac{\\text{total number of points correctly solved by any group member}}{\\text{total number of points in the project}}$\n",
        "\n",
        "  * $\\text{score}(m) =  7.5 \\cdot \\text{individual-score}(m) + 2.5 \\cdot \\text{group-score}$\n",
        "  \n",
        "  \n",
        "* The following is an example of a contributions table:\n",
        "\n",
        "|        | Exercise 1 | Exercise 2 | Exercise 3 | Exercise 4 |\n",
        "|--------|------------|------------|------------|------------|\n",
        "| **Part 1** | John       |    Mary        |     Ann       |   Mary, Ann         |\n",
        "| **Part 2** |     Mary       |    Mary        |   Ann         |    John, Ann        |\n",
        "| **Part 3** |     John, Mary, Ann       |      John, Ann      |   John         | John      |\n",
        "| **Part 4** | Ann       |  Ann          |     John, Mary       | John       |\n",
        "| **Part 5** | **n.a.**     | John, Mary, Ann           | **n.a.**       | **n.a.**       |\n",
        "\n",
        "\n",
        "* **Example**: in the contribution table above, suppose that all parts are solved correctly except for those of Exercise 4 which are all wrong. Then Ann's score is calculated as follows:\n",
        "\n",
        "  * $\\text{individual-score}(Ann) = \\frac{5+5+10+5+5+15+15}{5+5+10+5+5+15+15+15+5} = \\frac{60}{80} = 0.75$\n",
        "\n",
        "  * $\\text{group-score} = \\frac{95}{150} = 0.633$\n",
        "\n",
        "  * $\\text{score}(Ann) = 7.5\\cdot 0.75 + 2.5 \\cdot 0.633 = 7.21$\n"
      ]
    },
    {
      "cell_type": "markdown",
      "metadata": {
        "id": "vklet8XdRGVV"
      },
      "source": [
        "# Group contribution table \n",
        "\n",
        "This table must be filled before submission.\n",
        "\n"
      ]
    },
    {
      "cell_type": "code",
      "execution_count": 2,
      "metadata": {
        "ExecuteTime": {
          "end_time": "2021-11-02T13:07:49.385821Z",
          "start_time": "2021-11-02T13:07:48.995596Z"
        },
        "colab": {
          "base_uri": "https://localhost:8080/",
          "height": 328
        },
        "id": "chiXA3CzRSA1",
        "outputId": "752ba847-32fb-48e7-a4ea-2ce363e3a706"
      },
      "outputs": [
        {
          "data": {
            "text/html": [
              "<div>\n",
              "<style scoped>\n",
              "    .dataframe tbody tr th:only-of-type {\n",
              "        vertical-align: middle;\n",
              "    }\n",
              "\n",
              "    .dataframe tbody tr th {\n",
              "        vertical-align: top;\n",
              "    }\n",
              "\n",
              "    .dataframe thead th {\n",
              "        text-align: right;\n",
              "    }\n",
              "</style>\n",
              "<table border=\"1\" class=\"dataframe\">\n",
              "  <thead>\n",
              "    <tr style=\"text-align: right;\">\n",
              "      <th></th>\n",
              "      <th>Exercise 1</th>\n",
              "      <th>Exercise 2</th>\n",
              "      <th>Exercise 3</th>\n",
              "      <th>Exercise 4</th>\n",
              "    </tr>\n",
              "  </thead>\n",
              "  <tbody>\n",
              "    <tr>\n",
              "      <th>Part 1</th>\n",
              "      <td></td>\n",
              "      <td></td>\n",
              "      <td></td>\n",
              "      <td></td>\n",
              "    </tr>\n",
              "    <tr>\n",
              "      <th>Part 2</th>\n",
              "      <td></td>\n",
              "      <td></td>\n",
              "      <td></td>\n",
              "      <td></td>\n",
              "    </tr>\n",
              "    <tr>\n",
              "      <th>Part 3</th>\n",
              "      <td></td>\n",
              "      <td></td>\n",
              "      <td></td>\n",
              "      <td></td>\n",
              "    </tr>\n",
              "    <tr>\n",
              "      <th>Part 4</th>\n",
              "      <td></td>\n",
              "      <td></td>\n",
              "      <td></td>\n",
              "      <td></td>\n",
              "    </tr>\n",
              "    <tr>\n",
              "      <th>Part 5</th>\n",
              "      <td>n.a</td>\n",
              "      <td></td>\n",
              "      <td>n.a</td>\n",
              "      <td>n.a</td>\n",
              "    </tr>\n",
              "  </tbody>\n",
              "</table>\n",
              "</div>"
            ],
            "text/plain": [
              "       Exercise 1 Exercise 2 Exercise 3 Exercise 4\n",
              "Part 1                                            \n",
              "Part 2                                            \n",
              "Part 3                                            \n",
              "Part 4                                            \n",
              "Part 5        n.a                   n.a        n.a"
            ]
          },
          "execution_count": 2,
          "metadata": {},
          "output_type": "execute_result"
        }
      ],
      "source": [
        "import pandas as pd\n",
        "\n",
        "d = {'Exercise 1' : ['', '', '', '', 'n.a'], \n",
        "     'Exercise 2' : ['', '', '', '', ''],\n",
        "     'Exercise 3' : ['', '', '', '', 'n.a'],\n",
        "     'Exercise 4' : ['', '', '', '', 'n.a'],\n",
        "     } \n",
        "  \n",
        "ct = pd.DataFrame(d, index=['Part 1', 'Part 2', 'Part 3', 'Part 4', 'Part 5']) \n",
        "\n",
        "ct"
      ]
    },
    {
      "cell_type": "markdown",
      "metadata": {
        "id": "dPlNQTICo9sH"
      },
      "source": [
        "# The AirBnB dataset\n",
        "\n",
        "<img src=\"https://www.esquireme.com/public/images/2019/11/03/airbnb-678x381.jpg\" alt=\"airbnb\" width=\"400\"/>\n",
        "\n",
        "[Airbnb](http://airbnb.com) is an online marketplace for arranging or offering lodgings. In the first three exercises you will use Spark to analyze data obtained from the Airbnb website (stricly speaking via data scraped by [insideairbnb](http://insideairbnb.com/get-the-data.html)). The purpose of your analysis is to extract insights about listings as a whole, specifics about London, and sentiment analysis of reviews (word positivity).\n",
        "\n",
        "\n",
        "## Loading data\n",
        "The dataset consists of listings (offered lodgings) and reviews (submitted by users). The `.csv`'s you'll work with vary between the first three exercises, but is structured so that the function below will load it into a spark dataframe."
      ]
    },
    {
      "cell_type": "code",
      "execution_count": 187,
      "metadata": {
        "ExecuteTime": {
          "end_time": "2021-11-02T13:07:51.283648Z",
          "start_time": "2021-11-02T13:07:51.280806Z"
        },
        "id": "E9BEj7re4jnN"
      },
      "outputs": [],
      "source": [
        "def load_csv_as_dataframe(path):\n",
        "    return spark.read.option('header', True) \\\n",
        "                .option('inferSchema', True) \\\n",
        "                .option('multiLine', 'True') \\\n",
        "                .option('escape', '\"') \\\n",
        "                .option('mode', 'DROPMALFORMED')\\\n",
        "                .csv(path)"
      ]
    },
    {
      "cell_type": "markdown",
      "metadata": {
        "id": "-4hk-43Io9sI"
      },
      "source": [
        "## Imports and Spark session\n",
        "\n",
        "* You'll need to adapt the `JAVA_HOME` environment variable to your setup. \n",
        "* You should set the `spark.driver.memory` value to the amount of memory on your machine. \n",
        "* It may be required for you to install some of the packages imported below (e.g. pandasql)."
      ]
    },
    {
      "cell_type": "code",
      "execution_count": 3,
      "metadata": {
        "ExecuteTime": {
          "end_time": "2021-11-02T13:32:31.290655Z",
          "start_time": "2021-11-02T13:32:31.284171Z"
        },
        "id": "Zy1rMfRh4jnN"
      },
      "outputs": [],
      "source": [
        "# Instructions on p. 20 Learning Spark, 2nd ed.\n",
        "# Here's a quick-guide, googling may also be required\n",
        "# 1) Install pyspark via conda/pip\n",
        "#          pyspark requires the JAVA_HOME environment variable is set.\n",
        "# 2) Install JDK 8 or 11, figure out the install location\n",
        "#          Suggest to use https://adoptopenjdk.net/\n",
        "# 3) Update the JAVA_HOME environment variable set programmatically below \n",
        "#    with your install location specifics\n",
        "\n",
        "# JAVA_HOME environment variable is set programatically below\n",
        "# but you must point it to your local install\n",
        "\n",
        "import os\n",
        "os.environ['JAVA_HOME'] = '/Library/Java/JavaVirtualMachines/adoptopenjdk-8.jdk/Contents/Home/'\n",
        "\n",
        "# If you get \"Job aborted due to stage failure\" and \n",
        "# \"Python worker failed to connect back.\" exceptions, \n",
        "# this should be solved by additionally setting these \n",
        "# environment variables\n",
        "\n",
        "# os.environ['PYSPARK_PYTHON'] = 'python'\n",
        "# os.environ['PYSPARK_DRIVER_PYTHON'] = 'jupyter'\n",
        "# os.environ['PYSPARK_DRIVER_PYTHON_OPTS'] = 'notebook'"
      ]
    },
    {
      "cell_type": "code",
      "execution_count": 4,
      "metadata": {},
      "outputs": [
        {
          "name": "stdout",
          "output_type": "stream",
          "text": [
            "Requirement already satisfied: PyQt5==5.9.2 in /Library/Frameworks/Python.framework/Versions/3.7/lib/python3.7/site-packages (5.9.2)\n",
            "Requirement already satisfied: sip<4.20,>=4.19.4 in /Library/Frameworks/Python.framework/Versions/3.7/lib/python3.7/site-packages (from PyQt5==5.9.2) (4.19.8)\n",
            "\u001b[33mYou are using pip version 10.0.1, however version 21.3.1 is available.\n",
            "You should consider upgrading via the 'pip install --upgrade pip' command.\u001b[0m\n"
          ]
        }
      ],
      "source": [
        "!pip3 install PyQt5==5.9.2"
      ]
    },
    {
      "cell_type": "code",
      "execution_count": 95,
      "metadata": {
        "ExecuteTime": {
          "end_time": "2021-11-02T13:07:53.807655Z",
          "start_time": "2021-11-02T13:07:52.901610Z"
        },
        "id": "2ftW7yaGo9sJ"
      },
      "outputs": [],
      "source": [
        "import numpy as np\n",
        "import pandas as pd\n",
        "import seaborn as sns\n",
        "sns.set()\n",
        "import matplotlib\n",
        "import matplotlib.pyplot as plt\n",
        "matplotlib.use('Qt5Agg')\n",
        "%matplotlib inline\n",
        "\n",
        "import pyspark\n",
        "from pyspark.sql import SparkSession\n",
        "from pyspark.sql import functions as F\n",
        "from pyspark import SparkContext, SparkConf\n",
        "from pyspark.sql.functions import udf\n",
        "from pyspark.sql.types import StringType\n",
        "\n",
        "\n",
        "from pandas_profiling import ProfileReport\n",
        "\n",
        "import pandasql as psql"
      ]
    },
    {
      "cell_type": "code",
      "execution_count": 6,
      "metadata": {
        "ExecuteTime": {
          "end_time": "2021-11-02T13:07:57.883383Z",
          "start_time": "2021-11-02T13:07:53.808476Z"
        },
        "id": "OBILY9sf4jnN"
      },
      "outputs": [],
      "source": [
        "# Sets memory limit on driver and to use all CPU cores\n",
        "conf = SparkConf().set('spark.ui.port', '4050') \\\n",
        "        .set('spark.driver.memory', '4g') \\\n",
        "        .setMaster('local[*]')\n",
        "\n",
        "sc = pyspark.SparkContext(conf=conf)\n",
        "spark = SparkSession.builder.getOrCreate()"
      ]
    },
    {
      "cell_type": "code",
      "execution_count": 7,
      "metadata": {
        "ExecuteTime": {
          "end_time": "2021-11-02T13:07:58.627425Z",
          "start_time": "2021-11-02T13:07:57.884329Z"
        },
        "id": "cJpOoxzN4jnN",
        "outputId": "517231b3-51f5-4e7f-9481-8384d0989a00"
      },
      "outputs": [
        {
          "data": {
            "text/html": [
              "\n",
              "            <div>\n",
              "                <p><b>SparkSession - in-memory</b></p>\n",
              "                \n",
              "        <div>\n",
              "            <p><b>SparkContext</b></p>\n",
              "\n",
              "            <p><a href=\"http://georgioss-mbp.students.clients.local:4050\">Spark UI</a></p>\n",
              "\n",
              "            <dl>\n",
              "              <dt>Version</dt>\n",
              "                <dd><code>v3.1.2</code></dd>\n",
              "              <dt>Master</dt>\n",
              "                <dd><code>local[*]</code></dd>\n",
              "              <dt>AppName</dt>\n",
              "                <dd><code>pyspark-shell</code></dd>\n",
              "            </dl>\n",
              "        </div>\n",
              "        \n",
              "            </div>\n",
              "        "
            ],
            "text/plain": [
              "<pyspark.sql.session.SparkSession at 0x7fb946b82f10>"
            ]
          },
          "execution_count": 7,
          "metadata": {},
          "output_type": "execute_result"
        }
      ],
      "source": [
        "spark"
      ]
    },
    {
      "cell_type": "code",
      "execution_count": 8,
      "metadata": {
        "ExecuteTime": {
          "end_time": "2021-11-02T13:07:58.667031Z",
          "start_time": "2021-11-02T13:07:58.628174Z"
        },
        "id": "L5lJlshk4jnN",
        "outputId": "95c2c9ea-e61f-4ac1-ab01-14b494a549c4"
      },
      "outputs": [
        {
          "data": {
            "text/plain": [
              "[('spark.driver.memory', '4g'),\n",
              " ('spark.app.id', 'local-1636375030146'),\n",
              " ('spark.app.startTime', '1636375028830'),\n",
              " ('spark.executor.id', 'driver'),\n",
              " ('spark.app.name', 'pyspark-shell'),\n",
              " ('spark.ui.port', '4050'),\n",
              " ('spark.driver.port', '49565'),\n",
              " ('spark.rdd.compress', 'True'),\n",
              " ('spark.sql.warehouse.dir',\n",
              "  'file:/Users/georgioszefkilis/Computational_tools/Project_2/spark-warehouse'),\n",
              " ('spark.serializer.objectStreamReset', '100'),\n",
              " ('spark.master', 'local[*]'),\n",
              " ('spark.submit.pyFiles', ''),\n",
              " ('spark.submit.deployMode', 'client'),\n",
              " ('spark.ui.showConsoleProgress', 'true'),\n",
              " ('spark.driver.host', 'georgioss-mbp.students.clients.local')]"
            ]
          },
          "execution_count": 8,
          "metadata": {},
          "output_type": "execute_result"
        }
      ],
      "source": [
        "sc.getConf().getAll()"
      ]
    },
    {
      "cell_type": "markdown",
      "metadata": {
        "id": "-PdveMrU4jnO"
      },
      "source": [
        "# Exercise 1: Listings and cities (20 pts)\n",
        "\n",
        "In this exercise you must use Spark to do the data processing. \n",
        "* For parts where you present tabular data, this entails calling `toPandas` as the final step of your query. \n",
        "* For parts requiring visualisation, the `toPandas` call should be followed only by functions necessary to customize the plotting/layout steps (i.e. no data processing take place after your spark dataframe is materialized).\n"
      ]
    },
    {
      "cell_type": "markdown",
      "metadata": {
        "id": "z5LAuprs4jnO"
      },
      "source": [
        "## Part 1: Preparing the dataframe (5 pts)\n",
        "\n",
        "Your data source is [this zip archive](https://data-download.compute.dtu.dk/c02807/listings.csv.zip) which you must uncompress and place in the same folder as this notebook. It is loaded in the next cell and named `df_listings`.\n",
        "\n",
        "After the data is read, you should select the columns necessary for exercise 1, 2 and 3 (by reading ahead or iteratively extend this loading code). Name this dataframe `df_listings_analysis` and make use of caching.\n",
        "\n",
        "Prices are in local currency, but are nonetheless prefixed with `$` and contains thousands separator commas. You will need to remove these characters and cast the price column to `pyspark.sql.types.DoubleType`. Observe that if this casting is not possible, the result of the cast is `null`."
      ]
    },
    {
      "cell_type": "code",
      "execution_count": 188,
      "metadata": {
        "ExecuteTime": {
          "end_time": "2021-10-27T15:29:07.681609Z",
          "start_time": "2021-10-27T15:28:34.756446Z"
        },
        "id": "NTybzL654jnO"
      },
      "outputs": [],
      "source": [
        "df_listings = load_csv_as_dataframe('listings.csv')"
      ]
    },
    {
      "cell_type": "code",
      "execution_count": 13,
      "metadata": {},
      "outputs": [
        {
          "name": "stdout",
          "output_type": "stream",
          "text": [
            "root\n",
            " |-- id: string (nullable = true)\n",
            " |-- listing_url: string (nullable = true)\n",
            " |-- scrape_id: string (nullable = true)\n",
            " |-- last_scraped: string (nullable = true)\n",
            " |-- name: string (nullable = true)\n",
            " |-- summary: string (nullable = true)\n",
            " |-- space: string (nullable = true)\n",
            " |-- description: string (nullable = true)\n",
            " |-- experiences_offered: string (nullable = true)\n",
            " |-- neighborhood_overview: string (nullable = true)\n",
            " |-- notes: string (nullable = true)\n",
            " |-- transit: string (nullable = true)\n",
            " |-- access: string (nullable = true)\n",
            " |-- interaction: string (nullable = true)\n",
            " |-- house_rules: string (nullable = true)\n",
            " |-- thumbnail_url: string (nullable = true)\n",
            " |-- medium_url: string (nullable = true)\n",
            " |-- picture_url: string (nullable = true)\n",
            " |-- xl_picture_url: string (nullable = true)\n",
            " |-- host_id: string (nullable = true)\n",
            " |-- host_url: string (nullable = true)\n",
            " |-- host_name: string (nullable = true)\n",
            " |-- host_since: string (nullable = true)\n",
            " |-- host_location: string (nullable = true)\n",
            " |-- host_about: string (nullable = true)\n",
            " |-- host_response_time: string (nullable = true)\n",
            " |-- host_response_rate: string (nullable = true)\n",
            " |-- host_acceptance_rate: string (nullable = true)\n",
            " |-- host_is_superhost: string (nullable = true)\n",
            " |-- host_thumbnail_url: string (nullable = true)\n",
            " |-- host_picture_url: string (nullable = true)\n",
            " |-- host_neighbourhood: string (nullable = true)\n",
            " |-- host_listings_count: string (nullable = true)\n",
            " |-- host_total_listings_count: string (nullable = true)\n",
            " |-- host_verifications: string (nullable = true)\n",
            " |-- host_has_profile_pic: string (nullable = true)\n",
            " |-- host_identity_verified: string (nullable = true)\n",
            " |-- street: string (nullable = true)\n",
            " |-- neighbourhood: string (nullable = true)\n",
            " |-- neighbourhood_cleansed: string (nullable = true)\n",
            " |-- neighbourhood_group_cleansed: string (nullable = true)\n",
            " |-- city: string (nullable = true)\n",
            " |-- state: string (nullable = true)\n",
            " |-- zipcode: string (nullable = true)\n",
            " |-- market: string (nullable = true)\n",
            " |-- smart_location: string (nullable = true)\n",
            " |-- country_code: string (nullable = true)\n",
            " |-- country: string (nullable = true)\n",
            " |-- latitude: string (nullable = true)\n",
            " |-- longitude: string (nullable = true)\n",
            " |-- is_location_exact: string (nullable = true)\n",
            " |-- property_type: string (nullable = true)\n",
            " |-- room_type: string (nullable = true)\n",
            " |-- accommodates: string (nullable = true)\n",
            " |-- bathrooms: string (nullable = true)\n",
            " |-- bedrooms: string (nullable = true)\n",
            " |-- beds: string (nullable = true)\n",
            " |-- bed_type: string (nullable = true)\n",
            " |-- amenities: string (nullable = true)\n",
            " |-- square_feet: string (nullable = true)\n",
            " |-- price: string (nullable = true)\n",
            " |-- weekly_price: string (nullable = true)\n",
            " |-- monthly_price: string (nullable = true)\n",
            " |-- security_deposit: string (nullable = true)\n",
            " |-- cleaning_fee: string (nullable = true)\n",
            " |-- guests_included: string (nullable = true)\n",
            " |-- extra_people: string (nullable = true)\n",
            " |-- minimum_nights: string (nullable = true)\n",
            " |-- maximum_nights: string (nullable = true)\n",
            " |-- minimum_minimum_nights: string (nullable = true)\n",
            " |-- maximum_minimum_nights: string (nullable = true)\n",
            " |-- minimum_maximum_nights: string (nullable = true)\n",
            " |-- maximum_maximum_nights: string (nullable = true)\n",
            " |-- minimum_nights_avg_ntm: string (nullable = true)\n",
            " |-- maximum_nights_avg_ntm: string (nullable = true)\n",
            " |-- calendar_updated: string (nullable = true)\n",
            " |-- has_availability: string (nullable = true)\n",
            " |-- availability_30: string (nullable = true)\n",
            " |-- availability_60: string (nullable = true)\n",
            " |-- availability_90: string (nullable = true)\n",
            " |-- availability_365: string (nullable = true)\n",
            " |-- calendar_last_scraped: string (nullable = true)\n",
            " |-- number_of_reviews: string (nullable = true)\n",
            " |-- number_of_reviews_ltm: string (nullable = true)\n",
            " |-- first_review: string (nullable = true)\n",
            " |-- last_review: string (nullable = true)\n",
            " |-- review_scores_rating: string (nullable = true)\n",
            " |-- review_scores_accuracy: string (nullable = true)\n",
            " |-- review_scores_cleanliness: string (nullable = true)\n",
            " |-- review_scores_checkin: string (nullable = true)\n",
            " |-- review_scores_communication: string (nullable = true)\n",
            " |-- review_scores_location: string (nullable = true)\n",
            " |-- review_scores_value: string (nullable = true)\n",
            " |-- requires_license: string (nullable = true)\n",
            " |-- license: string (nullable = true)\n",
            " |-- jurisdiction_names: string (nullable = true)\n",
            " |-- instant_bookable: string (nullable = true)\n",
            " |-- is_business_travel_ready: string (nullable = true)\n",
            " |-- cancellation_policy: string (nullable = true)\n",
            " |-- require_guest_profile_picture: string (nullable = true)\n",
            " |-- require_guest_phone_verification: string (nullable = true)\n",
            " |-- calculated_host_listings_count: string (nullable = true)\n",
            " |-- calculated_host_listings_count_entire_homes: string (nullable = true)\n",
            " |-- calculated_host_listings_count_private_rooms: string (nullable = true)\n",
            " |-- calculated_host_listings_count_shared_rooms: string (nullable = true)\n",
            " |-- reviews_per_month: string (nullable = true)\n",
            "\n"
          ]
        }
      ],
      "source": [
        "spark.read.option('header',True).option('inferSchema',True).csv('listings.csv').printSchema()"
      ]
    },
    {
      "cell_type": "code",
      "execution_count": 189,
      "metadata": {
        "ExecuteTime": {
          "end_time": "2021-10-31T14:35:36.175515Z",
          "start_time": "2021-10-31T14:35:36.170621Z"
        },
        "id": "qnbDRPXH4jnO"
      },
      "outputs": [
        {
          "data": {
            "text/html": [
              "<div>\n",
              "<style scoped>\n",
              "    .dataframe tbody tr th:only-of-type {\n",
              "        vertical-align: middle;\n",
              "    }\n",
              "\n",
              "    .dataframe tbody tr th {\n",
              "        vertical-align: top;\n",
              "    }\n",
              "\n",
              "    .dataframe thead th {\n",
              "        text-align: right;\n",
              "    }\n",
              "</style>\n",
              "<table border=\"1\" class=\"dataframe\">\n",
              "  <thead>\n",
              "    <tr style=\"text-align: right;\">\n",
              "      <th></th>\n",
              "      <th>id</th>\n",
              "      <th>listing_url</th>\n",
              "      <th>neighbourhood_cleansed</th>\n",
              "      <th>city</th>\n",
              "      <th>price</th>\n",
              "      <th>review_scores_rating</th>\n",
              "      <th>number_of_reviews</th>\n",
              "      <th>property_type</th>\n",
              "    </tr>\n",
              "  </thead>\n",
              "  <tbody>\n",
              "    <tr>\n",
              "      <th>0</th>\n",
              "      <td>145320</td>\n",
              "      <td>https://www.airbnb.com/rooms/145320</td>\n",
              "      <td>Södermalms</td>\n",
              "      <td>Stockholm</td>\n",
              "      <td>1272.0</td>\n",
              "      <td>97</td>\n",
              "      <td>72</td>\n",
              "      <td>Apartment</td>\n",
              "    </tr>\n",
              "    <tr>\n",
              "      <th>1</th>\n",
              "      <td>155220</td>\n",
              "      <td>https://www.airbnb.com/rooms/155220</td>\n",
              "      <td>Skarpnäcks</td>\n",
              "      <td>Stockholm</td>\n",
              "      <td>1203.0</td>\n",
              "      <td>None</td>\n",
              "      <td>0</td>\n",
              "      <td>House</td>\n",
              "    </tr>\n",
              "    <tr>\n",
              "      <th>2</th>\n",
              "      <td>155685</td>\n",
              "      <td>https://www.airbnb.com/rooms/155685</td>\n",
              "      <td>Södermalms</td>\n",
              "      <td>Stockholm</td>\n",
              "      <td>3209.0</td>\n",
              "      <td>94</td>\n",
              "      <td>22</td>\n",
              "      <td>Apartment</td>\n",
              "    </tr>\n",
              "    <tr>\n",
              "      <th>3</th>\n",
              "      <td>164448</td>\n",
              "      <td>https://www.airbnb.com/rooms/164448</td>\n",
              "      <td>Södermalms</td>\n",
              "      <td>Stockholm</td>\n",
              "      <td>597.0</td>\n",
              "      <td>97</td>\n",
              "      <td>311</td>\n",
              "      <td>Apartment</td>\n",
              "    </tr>\n",
              "    <tr>\n",
              "      <th>4</th>\n",
              "      <td>170651</td>\n",
              "      <td>https://www.airbnb.com/rooms/170651</td>\n",
              "      <td>Södermalms</td>\n",
              "      <td>Stockholm</td>\n",
              "      <td>734.0</td>\n",
              "      <td>93</td>\n",
              "      <td>33</td>\n",
              "      <td>Apartment</td>\n",
              "    </tr>\n",
              "    <tr>\n",
              "      <th>...</th>\n",
              "      <td>...</td>\n",
              "      <td>...</td>\n",
              "      <td>...</td>\n",
              "      <td>...</td>\n",
              "      <td>...</td>\n",
              "      <td>...</td>\n",
              "      <td>...</td>\n",
              "      <td>...</td>\n",
              "    </tr>\n",
              "    <tr>\n",
              "      <th>1330739</th>\n",
              "      <td>38882480</td>\n",
              "      <td>https://www.airbnb.com/rooms/38882480</td>\n",
              "      <td>Meadows and Southside</td>\n",
              "      <td>Edinburgh</td>\n",
              "      <td>99.0</td>\n",
              "      <td>None</td>\n",
              "      <td>0</td>\n",
              "      <td>House</td>\n",
              "    </tr>\n",
              "    <tr>\n",
              "      <th>1330740</th>\n",
              "      <td>38883126</td>\n",
              "      <td>https://www.airbnb.com/rooms/38883126</td>\n",
              "      <td>Canongate, Southside and Dumbiedykes</td>\n",
              "      <td>Edinburgh</td>\n",
              "      <td>99.0</td>\n",
              "      <td>None</td>\n",
              "      <td>0</td>\n",
              "      <td>House</td>\n",
              "    </tr>\n",
              "    <tr>\n",
              "      <th>1330741</th>\n",
              "      <td>38885064</td>\n",
              "      <td>https://www.airbnb.com/rooms/38885064</td>\n",
              "      <td>New Town West</td>\n",
              "      <td>Edinburgh</td>\n",
              "      <td>99.0</td>\n",
              "      <td>None</td>\n",
              "      <td>0</td>\n",
              "      <td>House</td>\n",
              "    </tr>\n",
              "    <tr>\n",
              "      <th>1330742</th>\n",
              "      <td>38887396</td>\n",
              "      <td>https://www.airbnb.com/rooms/38887396</td>\n",
              "      <td>Craigleith, Orchard Brae and Crewe Toll</td>\n",
              "      <td>Edinburgh</td>\n",
              "      <td>150.0</td>\n",
              "      <td>None</td>\n",
              "      <td>0</td>\n",
              "      <td>Apartment</td>\n",
              "    </tr>\n",
              "    <tr>\n",
              "      <th>1330743</th>\n",
              "      <td>38891798</td>\n",
              "      <td>https://www.airbnb.com/rooms/38891798</td>\n",
              "      <td>Meadows and Southside</td>\n",
              "      <td>Edinburgh</td>\n",
              "      <td>131.0</td>\n",
              "      <td>None</td>\n",
              "      <td>0</td>\n",
              "      <td>Apartment</td>\n",
              "    </tr>\n",
              "  </tbody>\n",
              "</table>\n",
              "<p>1330744 rows × 8 columns</p>\n",
              "</div>"
            ],
            "text/plain": [
              "               id                            listing_url  \\\n",
              "0          145320    https://www.airbnb.com/rooms/145320   \n",
              "1          155220    https://www.airbnb.com/rooms/155220   \n",
              "2          155685    https://www.airbnb.com/rooms/155685   \n",
              "3          164448    https://www.airbnb.com/rooms/164448   \n",
              "4          170651    https://www.airbnb.com/rooms/170651   \n",
              "...           ...                                    ...   \n",
              "1330739  38882480  https://www.airbnb.com/rooms/38882480   \n",
              "1330740  38883126  https://www.airbnb.com/rooms/38883126   \n",
              "1330741  38885064  https://www.airbnb.com/rooms/38885064   \n",
              "1330742  38887396  https://www.airbnb.com/rooms/38887396   \n",
              "1330743  38891798  https://www.airbnb.com/rooms/38891798   \n",
              "\n",
              "                          neighbourhood_cleansed       city   price  \\\n",
              "0                                     Södermalms  Stockholm  1272.0   \n",
              "1                                     Skarpnäcks  Stockholm  1203.0   \n",
              "2                                     Södermalms  Stockholm  3209.0   \n",
              "3                                     Södermalms  Stockholm   597.0   \n",
              "4                                     Södermalms  Stockholm   734.0   \n",
              "...                                          ...        ...     ...   \n",
              "1330739                    Meadows and Southside  Edinburgh    99.0   \n",
              "1330740     Canongate, Southside and Dumbiedykes  Edinburgh    99.0   \n",
              "1330741                            New Town West  Edinburgh    99.0   \n",
              "1330742  Craigleith, Orchard Brae and Crewe Toll  Edinburgh   150.0   \n",
              "1330743                    Meadows and Southside  Edinburgh   131.0   \n",
              "\n",
              "        review_scores_rating number_of_reviews property_type  \n",
              "0                         97                72     Apartment  \n",
              "1                       None                 0         House  \n",
              "2                         94                22     Apartment  \n",
              "3                         97               311     Apartment  \n",
              "4                         93                33     Apartment  \n",
              "...                      ...               ...           ...  \n",
              "1330739                 None                 0         House  \n",
              "1330740                 None                 0         House  \n",
              "1330741                 None                 0         House  \n",
              "1330742                 None                 0     Apartment  \n",
              "1330743                 None                 0     Apartment  \n",
              "\n",
              "[1330744 rows x 8 columns]"
            ]
          },
          "execution_count": 189,
          "metadata": {},
          "output_type": "execute_result"
        }
      ],
      "source": [
        "# Your code goes here\n",
        "df_listings_analysis = df_listings.select(F.col('id'),F.col('listing_url'),F.col('neighbourhood_cleansed'),\n",
        "                                            F.col('city'),F.col('price'),F.col('review_scores_rating'), \n",
        "                                            F.col('number_of_reviews'),F.col('property_type')) \\\n",
        "                                        .withColumn(\"price\", F.translate(F.col(\"price\"), \"[$,]\",\"\") \\\n",
        "                                        .cast(pyspark.sql.types.DoubleType())) \\\n",
        "                                        .cache()\n",
        "\n",
        "df_listings_analysis.toPandas()"
      ]
    },
    {
      "cell_type": "markdown",
      "metadata": {
        "id": "1QZ0w17Y4jnO"
      },
      "source": [
        "## Part 2: Listing and neighbourhood counts (5 pts)\n",
        "\n",
        "Compute and visualise the number of listings and the number of different neighbourhoods per city, restricted to the 15 cities having the most listings. The x-axis should be ordered by number of listings (high to low).\n",
        "\n",
        "Make sure to use the `neighbourhood_cleansed` column in your computations.\n"
      ]
    },
    {
      "cell_type": "code",
      "execution_count": 14,
      "metadata": {
        "ExecuteTime": {
          "end_time": "2021-10-31T14:35:44.882818Z",
          "start_time": "2021-10-31T14:35:44.880268Z"
        },
        "id": "kxo1ZH_q4jnO"
      },
      "outputs": [
        {
          "data": {
            "image/png": "[encoded data removed]",
            "text/plain": [
              "<Figure size 1152x720 with 2 Axes>"
            ]
          },
          "metadata": {
            "needs_background": "light"
          },
          "output_type": "display_data"
        }
      ],
      "source": [
        "# your code goes here\n",
        "listings = df_listings_analysis.groupBy('city') \\\n",
        "                               .agg(F.countDistinct('neighbourhood_cleansed').alias('neighbourhood'),F.count('listing_url').alias('No_listing_url')) \\\n",
        "                               .sort(F.desc(F.count('listing_url'))) \\\n",
        "                               .limit(15).toPandas() \\\n",
        "                               .set_index('city')\n",
        "\n",
        "#plot the counts\n",
        "_ = listings.plot( kind= 'bar' , secondary_y= 'neighbourhood' , rot= 0 ,figsize=(16,10))\n",
        "plt.title('Listing and Neighbourhood counts',fontsize=18)\n",
        "plt.show()"
      ]
    },
    {
      "cell_type": "markdown",
      "metadata": {
        "id": "b9BFleEJ4jnO"
      },
      "source": [
        "## Part 3: Price averages (5 pts)\n",
        "\n",
        "Compute and visualise the average price of listings per city, restricted to the 15 cities having the most listings."
      ]
    },
    {
      "cell_type": "code",
      "execution_count": 305,
      "metadata": {
        "ExecuteTime": {
          "end_time": "2021-10-31T14:35:50.717376Z",
          "start_time": "2021-10-31T14:35:50.714248Z"
        },
        "id": "nfggw4Sp4jnO"
      },
      "outputs": [
        {
          "data": {
            "image/png": "[encoded data removed]",
            "text/plain": [
              "<Figure size 1296x720 with 1 Axes>"
            ]
          },
          "metadata": {
            "needs_background": "light"
          },
          "output_type": "display_data"
        }
      ],
      "source": [
        "# your code goes here\n",
        "avg_listings = df_listings_analysis.groupBy('city') \\\n",
        "                               .agg(F.avg('price').alias('price')) \\\n",
        "                               .sort(F.desc(F.count('listing_url'))) \\\n",
        "                               .limit(15).toPandas() \n",
        "\n",
        "#i havent sorted the values because he says that should be ordered by the number of listings\n",
        "_ = avg_listings.set_index('city').plot( kind= 'bar'  , rot= 0 ,figsize=(18,10)) #sort_values(by='avg(price)',ascending=False)\n",
        "plt.title('Prices average',fontsize=18)\n",
        "plt.show()"
      ]
    },
    {
      "cell_type": "markdown",
      "metadata": {
        "id": "OIpHBUBk4jnO"
      },
      "source": [
        "## Part 4: Value for money (5 pts)\n",
        "\n",
        "The value of a listing is its rating divided by its price. The value of a city is the average value of its listings. \n",
        "\n",
        "Prices are only comparable when the local currency is the same. We'll therefore consider a subset of Euro-zone cities as defined in `eurozone_cities`.\n",
        "\n",
        "Compute and visualise the value per city, restricted to the Euro-zone cities."
      ]
    },
    {
      "cell_type": "code",
      "execution_count": 226,
      "metadata": {
        "ExecuteTime": {
          "end_time": "2021-10-27T15:29:53.566725Z",
          "start_time": "2021-10-27T15:29:53.565232Z"
        },
        "id": "wqspMVZ24jnO"
      },
      "outputs": [],
      "source": [
        "eurozone_cities = [\n",
        "    'Paris', 'Roma', 'Berlin', 'Madrid', 'Amsterdam', 'Barcelona', 'Milano', 'Lisboa',\n",
        "    'München', 'Wien', 'Lyon', 'Firenze', 'Porto', 'Napoli', 'Bordeaux', 'Venezia',\n",
        "    'Málaga', 'Sevilla', 'València'\n",
        "]"
      ]
    },
    {
      "cell_type": "code",
      "execution_count": 303,
      "metadata": {
        "ExecuteTime": {
          "end_time": "2021-10-31T14:35:57.257011Z",
          "start_time": "2021-10-31T14:35:57.253676Z"
        },
        "id": "YtktiltR4jnP"
      },
      "outputs": [
        {
          "data": {
            "image/png": "[encoded data removed]",
            "text/plain": [
              "<Figure size 1296x720 with 1 Axes>"
            ]
          },
          "metadata": {
            "needs_background": "light"
          },
          "output_type": "display_data"
        }
      ],
      "source": [
        "# your code goes here\n",
        "listings_value =F.col('review_scores_rating')/F.col('price')\n",
        "eu_value = df_listings_analysis.filter(F.col('city').isin(eurozone_cities)) \\\n",
        "                                        .withColumn('listings_value',listings_value) \\\n",
        "                                        .groupBy('city').agg(F.avg('listings_value').alias('listings_value')) \\\n",
        "                                        .toPandas()\n",
        "\n",
        "_ = eu_value.set_index('city').sort_values(by='listings_value',ascending=False).plot( kind= 'bar'  , rot= 0 ,figsize=(18,10)) #sort_values(by='avg(price)',ascending=False)\n",
        "plt.title('Value for money',fontsize=18)\n",
        "plt.show()                                  "
      ]
    },
    {
      "cell_type": "markdown",
      "metadata": {
        "id": "DbJdSKC84jnP"
      },
      "source": [
        "# Exercise 2: The case of London (30 pts)\n",
        "\n",
        "In this exercise you must use Spark to do the data processing. \n",
        "* For parts where you present tabular data, this entails calling `toPandas` as the final step of your query. \n",
        "* For parts requiring visualisation, the `toPandas` call should be followed only by functions necessary to customize the plotting/layout steps (i.e. no data processing take place after your spark dataframe is materialized). \n",
        "* You may need multiple queries to solve the individual parts.\n",
        "\n",
        "Your dataframe is a subset of `df_listings_analysis` and should be named `df_listings_london`."
      ]
    },
    {
      "cell_type": "code",
      "execution_count": 190,
      "metadata": {
        "ExecuteTime": {
          "end_time": "2021-10-31T14:36:05.783859Z",
          "start_time": "2021-10-31T14:36:05.781830Z"
        },
        "id": "aeVpGvZF4jnP"
      },
      "outputs": [
        {
          "data": {
            "text/html": [
              "<div>\n",
              "<style scoped>\n",
              "    .dataframe tbody tr th:only-of-type {\n",
              "        vertical-align: middle;\n",
              "    }\n",
              "\n",
              "    .dataframe tbody tr th {\n",
              "        vertical-align: top;\n",
              "    }\n",
              "\n",
              "    .dataframe thead th {\n",
              "        text-align: right;\n",
              "    }\n",
              "</style>\n",
              "<table border=\"1\" class=\"dataframe\">\n",
              "  <thead>\n",
              "    <tr style=\"text-align: right;\">\n",
              "      <th></th>\n",
              "      <th>id</th>\n",
              "      <th>listing_url</th>\n",
              "      <th>neighbourhood_cleansed</th>\n",
              "      <th>city</th>\n",
              "      <th>price</th>\n",
              "      <th>review_scores_rating</th>\n",
              "      <th>number_of_reviews</th>\n",
              "      <th>property_type</th>\n",
              "    </tr>\n",
              "  </thead>\n",
              "  <tbody>\n",
              "    <tr>\n",
              "      <th>0</th>\n",
              "      <td>11551</td>\n",
              "      <td>https://www.airbnb.com/rooms/11551</td>\n",
              "      <td>Lambeth</td>\n",
              "      <td>London</td>\n",
              "      <td>88.0</td>\n",
              "      <td>92</td>\n",
              "      <td>184</td>\n",
              "      <td>Apartment</td>\n",
              "    </tr>\n",
              "    <tr>\n",
              "      <th>1</th>\n",
              "      <td>15400</td>\n",
              "      <td>https://www.airbnb.com/rooms/15400</td>\n",
              "      <td>Kensington and Chelsea</td>\n",
              "      <td>London</td>\n",
              "      <td>100.0</td>\n",
              "      <td>96</td>\n",
              "      <td>87</td>\n",
              "      <td>Apartment</td>\n",
              "    </tr>\n",
              "    <tr>\n",
              "      <th>2</th>\n",
              "      <td>17402</td>\n",
              "      <td>https://www.airbnb.com/rooms/17402</td>\n",
              "      <td>Westminster</td>\n",
              "      <td>London</td>\n",
              "      <td>300.0</td>\n",
              "      <td>94</td>\n",
              "      <td>41</td>\n",
              "      <td>Apartment</td>\n",
              "    </tr>\n",
              "    <tr>\n",
              "      <th>3</th>\n",
              "      <td>24328</td>\n",
              "      <td>https://www.airbnb.com/rooms/24328</td>\n",
              "      <td>Wandsworth</td>\n",
              "      <td>London</td>\n",
              "      <td>175.0</td>\n",
              "      <td>98</td>\n",
              "      <td>93</td>\n",
              "      <td>Townhouse</td>\n",
              "    </tr>\n",
              "    <tr>\n",
              "      <th>4</th>\n",
              "      <td>31361</td>\n",
              "      <td>https://www.airbnb.com/rooms/31361</td>\n",
              "      <td>Newham</td>\n",
              "      <td>London</td>\n",
              "      <td>34.0</td>\n",
              "      <td>97</td>\n",
              "      <td>115</td>\n",
              "      <td>Townhouse</td>\n",
              "    </tr>\n",
              "    <tr>\n",
              "      <th>...</th>\n",
              "      <td>...</td>\n",
              "      <td>...</td>\n",
              "      <td>...</td>\n",
              "      <td>...</td>\n",
              "      <td>...</td>\n",
              "      <td>...</td>\n",
              "      <td>...</td>\n",
              "      <td>...</td>\n",
              "    </tr>\n",
              "    <tr>\n",
              "      <th>33141</th>\n",
              "      <td>38592036</td>\n",
              "      <td>https://www.airbnb.com/rooms/38592036</td>\n",
              "      <td>Southwark</td>\n",
              "      <td>London</td>\n",
              "      <td>75.0</td>\n",
              "      <td>None</td>\n",
              "      <td>0</td>\n",
              "      <td>House</td>\n",
              "    </tr>\n",
              "    <tr>\n",
              "      <th>33142</th>\n",
              "      <td>38592739</td>\n",
              "      <td>https://www.airbnb.com/rooms/38592739</td>\n",
              "      <td>Kensington and Chelsea</td>\n",
              "      <td>London</td>\n",
              "      <td>160.0</td>\n",
              "      <td>None</td>\n",
              "      <td>0</td>\n",
              "      <td>Apartment</td>\n",
              "    </tr>\n",
              "    <tr>\n",
              "      <th>33143</th>\n",
              "      <td>38593102</td>\n",
              "      <td>https://www.airbnb.com/rooms/38593102</td>\n",
              "      <td>Hammersmith and Fulham</td>\n",
              "      <td>London</td>\n",
              "      <td>80.0</td>\n",
              "      <td>None</td>\n",
              "      <td>0</td>\n",
              "      <td>Apartment</td>\n",
              "    </tr>\n",
              "    <tr>\n",
              "      <th>33144</th>\n",
              "      <td>38593108</td>\n",
              "      <td>https://www.airbnb.com/rooms/38593108</td>\n",
              "      <td>Barnet</td>\n",
              "      <td>London</td>\n",
              "      <td>120.0</td>\n",
              "      <td>None</td>\n",
              "      <td>0</td>\n",
              "      <td>Apartment</td>\n",
              "    </tr>\n",
              "    <tr>\n",
              "      <th>33145</th>\n",
              "      <td>38597151</td>\n",
              "      <td>https://www.airbnb.com/rooms/38597151</td>\n",
              "      <td>Westminster</td>\n",
              "      <td>London</td>\n",
              "      <td>140.0</td>\n",
              "      <td>None</td>\n",
              "      <td>0</td>\n",
              "      <td>Apartment</td>\n",
              "    </tr>\n",
              "  </tbody>\n",
              "</table>\n",
              "<p>33146 rows × 8 columns</p>\n",
              "</div>"
            ],
            "text/plain": [
              "             id                            listing_url  \\\n",
              "0         11551     https://www.airbnb.com/rooms/11551   \n",
              "1         15400     https://www.airbnb.com/rooms/15400   \n",
              "2         17402     https://www.airbnb.com/rooms/17402   \n",
              "3         24328     https://www.airbnb.com/rooms/24328   \n",
              "4         31361     https://www.airbnb.com/rooms/31361   \n",
              "...         ...                                    ...   \n",
              "33141  38592036  https://www.airbnb.com/rooms/38592036   \n",
              "33142  38592739  https://www.airbnb.com/rooms/38592739   \n",
              "33143  38593102  https://www.airbnb.com/rooms/38593102   \n",
              "33144  38593108  https://www.airbnb.com/rooms/38593108   \n",
              "33145  38597151  https://www.airbnb.com/rooms/38597151   \n",
              "\n",
              "       neighbourhood_cleansed    city  price review_scores_rating  \\\n",
              "0                     Lambeth  London   88.0                   92   \n",
              "1      Kensington and Chelsea  London  100.0                   96   \n",
              "2                 Westminster  London  300.0                   94   \n",
              "3                  Wandsworth  London  175.0                   98   \n",
              "4                      Newham  London   34.0                   97   \n",
              "...                       ...     ...    ...                  ...   \n",
              "33141               Southwark  London   75.0                 None   \n",
              "33142  Kensington and Chelsea  London  160.0                 None   \n",
              "33143  Hammersmith and Fulham  London   80.0                 None   \n",
              "33144                  Barnet  London  120.0                 None   \n",
              "33145             Westminster  London  140.0                 None   \n",
              "\n",
              "      number_of_reviews property_type  \n",
              "0                   184     Apartment  \n",
              "1                    87     Apartment  \n",
              "2                    41     Apartment  \n",
              "3                    93     Townhouse  \n",
              "4                   115     Townhouse  \n",
              "...                 ...           ...  \n",
              "33141                 0         House  \n",
              "33142                 0     Apartment  \n",
              "33143                 0     Apartment  \n",
              "33144                 0     Apartment  \n",
              "33145                 0     Apartment  \n",
              "\n",
              "[33146 rows x 8 columns]"
            ]
          },
          "execution_count": 190,
          "metadata": {},
          "output_type": "execute_result"
        }
      ],
      "source": [
        "# your code goes here\n",
        "df_listings_london = df_listings_analysis.filter((F.col('city')=='London') | (F.col('city')=='london'))\n",
        "df_listings_london.toPandas()\n",
        "                                "
      ]
    },
    {
      "cell_type": "markdown",
      "metadata": {
        "id": "O-KJqz1H4jnP"
      },
      "source": [
        "## Part 1: Price distribution (5 pts)\n",
        "\n",
        "Compute and visualise the distribution of prices, for all prices up to and including the 95-percentile. Additionally, compute and visualise the distribution of prices, for all prices above the 95-percentile."
      ]
    },
    {
      "cell_type": "code",
      "execution_count": 198,
      "metadata": {
        "ExecuteTime": {
          "end_time": "2021-10-31T14:36:15.616156Z",
          "start_time": "2021-10-31T14:36:15.613196Z"
        },
        "id": "kWc-mqph4jnP"
      },
      "outputs": [
        {
          "data": {
            "text/plain": [
              "Text(0.5, 1.0, 'Above 95th Percentile')"
            ]
          },
          "execution_count": 198,
          "metadata": {},
          "output_type": "execute_result"
        },
        {
          "data": {
            "image/png": "[encoded data removed]",
            "text/plain": [
              "<Figure size 1152x576 with 2 Axes>"
            ]
          },
          "metadata": {
            "needs_background": "light"
          },
          "output_type": "display_data"
        }
      ],
      "source": [
        "# your code goes here\n",
        "\n",
        "# #not sure if this is correct\n",
        "quantile_below = F.col('price')<=df_listings_london.approxQuantile('price',[0.95],0)[0]\n",
        "quantile = F.col('price')>df_listings_london.approxQuantile('price',[0.95],0)[0]\n",
        "\n",
        "\n",
        "df1 = df_listings_london.filter(quantile_below).toPandas()\n",
        "df2 = df_listings_london.filter(quantile).toPandas()\n",
        "\n",
        "\n",
        "\n",
        "fig, ax = plt.subplots(nrows=1,ncols=2,figsize = (16,8))\n",
        "ax[0].hist(df1['price'], density = False, bins = 15) # change density to true, because KDE uses density\n",
        "ax[1].hist(df2['price'], density = False, bins = 100) # change density to true, because KDE uses density\n",
        "ax[0].set_title('Including 95th Percentile')\n",
        "ax[1].set_title('Above 95th Percentile')\n",
        "\n"
      ]
    },
    {
      "cell_type": "markdown",
      "metadata": {
        "id": "C2Oa37Ck4jnP"
      },
      "source": [
        "## Part 2: Prices by type of property (5 pts)\n",
        "\n",
        "Compute and visualise the average price and average rating per type of property, for property types with 75 or more listings. \n",
        "\n",
        "Your visualisation should be a single bar chart with two y-axes and two bars per property type. The x-axis should be ordered by average rating."
      ]
    },
    {
      "cell_type": "code",
      "execution_count": 415,
      "metadata": {
        "ExecuteTime": {
          "end_time": "2021-10-31T14:36:21.187516Z",
          "start_time": "2021-10-31T14:36:21.179099Z"
        },
        "id": "b5jx-W9O4jnP"
      },
      "outputs": [
        {
          "data": {
            "image/png": "[encoded data removed]",
            "text/plain": [
              "<Figure size 1440x720 with 2 Axes>"
            ]
          },
          "metadata": {
            "needs_background": "light"
          },
          "output_type": "display_data"
        }
      ],
      "source": [
        "# your code goes here\n",
        "price_property = df_listings_london.groupBy('property_type') \\\n",
        "                                    .agg(F.avg('price').alias('price'),\n",
        "                                         F.avg('review_scores_rating').alias('review_scores'))\\\n",
        "                                    .filter(F.count('listing_url')>75).toPandas()\n",
        "                                    #.sort(F.desc(F.avg('review_scores_rating'))) \\\n",
        "                                    \n",
        "\n",
        "\n",
        "price_property.set_index('property_type').sort_values(ascending=False,by='review_scores').plot( kind= 'bar' , secondary_y= 'review_scores' , rot= 0 ,figsize=(20,10))\n",
        "plt.title('Properties',fontsize=18)\n",
        "plt.show()"
      ]
    },
    {
      "cell_type": "markdown",
      "metadata": {
        "id": "rvUyAWA94jnP"
      },
      "source": [
        "## Part 3: Best offering in the neighbourhood (10 pts)\n",
        "\n",
        "The value of a listing is its rating divided by its price. Compute and display a dataframe (with the columns you selected in Exercise 1 and those computed in this part) with the 3 highest valued listings in each neighbourhood, and having a value above 5. Make sure to use the `neighbourhood_cleansed` column in your computations.\n",
        "\n",
        "Computing ranks based on value can be achieved using `pyspark.sql.window.Window`. This may produce equal ranks (i.e. when the value of two listings are the same).\n",
        "\n",
        "Remember to use `pd.set_option('display.max_rows', <n>)` with appropriate `<n>` so all rows are displayed."
      ]
    },
    {
      "cell_type": "code",
      "execution_count": 351,
      "metadata": {
        "ExecuteTime": {
          "end_time": "2021-10-27T15:30:05.393213Z",
          "start_time": "2021-10-27T15:30:03.259525Z"
        },
        "id": "8lmAGdHw4jnQ"
      },
      "outputs": [
        {
          "data": {
            "text/html": [
              "<div>\n",
              "<style scoped>\n",
              "    .dataframe tbody tr th:only-of-type {\n",
              "        vertical-align: middle;\n",
              "    }\n",
              "\n",
              "    .dataframe tbody tr th {\n",
              "        vertical-align: top;\n",
              "    }\n",
              "\n",
              "    .dataframe thead th {\n",
              "        text-align: right;\n",
              "    }\n",
              "</style>\n",
              "<table border=\"1\" class=\"dataframe\">\n",
              "  <thead>\n",
              "    <tr style=\"text-align: right;\">\n",
              "      <th></th>\n",
              "      <th>neighbourhood_cleansed</th>\n",
              "      <th>listings_value</th>\n",
              "      <th>rank</th>\n",
              "      <th>avg(price)</th>\n",
              "    </tr>\n",
              "  </thead>\n",
              "  <tbody>\n",
              "    <tr>\n",
              "      <th>0</th>\n",
              "      <td>Croydon</td>\n",
              "      <td>5.111111</td>\n",
              "      <td>1</td>\n",
              "      <td>18.0</td>\n",
              "    </tr>\n",
              "    <tr>\n",
              "      <th>1</th>\n",
              "      <td>Croydon</td>\n",
              "      <td>5.105263</td>\n",
              "      <td>2</td>\n",
              "      <td>19.0</td>\n",
              "    </tr>\n",
              "    <tr>\n",
              "      <th>2</th>\n",
              "      <td>Wandsworth</td>\n",
              "      <td>6.666667</td>\n",
              "      <td>1</td>\n",
              "      <td>15.0</td>\n",
              "    </tr>\n",
              "    <tr>\n",
              "      <th>3</th>\n",
              "      <td>Wandsworth</td>\n",
              "      <td>5.937500</td>\n",
              "      <td>2</td>\n",
              "      <td>16.0</td>\n",
              "    </tr>\n",
              "    <tr>\n",
              "      <th>4</th>\n",
              "      <td>Wandsworth</td>\n",
              "      <td>5.555556</td>\n",
              "      <td>3</td>\n",
              "      <td>18.0</td>\n",
              "    </tr>\n",
              "    <tr>\n",
              "      <th>5</th>\n",
              "      <td>Lambeth</td>\n",
              "      <td>6.600000</td>\n",
              "      <td>1</td>\n",
              "      <td>15.0</td>\n",
              "    </tr>\n",
              "    <tr>\n",
              "      <th>6</th>\n",
              "      <td>Lambeth</td>\n",
              "      <td>5.588235</td>\n",
              "      <td>2</td>\n",
              "      <td>17.0</td>\n",
              "    </tr>\n",
              "    <tr>\n",
              "      <th>7</th>\n",
              "      <td>Lambeth</td>\n",
              "      <td>5.277778</td>\n",
              "      <td>3</td>\n",
              "      <td>18.0</td>\n",
              "    </tr>\n",
              "    <tr>\n",
              "      <th>8</th>\n",
              "      <td>Camden</td>\n",
              "      <td>5.625000</td>\n",
              "      <td>1</td>\n",
              "      <td>16.0</td>\n",
              "    </tr>\n",
              "    <tr>\n",
              "      <th>9</th>\n",
              "      <td>Camden</td>\n",
              "      <td>5.333333</td>\n",
              "      <td>2</td>\n",
              "      <td>15.0</td>\n",
              "    </tr>\n",
              "    <tr>\n",
              "      <th>10</th>\n",
              "      <td>Camden</td>\n",
              "      <td>5.294118</td>\n",
              "      <td>3</td>\n",
              "      <td>17.0</td>\n",
              "    </tr>\n",
              "    <tr>\n",
              "      <th>11</th>\n",
              "      <td>Greenwich</td>\n",
              "      <td>10.000000</td>\n",
              "      <td>1</td>\n",
              "      <td>10.0</td>\n",
              "    </tr>\n",
              "    <tr>\n",
              "      <th>12</th>\n",
              "      <td>Greenwich</td>\n",
              "      <td>7.000000</td>\n",
              "      <td>2</td>\n",
              "      <td>14.0</td>\n",
              "    </tr>\n",
              "    <tr>\n",
              "      <th>13</th>\n",
              "      <td>Greenwich</td>\n",
              "      <td>6.666667</td>\n",
              "      <td>3</td>\n",
              "      <td>15.0</td>\n",
              "    </tr>\n",
              "    <tr>\n",
              "      <th>14</th>\n",
              "      <td>Newham</td>\n",
              "      <td>10.000000</td>\n",
              "      <td>1</td>\n",
              "      <td>10.0</td>\n",
              "    </tr>\n",
              "    <tr>\n",
              "      <th>15</th>\n",
              "      <td>Newham</td>\n",
              "      <td>7.142857</td>\n",
              "      <td>2</td>\n",
              "      <td>14.0</td>\n",
              "    </tr>\n",
              "    <tr>\n",
              "      <th>16</th>\n",
              "      <td>Newham</td>\n",
              "      <td>6.000000</td>\n",
              "      <td>3</td>\n",
              "      <td>15.0</td>\n",
              "    </tr>\n",
              "    <tr>\n",
              "      <th>17</th>\n",
              "      <td>Tower Hamlets</td>\n",
              "      <td>6.066667</td>\n",
              "      <td>1</td>\n",
              "      <td>15.0</td>\n",
              "    </tr>\n",
              "    <tr>\n",
              "      <th>18</th>\n",
              "      <td>Tower Hamlets</td>\n",
              "      <td>5.117647</td>\n",
              "      <td>2</td>\n",
              "      <td>17.0</td>\n",
              "    </tr>\n",
              "    <tr>\n",
              "      <th>19</th>\n",
              "      <td>Barnet</td>\n",
              "      <td>5.157895</td>\n",
              "      <td>1</td>\n",
              "      <td>19.0</td>\n",
              "    </tr>\n",
              "    <tr>\n",
              "      <th>20</th>\n",
              "      <td>Kensington and Chelsea</td>\n",
              "      <td>5.235294</td>\n",
              "      <td>1</td>\n",
              "      <td>17.0</td>\n",
              "    </tr>\n",
              "    <tr>\n",
              "      <th>21</th>\n",
              "      <td>Islington</td>\n",
              "      <td>9.666667</td>\n",
              "      <td>1</td>\n",
              "      <td>9.0</td>\n",
              "    </tr>\n",
              "    <tr>\n",
              "      <th>22</th>\n",
              "      <td>Islington</td>\n",
              "      <td>7.300000</td>\n",
              "      <td>2</td>\n",
              "      <td>10.0</td>\n",
              "    </tr>\n",
              "    <tr>\n",
              "      <th>23</th>\n",
              "      <td>Islington</td>\n",
              "      <td>6.533333</td>\n",
              "      <td>3</td>\n",
              "      <td>15.0</td>\n",
              "    </tr>\n",
              "    <tr>\n",
              "      <th>24</th>\n",
              "      <td>Brent</td>\n",
              "      <td>6.500000</td>\n",
              "      <td>1</td>\n",
              "      <td>14.0</td>\n",
              "    </tr>\n",
              "    <tr>\n",
              "      <th>25</th>\n",
              "      <td>Brent</td>\n",
              "      <td>6.266667</td>\n",
              "      <td>2</td>\n",
              "      <td>15.0</td>\n",
              "    </tr>\n",
              "    <tr>\n",
              "      <th>26</th>\n",
              "      <td>Brent</td>\n",
              "      <td>6.230769</td>\n",
              "      <td>3</td>\n",
              "      <td>13.0</td>\n",
              "    </tr>\n",
              "    <tr>\n",
              "      <th>27</th>\n",
              "      <td>Haringey</td>\n",
              "      <td>6.533333</td>\n",
              "      <td>1</td>\n",
              "      <td>15.0</td>\n",
              "    </tr>\n",
              "    <tr>\n",
              "      <th>28</th>\n",
              "      <td>Haringey</td>\n",
              "      <td>6.250000</td>\n",
              "      <td>2</td>\n",
              "      <td>16.0</td>\n",
              "    </tr>\n",
              "    <tr>\n",
              "      <th>29</th>\n",
              "      <td>Haringey</td>\n",
              "      <td>5.823529</td>\n",
              "      <td>3</td>\n",
              "      <td>17.0</td>\n",
              "    </tr>\n",
              "    <tr>\n",
              "      <th>30</th>\n",
              "      <td>Bromley</td>\n",
              "      <td>10.000000</td>\n",
              "      <td>1</td>\n",
              "      <td>10.0</td>\n",
              "    </tr>\n",
              "    <tr>\n",
              "      <th>31</th>\n",
              "      <td>Merton</td>\n",
              "      <td>5.052632</td>\n",
              "      <td>1</td>\n",
              "      <td>19.0</td>\n",
              "    </tr>\n",
              "    <tr>\n",
              "      <th>32</th>\n",
              "      <td>Westminster</td>\n",
              "      <td>8.800000</td>\n",
              "      <td>1</td>\n",
              "      <td>10.0</td>\n",
              "    </tr>\n",
              "    <tr>\n",
              "      <th>33</th>\n",
              "      <td>Westminster</td>\n",
              "      <td>8.700000</td>\n",
              "      <td>2</td>\n",
              "      <td>10.0</td>\n",
              "    </tr>\n",
              "    <tr>\n",
              "      <th>34</th>\n",
              "      <td>Westminster</td>\n",
              "      <td>8.500000</td>\n",
              "      <td>3</td>\n",
              "      <td>10.0</td>\n",
              "    </tr>\n",
              "    <tr>\n",
              "      <th>35</th>\n",
              "      <td>Hackney</td>\n",
              "      <td>10.000000</td>\n",
              "      <td>1</td>\n",
              "      <td>9.0</td>\n",
              "    </tr>\n",
              "    <tr>\n",
              "      <th>36</th>\n",
              "      <td>Hackney</td>\n",
              "      <td>5.882353</td>\n",
              "      <td>2</td>\n",
              "      <td>17.0</td>\n",
              "    </tr>\n",
              "    <tr>\n",
              "      <th>37</th>\n",
              "      <td>Southwark</td>\n",
              "      <td>10.000000</td>\n",
              "      <td>1</td>\n",
              "      <td>10.0</td>\n",
              "    </tr>\n",
              "    <tr>\n",
              "      <th>38</th>\n",
              "      <td>Southwark</td>\n",
              "      <td>7.272727</td>\n",
              "      <td>2</td>\n",
              "      <td>11.0</td>\n",
              "    </tr>\n",
              "    <tr>\n",
              "      <th>39</th>\n",
              "      <td>Southwark</td>\n",
              "      <td>5.555556</td>\n",
              "      <td>3</td>\n",
              "      <td>18.0</td>\n",
              "    </tr>\n",
              "    <tr>\n",
              "      <th>40</th>\n",
              "      <td>Enfield</td>\n",
              "      <td>5.882353</td>\n",
              "      <td>1</td>\n",
              "      <td>17.0</td>\n",
              "    </tr>\n",
              "    <tr>\n",
              "      <th>41</th>\n",
              "      <td>Enfield</td>\n",
              "      <td>5.764706</td>\n",
              "      <td>2</td>\n",
              "      <td>17.0</td>\n",
              "    </tr>\n",
              "    <tr>\n",
              "      <th>42</th>\n",
              "      <td>Enfield</td>\n",
              "      <td>5.500000</td>\n",
              "      <td>3</td>\n",
              "      <td>18.0</td>\n",
              "    </tr>\n",
              "    <tr>\n",
              "      <th>43</th>\n",
              "      <td>Ealing</td>\n",
              "      <td>10.000000</td>\n",
              "      <td>1</td>\n",
              "      <td>10.0</td>\n",
              "    </tr>\n",
              "    <tr>\n",
              "      <th>44</th>\n",
              "      <td>Ealing</td>\n",
              "      <td>8.333333</td>\n",
              "      <td>2</td>\n",
              "      <td>12.0</td>\n",
              "    </tr>\n",
              "    <tr>\n",
              "      <th>45</th>\n",
              "      <td>Ealing</td>\n",
              "      <td>5.882353</td>\n",
              "      <td>3</td>\n",
              "      <td>17.0</td>\n",
              "    </tr>\n",
              "    <tr>\n",
              "      <th>46</th>\n",
              "      <td>Waltham Forest</td>\n",
              "      <td>7.692308</td>\n",
              "      <td>1</td>\n",
              "      <td>13.0</td>\n",
              "    </tr>\n",
              "    <tr>\n",
              "      <th>47</th>\n",
              "      <td>Waltham Forest</td>\n",
              "      <td>7.166667</td>\n",
              "      <td>2</td>\n",
              "      <td>12.0</td>\n",
              "    </tr>\n",
              "    <tr>\n",
              "      <th>48</th>\n",
              "      <td>Waltham Forest</td>\n",
              "      <td>6.666667</td>\n",
              "      <td>3</td>\n",
              "      <td>15.0</td>\n",
              "    </tr>\n",
              "    <tr>\n",
              "      <th>49</th>\n",
              "      <td>Redbridge</td>\n",
              "      <td>5.277778</td>\n",
              "      <td>1</td>\n",
              "      <td>18.0</td>\n",
              "    </tr>\n",
              "    <tr>\n",
              "      <th>50</th>\n",
              "      <td>Redbridge</td>\n",
              "      <td>5.222222</td>\n",
              "      <td>2</td>\n",
              "      <td>18.0</td>\n",
              "    </tr>\n",
              "    <tr>\n",
              "      <th>51</th>\n",
              "      <td>Lewisham</td>\n",
              "      <td>9.000000</td>\n",
              "      <td>1</td>\n",
              "      <td>10.0</td>\n",
              "    </tr>\n",
              "    <tr>\n",
              "      <th>52</th>\n",
              "      <td>Lewisham</td>\n",
              "      <td>6.466667</td>\n",
              "      <td>2</td>\n",
              "      <td>15.0</td>\n",
              "    </tr>\n",
              "    <tr>\n",
              "      <th>53</th>\n",
              "      <td>Lewisham</td>\n",
              "      <td>6.214286</td>\n",
              "      <td>3</td>\n",
              "      <td>14.0</td>\n",
              "    </tr>\n",
              "  </tbody>\n",
              "</table>\n",
              "</div>"
            ],
            "text/plain": [
              "    neighbourhood_cleansed  listings_value  rank  avg(price)\n",
              "0                  Croydon        5.111111     1        18.0\n",
              "1                  Croydon        5.105263     2        19.0\n",
              "2               Wandsworth        6.666667     1        15.0\n",
              "3               Wandsworth        5.937500     2        16.0\n",
              "4               Wandsworth        5.555556     3        18.0\n",
              "5                  Lambeth        6.600000     1        15.0\n",
              "6                  Lambeth        5.588235     2        17.0\n",
              "7                  Lambeth        5.277778     3        18.0\n",
              "8                   Camden        5.625000     1        16.0\n",
              "9                   Camden        5.333333     2        15.0\n",
              "10                  Camden        5.294118     3        17.0\n",
              "11               Greenwich       10.000000     1        10.0\n",
              "12               Greenwich        7.000000     2        14.0\n",
              "13               Greenwich        6.666667     3        15.0\n",
              "14                  Newham       10.000000     1        10.0\n",
              "15                  Newham        7.142857     2        14.0\n",
              "16                  Newham        6.000000     3        15.0\n",
              "17           Tower Hamlets        6.066667     1        15.0\n",
              "18           Tower Hamlets        5.117647     2        17.0\n",
              "19                  Barnet        5.157895     1        19.0\n",
              "20  Kensington and Chelsea        5.235294     1        17.0\n",
              "21               Islington        9.666667     1         9.0\n",
              "22               Islington        7.300000     2        10.0\n",
              "23               Islington        6.533333     3        15.0\n",
              "24                   Brent        6.500000     1        14.0\n",
              "25                   Brent        6.266667     2        15.0\n",
              "26                   Brent        6.230769     3        13.0\n",
              "27                Haringey        6.533333     1        15.0\n",
              "28                Haringey        6.250000     2        16.0\n",
              "29                Haringey        5.823529     3        17.0\n",
              "30                 Bromley       10.000000     1        10.0\n",
              "31                  Merton        5.052632     1        19.0\n",
              "32             Westminster        8.800000     1        10.0\n",
              "33             Westminster        8.700000     2        10.0\n",
              "34             Westminster        8.500000     3        10.0\n",
              "35                 Hackney       10.000000     1         9.0\n",
              "36                 Hackney        5.882353     2        17.0\n",
              "37               Southwark       10.000000     1        10.0\n",
              "38               Southwark        7.272727     2        11.0\n",
              "39               Southwark        5.555556     3        18.0\n",
              "40                 Enfield        5.882353     1        17.0\n",
              "41                 Enfield        5.764706     2        17.0\n",
              "42                 Enfield        5.500000     3        18.0\n",
              "43                  Ealing       10.000000     1        10.0\n",
              "44                  Ealing        8.333333     2        12.0\n",
              "45                  Ealing        5.882353     3        17.0\n",
              "46          Waltham Forest        7.692308     1        13.0\n",
              "47          Waltham Forest        7.166667     2        12.0\n",
              "48          Waltham Forest        6.666667     3        15.0\n",
              "49               Redbridge        5.277778     1        18.0\n",
              "50               Redbridge        5.222222     2        18.0\n",
              "51                Lewisham        9.000000     1        10.0\n",
              "52                Lewisham        6.466667     2        15.0\n",
              "53                Lewisham        6.214286     3        14.0"
            ]
          },
          "execution_count": 351,
          "metadata": {},
          "output_type": "execute_result"
        }
      ],
      "source": [
        "# your code goes here\n",
        "\n",
        "\n",
        "listings_value =F.col('review_scores_rating')/F.col('price')\n",
        "value = df_listings_london.filter(F.col('review_scores_rating')!='NaN')\\\n",
        "                             .withColumn('listings_value',listings_value)\n",
        "                            \n",
        "\n",
        "windowSpec  = pyspark.sql.window.Window.partitionBy(value[\"neighbourhood_cleansed\"]).orderBy(value[\"listings_value\"].desc())\n",
        "\n",
        "\n",
        "best_value = value.withColumn(\"rank\",pyspark.sql.functions.dense_rank().over(windowSpec)) \\\n",
        "                             .groupBy('neighbourhood_cleansed','listings_value','rank') \\\n",
        "                             .agg(F.avg(F.col('price'))) \\\n",
        "                             .filter(F.col('listings_value')>5) \\\n",
        "                             .filter(F.col('rank')<=3) \\\n",
        "                             .toPandas()\n",
        "\n",
        "                                      \n",
        "pd.set_option('display.max_rows',len(best_value))\n",
        "best_value"
      ]
    },
    {
      "cell_type": "markdown",
      "metadata": {
        "id": "mZdZ5-FE4jnQ"
      },
      "source": [
        "## Part 4: Activity by month (5 pts)\n",
        "\n",
        "Activity is given by the number of reviews received in a given time period. Compute and visualise the activity based on month, that is, the total number of reviews given in January, February, etc..\n",
        "\n",
        "Your additional data source is [this zip archive](https://data-download.compute.dtu.dk/c02807/reviews_london.csv.zip) which you must uncompress and place in the same folder as this notebook. It is loaded in the next cell and named `df_reviews_london`."
      ]
    },
    {
      "cell_type": "code",
      "execution_count": 184,
      "metadata": {
        "ExecuteTime": {
          "end_time": "2021-10-27T15:30:07.720386Z",
          "start_time": "2021-10-27T15:30:05.404386Z"
        },
        "id": "MGtA6uzq4jnQ"
      },
      "outputs": [],
      "source": [
        "df_reviews_london = load_csv_as_dataframe('reviews_london.csv')"
      ]
    },
    {
      "cell_type": "code",
      "execution_count": 186,
      "metadata": {
        "ExecuteTime": {
          "end_time": "2021-10-31T14:36:42.395920Z",
          "start_time": "2021-10-31T14:36:42.393979Z"
        },
        "id": "NohJUbEg4jnQ"
      },
      "outputs": [
        {
          "data": {
            "text/html": [
              "<div>\n",
              "<style scoped>\n",
              "    .dataframe tbody tr th:only-of-type {\n",
              "        vertical-align: middle;\n",
              "    }\n",
              "\n",
              "    .dataframe tbody tr th {\n",
              "        vertical-align: top;\n",
              "    }\n",
              "\n",
              "    .dataframe thead th {\n",
              "        text-align: right;\n",
              "    }\n",
              "</style>\n",
              "<table border=\"1\" class=\"dataframe\">\n",
              "  <thead>\n",
              "    <tr style=\"text-align: right;\">\n",
              "      <th></th>\n",
              "      <th>listing_id</th>\n",
              "      <th>id</th>\n",
              "      <th>date</th>\n",
              "      <th>reviewer_id</th>\n",
              "      <th>reviewer_name</th>\n",
              "      <th>comments</th>\n",
              "    </tr>\n",
              "  </thead>\n",
              "  <tbody>\n",
              "    <tr>\n",
              "      <th>0</th>\n",
              "      <td>10258151</td>\n",
              "      <td>110317618</td>\n",
              "      <td>2016-10-25</td>\n",
              "      <td>5636767</td>\n",
              "      <td>Joyce</td>\n",
              "      <td>Amaury's flat in London is extraordinary.  It ...</td>\n",
              "    </tr>\n",
              "    <tr>\n",
              "      <th>1</th>\n",
              "      <td>10258151</td>\n",
              "      <td>123905694</td>\n",
              "      <td>2016-12-31</td>\n",
              "      <td>93766809</td>\n",
              "      <td>Susie</td>\n",
              "      <td>My family of seven (my husband and myself, thr...</td>\n",
              "    </tr>\n",
              "    <tr>\n",
              "      <th>2</th>\n",
              "      <td>10258151</td>\n",
              "      <td>144206394</td>\n",
              "      <td>2017-04-15</td>\n",
              "      <td>36172507</td>\n",
              "      <td>Shannon</td>\n",
              "      <td>The place was as outlined and better. Large, c...</td>\n",
              "    </tr>\n",
              "    <tr>\n",
              "      <th>3</th>\n",
              "      <td>10258151</td>\n",
              "      <td>179218093</td>\n",
              "      <td>2017-08-07</td>\n",
              "      <td>120542338</td>\n",
              "      <td>Heather</td>\n",
              "      <td>An absolutely beautiful and family-friendly ho...</td>\n",
              "    </tr>\n",
              "    <tr>\n",
              "      <th>4</th>\n",
              "      <td>10258151</td>\n",
              "      <td>300524159</td>\n",
              "      <td>2018-08-02</td>\n",
              "      <td>66268334</td>\n",
              "      <td>Fei</td>\n",
              "      <td>非常完美的住宿选择\\n1 地理位置得天独厚 步行五分钟到达白金汉宫和维多利亚车站 还有繁华的...</td>\n",
              "    </tr>\n",
              "    <tr>\n",
              "      <th>...</th>\n",
              "      <td>...</td>\n",
              "      <td>...</td>\n",
              "      <td>...</td>\n",
              "      <td>...</td>\n",
              "      <td>...</td>\n",
              "      <td>...</td>\n",
              "    </tr>\n",
              "    <tr>\n",
              "      <th>836387</th>\n",
              "      <td>9976337</td>\n",
              "      <td>431996034</td>\n",
              "      <td>2019-04-02</td>\n",
              "      <td>33926449</td>\n",
              "      <td>Youness</td>\n",
              "      <td>The host was very welcoming and the place is v...</td>\n",
              "    </tr>\n",
              "    <tr>\n",
              "      <th>836388</th>\n",
              "      <td>9976337</td>\n",
              "      <td>487687257</td>\n",
              "      <td>2019-07-14</td>\n",
              "      <td>65214250</td>\n",
              "      <td>Thiago Da Silva</td>\n",
              "      <td>Nice time in London ... location is very good ...</td>\n",
              "    </tr>\n",
              "    <tr>\n",
              "      <th>836389</th>\n",
              "      <td>9976337</td>\n",
              "      <td>496296619</td>\n",
              "      <td>2019-07-27</td>\n",
              "      <td>7755124</td>\n",
              "      <td>Paul</td>\n",
              "      <td>The accommodation is in an excellent location ...</td>\n",
              "    </tr>\n",
              "    <tr>\n",
              "      <th>836390</th>\n",
              "      <td>9976337</td>\n",
              "      <td>502209808</td>\n",
              "      <td>2019-08-04</td>\n",
              "      <td>110777801</td>\n",
              "      <td>Daniel</td>\n",
              "      <td>The Korean Guest House is great within a centr...</td>\n",
              "    </tr>\n",
              "    <tr>\n",
              "      <th>836391</th>\n",
              "      <td>9976337</td>\n",
              "      <td>508829166</td>\n",
              "      <td>2019-08-13</td>\n",
              "      <td>17789422</td>\n",
              "      <td>Zain</td>\n",
              "      <td>Naim is the best host! She gave me a warm welc...</td>\n",
              "    </tr>\n",
              "  </tbody>\n",
              "</table>\n",
              "<p>836392 rows × 6 columns</p>\n",
              "</div>"
            ],
            "text/plain": [
              "        listing_id         id        date  reviewer_id    reviewer_name  \\\n",
              "0         10258151  110317618  2016-10-25      5636767            Joyce   \n",
              "1         10258151  123905694  2016-12-31     93766809            Susie   \n",
              "2         10258151  144206394  2017-04-15     36172507          Shannon   \n",
              "3         10258151  179218093  2017-08-07    120542338          Heather   \n",
              "4         10258151  300524159  2018-08-02     66268334              Fei   \n",
              "...            ...        ...         ...          ...              ...   \n",
              "836387     9976337  431996034  2019-04-02     33926449          Youness   \n",
              "836388     9976337  487687257  2019-07-14     65214250  Thiago Da Silva   \n",
              "836389     9976337  496296619  2019-07-27      7755124             Paul   \n",
              "836390     9976337  502209808  2019-08-04    110777801           Daniel   \n",
              "836391     9976337  508829166  2019-08-13     17789422             Zain   \n",
              "\n",
              "                                                 comments  \n",
              "0       Amaury's flat in London is extraordinary.  It ...  \n",
              "1       My family of seven (my husband and myself, thr...  \n",
              "2       The place was as outlined and better. Large, c...  \n",
              "3       An absolutely beautiful and family-friendly ho...  \n",
              "4       非常完美的住宿选择\\n1 地理位置得天独厚 步行五分钟到达白金汉宫和维多利亚车站 还有繁华的...  \n",
              "...                                                   ...  \n",
              "836387  The host was very welcoming and the place is v...  \n",
              "836388  Nice time in London ... location is very good ...  \n",
              "836389  The accommodation is in an excellent location ...  \n",
              "836390  The Korean Guest House is great within a centr...  \n",
              "836391  Naim is the best host! She gave me a warm welc...  \n",
              "\n",
              "[836392 rows x 6 columns]"
            ]
          },
          "execution_count": 186,
          "metadata": {},
          "output_type": "execute_result"
        }
      ],
      "source": [
        "# your code goes here\n",
        "df_reviews_london.toPandas()"
      ]
    },
    {
      "cell_type": "code",
      "execution_count": 310,
      "metadata": {},
      "outputs": [
        {
          "data": {
            "image/png": "[encoded data removed]",
            "text/plain": [
              "<Figure size 1296x720 with 1 Axes>"
            ]
          },
          "metadata": {
            "needs_background": "light"
          },
          "output_type": "display_data"
        }
      ],
      "source": [
        "activity = df_reviews_london.withColumn('month',F.date_format('date',\"MMMM\")) \\\n",
        "                            .groupBy('month').agg(F.count('reviewer_id').alias('No_reviewers')) \\\n",
        "                            .toPandas()\n",
        "\n",
        "_ = activity.set_index('month').sort_values(by='No_reviewers',ascending=False).plot( kind= 'bar'  , rot= 0 ,figsize=(18,10)) \n",
        "plt.title('Activity by month',fontsize=18)\n",
        "plt.show()    "
      ]
    },
    {
      "cell_type": "markdown",
      "metadata": {
        "id": "So8nbHnR4jnQ"
      },
      "source": [
        "## Part 5: Reviews per listing (5 pts)\n",
        "\n",
        "Each London listing has received 0 or more reviews. \n",
        "\n",
        "Display a dataframe showing 1) The number of listings, 2) The average number of reviews a listing receives, 3) The standard deviation of the reviews per listing distribution, 4) The minimum number of reviews any listing has received, and 5) The maximum number of reviews any listing has received."
      ]
    },
    {
      "cell_type": "code",
      "execution_count": 355,
      "metadata": {},
      "outputs": [
        {
          "data": {
            "text/html": [
              "<div>\n",
              "<style scoped>\n",
              "    .dataframe tbody tr th:only-of-type {\n",
              "        vertical-align: middle;\n",
              "    }\n",
              "\n",
              "    .dataframe tbody tr th {\n",
              "        vertical-align: top;\n",
              "    }\n",
              "\n",
              "    .dataframe thead th {\n",
              "        text-align: right;\n",
              "    }\n",
              "</style>\n",
              "<table border=\"1\" class=\"dataframe\">\n",
              "  <thead>\n",
              "    <tr style=\"text-align: right;\">\n",
              "      <th></th>\n",
              "      <th>listing_url</th>\n",
              "      <th>No_listings</th>\n",
              "      <th>Avg_reviews</th>\n",
              "      <th>std_no_reviews</th>\n",
              "      <th>Max_no_reviews</th>\n",
              "      <th>Mix_no_reviews</th>\n",
              "    </tr>\n",
              "  </thead>\n",
              "  <tbody>\n",
              "    <tr>\n",
              "      <th>0</th>\n",
              "      <td>https://www.airbnb.com/rooms/10150560</td>\n",
              "      <td>1</td>\n",
              "      <td>11.0</td>\n",
              "      <td>NaN</td>\n",
              "      <td>11</td>\n",
              "      <td>11</td>\n",
              "    </tr>\n",
              "    <tr>\n",
              "      <th>1</th>\n",
              "      <td>https://www.airbnb.com/rooms/10496182</td>\n",
              "      <td>1</td>\n",
              "      <td>85.0</td>\n",
              "      <td>NaN</td>\n",
              "      <td>85</td>\n",
              "      <td>85</td>\n",
              "    </tr>\n",
              "    <tr>\n",
              "      <th>2</th>\n",
              "      <td>https://www.airbnb.com/rooms/10825709</td>\n",
              "      <td>1</td>\n",
              "      <td>9.0</td>\n",
              "      <td>NaN</td>\n",
              "      <td>9</td>\n",
              "      <td>9</td>\n",
              "    </tr>\n",
              "    <tr>\n",
              "      <th>3</th>\n",
              "      <td>https://www.airbnb.com/rooms/10992684</td>\n",
              "      <td>1</td>\n",
              "      <td>27.0</td>\n",
              "      <td>NaN</td>\n",
              "      <td>27</td>\n",
              "      <td>27</td>\n",
              "    </tr>\n",
              "    <tr>\n",
              "      <th>4</th>\n",
              "      <td>https://www.airbnb.com/rooms/11035068</td>\n",
              "      <td>1</td>\n",
              "      <td>0.0</td>\n",
              "      <td>NaN</td>\n",
              "      <td>0</td>\n",
              "      <td>0</td>\n",
              "    </tr>\n",
              "    <tr>\n",
              "      <th>...</th>\n",
              "      <td>...</td>\n",
              "      <td>...</td>\n",
              "      <td>...</td>\n",
              "      <td>...</td>\n",
              "      <td>...</td>\n",
              "      <td>...</td>\n",
              "    </tr>\n",
              "    <tr>\n",
              "      <th>33141</th>\n",
              "      <td>https://www.airbnb.com/rooms/9833194</td>\n",
              "      <td>1</td>\n",
              "      <td>0.0</td>\n",
              "      <td>NaN</td>\n",
              "      <td>0</td>\n",
              "      <td>0</td>\n",
              "    </tr>\n",
              "    <tr>\n",
              "      <th>33142</th>\n",
              "      <td>https://www.airbnb.com/rooms/9872588</td>\n",
              "      <td>1</td>\n",
              "      <td>0.0</td>\n",
              "      <td>NaN</td>\n",
              "      <td>0</td>\n",
              "      <td>0</td>\n",
              "    </tr>\n",
              "    <tr>\n",
              "      <th>33143</th>\n",
              "      <td>https://www.airbnb.com/rooms/9912803</td>\n",
              "      <td>1</td>\n",
              "      <td>11.0</td>\n",
              "      <td>NaN</td>\n",
              "      <td>11</td>\n",
              "      <td>11</td>\n",
              "    </tr>\n",
              "    <tr>\n",
              "      <th>33144</th>\n",
              "      <td>https://www.airbnb.com/rooms/9980623</td>\n",
              "      <td>1</td>\n",
              "      <td>3.0</td>\n",
              "      <td>NaN</td>\n",
              "      <td>3</td>\n",
              "      <td>3</td>\n",
              "    </tr>\n",
              "    <tr>\n",
              "      <th>33145</th>\n",
              "      <td>https://www.airbnb.com/rooms/9991498</td>\n",
              "      <td>1</td>\n",
              "      <td>8.0</td>\n",
              "      <td>NaN</td>\n",
              "      <td>8</td>\n",
              "      <td>8</td>\n",
              "    </tr>\n",
              "  </tbody>\n",
              "</table>\n",
              "<p>33146 rows × 6 columns</p>\n",
              "</div>"
            ],
            "text/plain": [
              "                                 listing_url  No_listings  Avg_reviews  \\\n",
              "0      https://www.airbnb.com/rooms/10150560            1         11.0   \n",
              "1      https://www.airbnb.com/rooms/10496182            1         85.0   \n",
              "2      https://www.airbnb.com/rooms/10825709            1          9.0   \n",
              "3      https://www.airbnb.com/rooms/10992684            1         27.0   \n",
              "4      https://www.airbnb.com/rooms/11035068            1          0.0   \n",
              "...                                      ...          ...          ...   \n",
              "33141   https://www.airbnb.com/rooms/9833194            1          0.0   \n",
              "33142   https://www.airbnb.com/rooms/9872588            1          0.0   \n",
              "33143   https://www.airbnb.com/rooms/9912803            1         11.0   \n",
              "33144   https://www.airbnb.com/rooms/9980623            1          3.0   \n",
              "33145   https://www.airbnb.com/rooms/9991498            1          8.0   \n",
              "\n",
              "       std_no_reviews Max_no_reviews Mix_no_reviews  \n",
              "0                 NaN             11             11  \n",
              "1                 NaN             85             85  \n",
              "2                 NaN              9              9  \n",
              "3                 NaN             27             27  \n",
              "4                 NaN              0              0  \n",
              "...               ...            ...            ...  \n",
              "33141             NaN              0              0  \n",
              "33142             NaN              0              0  \n",
              "33143             NaN             11             11  \n",
              "33144             NaN              3              3  \n",
              "33145             NaN              8              8  \n",
              "\n",
              "[33146 rows x 6 columns]"
            ]
          },
          "execution_count": 355,
          "metadata": {},
          "output_type": "execute_result"
        }
      ],
      "source": [
        "# your code goes here\n",
        "\n",
        "# this is wrong but i am not sure whether they want to merge the two london dataframes(it didnt work for me)\n",
        "df_listings_reviews = df_listings_london.select(F.col('id'), F.col('listing_url'), F.col('number_of_reviews')) \\\n",
        "                                        .groupBy('listing_url') \\\n",
        "                                        .agg(F.count(F.col('id')).alias('No_listings'),\n",
        "                                        F.avg(F.col('number_of_reviews')).alias('Avg_reviews'),\n",
        "                                        F.stddev(F.col('number_of_reviews')).alias('std_no_reviews'),\n",
        "                                        F.max(F.col('number_of_reviews')).alias('Max_no_reviews'),\n",
        "                                        F.min(F.col('number_of_reviews')).alias('Mix_no_reviews')) \\\n",
        "                                        .toPandas()\n",
        "df_listings_reviews\n"
      ]
    },
    {
      "cell_type": "markdown",
      "metadata": {
        "id": "x62poLc34jnQ"
      },
      "source": [
        "# Exercise 3: Word sentiment (45 pts)\n",
        "\n",
        "In this exercise you must use Spark to do the data processing. For parts where you present tabular data, this entails calling `toPandas` as the final step of your query. You may need multiple queries to solve the individual parts.\n",
        "\n",
        "The goal here is to determine what sentiment (positive or negative) words in reviews have. Roughly speaking, we want each word to be assigned a score based on the rating of the reviews in which the word occurs in the review comment. We'd expect words such as \"clean\", \"comfortable\", \"superhost\" to receive high scores, while words such as \"unpleasant\", \"dirty\", \"disgusting\" would receive low scores.\n",
        "\n",
        "As individual reviews do not have a rating, we'll consider the rating of individual reviews to be the rating of its related listing (i.e. assuming each review gave the average rating (`review_scores_rating`) of the listing). \n",
        "\n",
        "The score of a word is given by the mean review rating over the reviews in which that word occurs in the comment. We require words to appear in at least 0.5% (1 in 200) listings, and to be at least 4 characters, for it to have a defined score.\n",
        "\n",
        "Formally, when a word $w$ occurs in at least $0.5\\%$ of listings and $|w| > 3$, its score is\n",
        "\n",
        "$\n",
        "\\begin{align*}\n",
        "score(w) = \\frac{1}{|C_w|}\\sum_{comment \\in C_w} \\text{review_rating}(comment)\n",
        "\\end{align*}\n",
        "$\n",
        ", where \n",
        "* $C_w = \\{comment \\mid w \\text{ occurs in } \\text{clean_text}(comment)\\}$, the set (so no duplicates) of comments in which $w$ occurs, and\n",
        "* $\\text{clean_text}(comment)$ is the result of your `clean_text` function defined below, and\n",
        "* $\\text{review_rating}(comment)$ is the `review_scores_rating` of the listing which this $comment$ is related to.\n"
      ]
    },
    {
      "cell_type": "markdown",
      "metadata": {
        "id": "jFNxM4PS4jnQ"
      },
      "source": [
        "## Part 1: Toy data (15 pts)\n",
        "\n",
        "To get started we'll consider a toy example where the input is `df_sentiment_listings_toy` and `df_sentiment_reviews_toy` defined in the next code cell. You should provide an implementation of `calculate_word_scores_toy` in the subsequent code cell. Your implementation should result in a query that when given the toy example dataframes as input and is materialized with `toPandas()` produces this table:\n",
        "\n",
        "|    | word   |   word_score |   listing_occurences |   word_occurences |   comment_occurences |\n",
        "|---:|:-------|-------------:|---------------------:|------------------:|---------------------:|\n",
        "|  0 | aaaa   |      7       |                    3 |                 5 |                    5 |\n",
        "|  1 | bbbb   |      6.66667 |                    2 |                 3 |                    3 |\n",
        "|  2 | eeee   |      0       |                    1 |                 1 |                    1 |\n",
        "|  3 | dddd   |      5       |                    1 |                 1 |                    1 |\n",
        "|  4 | cccc   |      5       |                    2 |                 2 |                    2 |'\n",
        "\n",
        "Observe that `word_occurences` and `comment_occurences` are the same as words occuring multiple times in a comment are counted once, and that `clean_text` is used to ignore casing and discard non-words. Additionally, any word occuring at least once will occur in more than 1 out of 200 listings on this toy data."
      ]
    },
    {
      "cell_type": "code",
      "execution_count": 9,
      "metadata": {
        "ExecuteTime": {
          "end_time": "2021-10-27T15:30:20.311738Z",
          "start_time": "2021-10-27T15:30:20.131208Z"
        },
        "id": "p2_01YSQ4jnQ"
      },
      "outputs": [],
      "source": [
        "from pyspark.sql.types import StructType, StructField, StringType\n",
        "\n",
        "schema_listings = StructType([\n",
        "    StructField('id', StringType(), True),\n",
        "    StructField('review_scores_rating', StringType(), True),\n",
        "])\n",
        "data_listings = [\n",
        "    {'id': '0', 'review_scores_rating': '10'},\n",
        "    {'id': '1', 'review_scores_rating': '5'},\n",
        "    {'id': '2', 'review_scores_rating': '0'},\n",
        "]\n",
        "df_sentiment_listings_toy = spark.createDataFrame(data_listings, schema_listings)\n",
        "\n",
        "schema_reviews = StructType([\n",
        "    StructField('listing_id', StringType(), True),\n",
        "    StructField('id', StringType(), True),\n",
        "    StructField('comments', StringType(), True),\n",
        "])\n",
        "data_reviews = [\n",
        "    {'listing_id': '0', 'id': '100', 'comments': 'aaaa bbbb          cccc'},\n",
        "    {'listing_id': '0', 'id': '101', 'comments': 'aaaa bbbb '},\n",
        "    {'listing_id': '0', 'id': '102', 'comments': 'aaaa aAAa          aaaa'},\n",
        "    {'listing_id': '1', 'id': '103', 'comments': 'Aaaa bbb ccc'},\n",
        "    {'listing_id': '1', 'id': '104', 'comments': 'dddd %ˆ&*'},\n",
        "    {'listing_id': '2', 'id': '105', 'comments': 'AaaA'},\n",
        "    {'listing_id': '2', 'id': '106', 'comments': 'bbbb ccc e&eˆˆee'},\n",
        "    {'listing_id': '2', 'id': '107', 'comments': 'cccc cccc'},\n",
        "]\n",
        "\n",
        "df_sentiment_reviews_toy = \\\n",
        "    spark.createDataFrame(data_reviews, schema_reviews) \\\n",
        "        .select(F.col('listing_id'), F.col('id').alias('comment_id'), F.col('comments'))\n"
      ]
    },
    {
      "cell_type": "code",
      "execution_count": 10,
      "metadata": {},
      "outputs": [
        {
          "name": "stdout",
          "output_type": "stream",
          "text": [
            "+----------+----------+--------------------+\n",
            "|listing_id|comment_id|            comments|\n",
            "+----------+----------+--------------------+\n",
            "|         0|       100|aaaa bbbb        ...|\n",
            "|         0|       101|          aaaa bbbb |\n",
            "|         0|       102|aaaa aAAa        ...|\n",
            "|         1|       103|        Aaaa bbb ccc|\n",
            "|         1|       104|           dddd %ˆ&*|\n",
            "|         2|       105|                AaaA|\n",
            "|         2|       106|    bbbb ccc e&eˆˆee|\n",
            "|         2|       107|           cccc cccc|\n",
            "+----------+----------+--------------------+\n",
            "\n"
          ]
        }
      ],
      "source": [
        "df_sentiment_reviews_toy.show()"
      ]
    },
    {
      "cell_type": "code",
      "execution_count": 71,
      "metadata": {},
      "outputs": [
        {
          "name": "stdout",
          "output_type": "stream",
          "text": [
            "+----------+----------+--------------------+---------------+\n",
            "|listing_id|comment_id|            comments|          words|\n",
            "+----------+----------+--------------------+---------------+\n",
            "|         0|       100|aaaa bbbb        ...| aaaa bbbb cccc|\n",
            "|         0|       101|          aaaa bbbb |      aaaa bbbb|\n",
            "|         0|       102|aaaa aAAa        ...| aaaa aaaa aaaa|\n",
            "|         1|       103|        Aaaa bbb ccc|   aaaa bbb ccc|\n",
            "|         1|       104|           dddd %ˆ&*|           dddd|\n",
            "|         2|       105|                AaaA|           aaaa|\n",
            "|         2|       106|    bbbb ccc e&eˆˆee|bbbb ccc e e ee|\n",
            "|         2|       107|           cccc cccc|      cccc cccc|\n",
            "+----------+----------+--------------------+---------------+\n",
            "\n"
          ]
        }
      ],
      "source": [
        "clean_df = df_sentiment_reviews_toy.withColumn(\"words\",\n",
        "                                                F.regexp_replace(\n",
        "                                                    F.trim( \n",
        "                                                        F.regexp_replace(\n",
        "                                                            F.lower('comments'),\"\\W\",\" \")), \"\\\\s+\",\" \"))\\\n",
        "                                                                .show()\n",
        "                                            "
      ]
    },
    {
      "cell_type": "code",
      "execution_count": 68,
      "metadata": {},
      "outputs": [
        {
          "data": {
            "text/plain": [
              "['listing_id', 'comment_id', 'comments']"
            ]
          },
          "execution_count": 68,
          "metadata": {},
          "output_type": "execute_result"
        }
      ],
      "source": []
    },
    {
      "cell_type": "code",
      "execution_count": 23,
      "metadata": {},
      "outputs": [
        {
          "name": "stdout",
          "output_type": "stream",
          "text": [
            "+--------------------+\n",
            "|            comments|\n",
            "+--------------------+\n",
            "|aaaa bbbb        ...|\n",
            "|          aaaa bbbb |\n",
            "|aaaa aAAa        ...|\n",
            "|        Aaaa bbb ccc|\n",
            "|           dddd %ˆ&*|\n",
            "|                AaaA|\n",
            "|    bbbb ccc e&eˆˆee|\n",
            "|           cccc cccc|\n",
            "+--------------------+\n",
            "\n"
          ]
        }
      ],
      "source": [
        "col = df_sentiment_reviews_toy.select(F.col('comments'))\n",
        "col.show()"
      ]
    },
    {
      "cell_type": "code",
      "execution_count": 24,
      "metadata": {},
      "outputs": [],
      "source": []
    },
    {
      "cell_type": "code",
      "execution_count": 37,
      "metadata": {},
      "outputs": [],
      "source": [
        "import re"
      ]
    },
    {
      "cell_type": "code",
      "execution_count": 161,
      "metadata": {},
      "outputs": [
        {
          "data": {
            "text/plain": [
              "'bbbb ccc e e ee'"
            ]
          },
          "execution_count": 161,
          "metadata": {},
          "output_type": "execute_result"
        }
      ],
      "source": [
        "string = 'bbbb ccc e&eˆˆee'\n",
        "single_spaces = re.sub('[^A-Za-z0-9]+', ' ', string)\n",
        "# single_spaces = \" \".join(string.split())\n",
        "# single_spaces = ''.join(c for c in single_spaces if c.isalpha())\n",
        "''.join(single_spaces)"
      ]
    },
    {
      "cell_type": "code",
      "execution_count": null,
      "metadata": {},
      "outputs": [],
      "source": []
    },
    {
      "cell_type": "code",
      "execution_count": 184,
      "metadata": {
        "ExecuteTime": {
          "end_time": "2021-10-27T15:30:24.249616Z",
          "start_time": "2021-10-27T15:30:20.312564Z"
        },
        "id": "ybRkPjCD4jnR"
      },
      "outputs": [
        {
          "data": {
            "text/html": [
              "<div>\n",
              "<style scoped>\n",
              "    .dataframe tbody tr th:only-of-type {\n",
              "        vertical-align: middle;\n",
              "    }\n",
              "\n",
              "    .dataframe tbody tr th {\n",
              "        vertical-align: top;\n",
              "    }\n",
              "\n",
              "    .dataframe thead th {\n",
              "        text-align: right;\n",
              "    }\n",
              "</style>\n",
              "<table border=\"1\" class=\"dataframe\">\n",
              "  <thead>\n",
              "    <tr style=\"text-align: right;\">\n",
              "      <th></th>\n",
              "      <th>words</th>\n",
              "      <th>word_score</th>\n",
              "      <th>listing_occurences</th>\n",
              "      <th>word_occurences</th>\n",
              "      <th>comment_occurences</th>\n",
              "    </tr>\n",
              "  </thead>\n",
              "  <tbody>\n",
              "    <tr>\n",
              "      <th>0</th>\n",
              "      <td>aaaa</td>\n",
              "      <td>7.000000</td>\n",
              "      <td>3</td>\n",
              "      <td>5</td>\n",
              "      <td>5</td>\n",
              "    </tr>\n",
              "    <tr>\n",
              "      <th>1</th>\n",
              "      <td>bbbb</td>\n",
              "      <td>6.666667</td>\n",
              "      <td>2</td>\n",
              "      <td>3</td>\n",
              "      <td>3</td>\n",
              "    </tr>\n",
              "    <tr>\n",
              "      <th>2</th>\n",
              "      <td>cccc</td>\n",
              "      <td>5.000000</td>\n",
              "      <td>2</td>\n",
              "      <td>2</td>\n",
              "      <td>2</td>\n",
              "    </tr>\n",
              "    <tr>\n",
              "      <th>3</th>\n",
              "      <td>eeee</td>\n",
              "      <td>0.000000</td>\n",
              "      <td>1</td>\n",
              "      <td>1</td>\n",
              "      <td>1</td>\n",
              "    </tr>\n",
              "    <tr>\n",
              "      <th>4</th>\n",
              "      <td>dddd</td>\n",
              "      <td>5.000000</td>\n",
              "      <td>1</td>\n",
              "      <td>1</td>\n",
              "      <td>1</td>\n",
              "    </tr>\n",
              "  </tbody>\n",
              "</table>\n",
              "</div>"
            ],
            "text/plain": [
              "  words  word_score  listing_occurences  word_occurences  comment_occurences\n",
              "0  aaaa    7.000000                   3                5                   5\n",
              "1  bbbb    6.666667                   2                3                   3\n",
              "2  cccc    5.000000                   2                2                   2\n",
              "3  eeee    0.000000                   1                1                   1\n",
              "4  dddd    5.000000                   1                1                   1"
            ]
          },
          "execution_count": 184,
          "metadata": {},
          "output_type": "execute_result"
        }
      ],
      "source": [
        "# your code goes here\n",
        "def clean_text(col):\n",
        "    \"\"\"\n",
        "        Cleans the text (comment) associated with col. The\n",
        "        cleaning should:\n",
        "            1) Lower case the text\n",
        "            2) Turn multiple whitespaces into single whitespaces\n",
        "            3) Remove anything but letters, digits and whitespaces\n",
        "        \n",
        "        :col: A Spark Column object containing text data\n",
        "        :returns: A Spark Column object.\n",
        "\n",
        "    \"\"\"\n",
        "    #first way\n",
        "    # clean_df = df_sentiment_reviews_toy.withColumn(\"comments\",\n",
        "    #                                             F.regexp_replace(\n",
        "    #                                                 F.trim( \n",
        "    #                                                     F.regexp_replace(\n",
        "    #                                                         F.lower(col),\"\\W\",\" \")), \"\\\\s+\",\" \"))\n",
        "\n",
        "    #second way\n",
        "    single_spaces = col.lower()\n",
        "    single_spaces = re.sub(\"\\s+\", ' ', single_spaces)\n",
        "    single_spaces = re.sub('[^a-z0-9 ]+', '', single_spaces)# removes multiple white spaces\n",
        "    \n",
        "    single_spaces = single_spaces.rstrip()\n",
        "                                                                \n",
        "\n",
        "   \n",
        "    return single_spaces\n",
        "\n",
        "def calculate_word_scores_toy(df_list, df_rev):\n",
        "    \"\"\"\n",
        "        Calculates the word score over listings in df_list and\n",
        "        reviews in df_rev. The table produced should have the \n",
        "        same columns as specified in part 1.\n",
        "        \n",
        "        :returns: A pandas DataFrame\n",
        "    \"\"\"\n",
        "        #first way\n",
        "    # col = [i for i in df_rev.columns if i =='comments']\n",
        "    # data = clean_text(col[0],df_rev)\n",
        "\n",
        "        #second way\n",
        "    \n",
        "    clean = udf(lambda z :clean_text(z), StringType())\n",
        "    data = df_rev.withColumn('comments',clean('comments'))\n",
        "    \n",
        "    word_occurences = data.withColumn('word',F.explode(F.split(F.col('comments'), ' ')))\\\n",
        "    .where(F.length('word')>=4)\\\n",
        "    .groupBy('word')\\\n",
        "    .count()\\\n",
        "    .sort('count', ascending=False)\n",
        "\n",
        "    words_list=word_occurences.select('word').rdd.flatMap(list).collect()\n",
        "\n",
        "    columns = ['words', 'word_score', 'listing_occurences', 'word_occurences', 'comment_occurences']\n",
        "\n",
        "    listings= data.where(F.col(\"comments\").contains(words_list[0])).select(F.col('listing_id').alias('id'))\n",
        "    df_inner = listings.join(df_list, on=['id'], how='inner')\n",
        "\n",
        "    listOcc=data.where(F.col(\"comments\").contains(words_list[0]))\n",
        "\n",
        "    vals = [(words_list[0], (1/data.filter(F.col(\"comments\").contains(words_list[0]))\\\n",
        "            .count())*(df_inner.agg(F.sum(df_inner.review_scores_rating)).collect()[0][0]),\n",
        "            len(listOcc.select('listing_id').distinct().collect()),\n",
        "            data.filter(F.col(\"comments\").contains(words_list[0])).count(), \n",
        "            data.filter(F.col(\"comments\").contains(words_list[0])).count())]\n",
        "\n",
        "    df = spark.createDataFrame(vals, columns)\n",
        "\n",
        "    for word in words_list[1:]:\n",
        "        listings=data.where(F.col(\"comments\").contains(word)).select(F.col('listing_id').alias('id'))\n",
        "        df_inner = listings.join(df_list, on=['id'], how='inner')\n",
        "        listOcc=data.where(F.col(\"comments\").contains(word))\n",
        "        newRow=spark.createDataFrame([(word, (1/data.filter(F.col(\"comments\").contains(word))\\\n",
        "                .count())*(df_inner.agg(F.sum(df_inner.review_scores_rating)).collect()[0][0]),\n",
        "                                        len(listOcc.select('listing_id').distinct().collect()),\n",
        "                                        data\\\n",
        "                                        .filter(F.col(\"comments\").contains(word)).count(), data\\\n",
        "                                        .filter(F.col(\"comments\").contains(word)).count())],columns)\n",
        "        df = df.union(newRow)\n",
        "\n",
        "    return df.toPandas()\n",
        "\n",
        "calculate_word_scores_toy(df_sentiment_listings_toy, df_sentiment_reviews_toy)\n",
        "\n"
      ]
    },
    {
      "cell_type": "markdown",
      "metadata": {
        "id": "wF0-Et6Y4jnR"
      },
      "source": [
        "## Part 2: London comments (15 pts)\n",
        "\n",
        "In this part we'll calculate word scores for the comments related to London listings only. You should implement `count_relevant_listings` and `calculate_word_scores` (it will be an extension of your function from part 1) below. See the mathematical definition and docstrings for intended behaviour.\n",
        "\n",
        "The function `calculate_word_scores` should return the top 10 and bottom 10 words by score. You should **not** use caching in your function.\n",
        "\n",
        "Make sure your satisfy all conditions for a word to be scored (e.g. correctly calculating how many total listings scores are computed over). You should also consider whether your query is optimally structured in terms of computation time. Moreover, `pd.set_option('display.max_rows', <n>)` should be set with sufficiently high `n` to show all words."
      ]
    },
    {
      "cell_type": "code",
      "execution_count": null,
      "metadata": {
        "ExecuteTime": {
          "end_time": "2021-10-31T13:35:09.413747Z",
          "start_time": "2021-10-31T13:35:09.386493Z"
        },
        "id": "NL05dnDH4jnR"
      },
      "outputs": [],
      "source": [
        "# your code goes here\n",
        "def count_relevant_listings(df_list, df_rev):\n",
        "    \"\"\"\n",
        "        Calculates the number of listings in df_list that has a \n",
        "        review in df_rev. A listing that is reviewed more than once\n",
        "        should only count as one.\n",
        "        \n",
        "        :returns: An integer \n",
        "    \"\"\"\n",
        "    raise NotImplementedError\n",
        "\n",
        "def calculate_word_scores(df_list, df_rev, listings_count):\n",
        "    \"\"\"\n",
        "        Calculates the word score over listings in df_list and\n",
        "        reviews in df_rev. The value of listings_count should \n",
        "        be used to filter out words not occuring frequently enough\n",
        "        in comments. The table produced should have the same columns\n",
        "        as in part 1 of this exercise.\n",
        "        \n",
        "        :returns: A pandas DataFrame containing the top 10 and \n",
        "        bottom 10 words based on their word score, sorted by word_score.\n",
        "    \"\"\"\n",
        "    raise NotImplementedError"
      ]
    },
    {
      "cell_type": "code",
      "execution_count": null,
      "metadata": {
        "ExecuteTime": {
          "end_time": "2021-10-31T13:37:21.918401Z",
          "start_time": "2021-10-31T13:35:10.034363Z"
        },
        "id": "ZoUPZ6F-4jnR"
      },
      "outputs": [],
      "source": [
        "# should not be modified\n",
        "from IPython.display import display\n",
        "\n",
        "relevant_listings_count_london = count_relevant_listings(df_listings_london, df_reviews_london)\n",
        "word_scores_london_timing = %timeit -o -n1 -r1 display( \\\n",
        "    calculate_word_scores(df_listings_london, \\\n",
        "                          df_reviews_london, \\\n",
        "                          relevant_listings_count_london) \\\n",
        ")\n",
        "\n",
        "word_scores_london_timing.best"
      ]
    },
    {
      "cell_type": "markdown",
      "metadata": {
        "id": "UAPvcNbU4jnR"
      },
      "source": [
        "## Part 3: Scalability (10 pts)\n",
        "\n",
        "The listings from London make up a little less than 2% of the entire set of listings. In this part we're interested in how the amount of input data impacts computation time, that is, how `calculate_word_scores` scales as data increases. To this end, we've made multiple samples of the dataset of varying sizes.\n",
        "\n",
        "The experiment reuses `count_relevant_listings` and `calculate_word_scores` that you implemented in part 2. Code needed for this part is provided to you. \n",
        "\n",
        "Your task is to obtain the data sources, run the code cells below, and explain the results you get. Specifically, you must explain any non-linear relationship between data size and computation time, using the markdown cell at the end of this part. In finding explanations, using the Spark UI to investigate the anatomy of your queries may prove valuable. Once you've found an explanation, state a potential solution to remedy the issue. Lastly, include a paragraph stating the specifications of your computer hardware (memory, CPU cores and clock speed, solid state disk or not) on which the experiment has been run.\n",
        "\n",
        "*Implementation note* Make sure you've properly configured `spark.driver.memory` (it requires a kernel restart to update the value). It may be that your query fails on the larger samples due to running out of compute resources. This is likely caused by a suboptimal `calculate_word_scores`, but can be from reaching the limits of your hardware. If you think the latter is the case, argue for this perspective in the markdown cell.\n",
        "\n",
        "Your data sources are (uncompress and place in the same directory as this notebook):\n",
        "* 0.25%: [listings](https://data-download.compute.dtu.dk/c02807/listings_0-dot-25percent.csv.zip), [reviews](https://data-download.compute.dtu.dk/c02807/reviews_0-dot-25percent.csv.zip)\n",
        "* 0.5%: [listings](https://data-download.compute.dtu.dk/c02807/listings_0-dot-5percent.csv.zip), [reviews](https://data-download.compute.dtu.dk/c02807/reviews_0-dot-5percent.csv.zip)\n",
        "* 1%: [listings](https://data-download.compute.dtu.dk/c02807/listings_1-dot-0percent.csv.zip), [reviews](https://data-download.compute.dtu.dk/c02807/reviews_1-dot-0percent.csv.zip)\n",
        "* 2%: [listings](https://data-download.compute.dtu.dk/c02807/listings_2-dot-0percent.csv.zip), [reviews](https://data-download.compute.dtu.dk/c02807/reviews_2-dot-0percent.csv.zip)\n",
        "* 4%: [listings](https://data-download.compute.dtu.dk/c02807/listings_4-dot-0percent.csv.zip), [reviews](https://data-download.compute.dtu.dk/c02807/reviews_4-dot-0percent.csv.zip)\n",
        "* 8%: [listings](https://data-download.compute.dtu.dk/c02807/listings_8-dot-0percent.csv.zip), [reviews](https://data-download.compute.dtu.dk/c02807/reviews_8-dot-0percent.csv.zip)\n",
        "* 12.5%: [listings](https://data-download.compute.dtu.dk/c02807/listings_12-dot-5percent.csv.zip), [reviews](https://data-download.compute.dtu.dk/c02807/reviews_12-dot-5percent.csv.zip)\n",
        "* 16%: [listings](https://data-download.compute.dtu.dk/c02807/listings_16-dot-0percent.csv.zip), [reviews](https://data-download.compute.dtu.dk/c02807/reviews_16-dot-0percent.csv.zip)\n",
        "* 25%: [listings](https://data-download.compute.dtu.dk/c02807/listings_25-dot-0percent.csv.zip), [reviews](https://data-download.compute.dtu.dk/c02807/reviews_25-dot-0percent.csv.zip)\n",
        "* 50%: [listings](https://data-download.compute.dtu.dk/c02807/listings_50-dot-0percent.csv.zip), [reviews](https://data-download.compute.dtu.dk/c02807/reviews_50-dot-0percent.csv.zip)\n",
        "* 75%: [listings](https://data-download.compute.dtu.dk/c02807/listings_75-dot-0percent.csv.zip), [reviews](https://data-download.compute.dtu.dk/c02807/reviews_75-dot-0percent.csv.zip)\n",
        "* 100%: [listings](https://data-download.compute.dtu.dk/c02807/listings_100-dot-0percent.csv.zip), [reviews](https://data-download.compute.dtu.dk/c02807/reviews_100-dot-0percent.csv.zip)"
      ]
    },
    {
      "cell_type": "code",
      "execution_count": null,
      "metadata": {
        "ExecuteTime": {
          "end_time": "2021-10-28T23:46:48.667540Z",
          "start_time": "2021-10-28T23:46:48.663425Z"
        },
        "id": "u9BPHTsQ4jnR"
      },
      "outputs": [],
      "source": [
        "import time\n",
        "def calculate_word_scores_timed(percent_str):\n",
        "    \"\"\"\n",
        "        Calculates word scores over a sampled dataset indicated\n",
        "        by percent_str.\n",
        "        \n",
        "        :returns: A dictionary with benchmarking information and\n",
        "        the calculated values.\n",
        "    \"\"\"\n",
        "    df_listings = load_csv_as_dataframe(f'listings_{percent_str}percent.csv')\n",
        "    df_reviews = load_csv_as_dataframe(f'reviews_{percent_str}percent.csv')\n",
        "    \n",
        "    listings_count = count_relevant_listings(df_listings, df_reviews)\n",
        "\n",
        "    start = time.time()\n",
        "    df_word_scores = calculate_word_scores(df_listings, df_reviews, listings_count)\n",
        "    end = time.time()\n",
        "    return {\n",
        "        'percentage': float(percent_str.replace('-dot-', '.')), \n",
        "        'time_spent': f\"{end - start:.2f}\", \n",
        "        'relevant_listings': listings_count, \n",
        "        'df': df_word_scores\n",
        "    }"
      ]
    },
    {
      "cell_type": "code",
      "execution_count": null,
      "metadata": {
        "ExecuteTime": {
          "end_time": "2021-10-29T00:35:02.491711Z",
          "start_time": "2021-10-28T23:46:49.516730Z"
        },
        "id": "0eutRq674jnR"
      },
      "outputs": [],
      "source": [
        "data_percentages = [\n",
        "    '0-dot-25', '0-dot-5', '1-dot-0', '2-dot-0', '4-dot-0', '8-dot-0',\n",
        "    '12-dot-5', '16-dot-0', '25-dot-0'\n",
        "]\n",
        "score_data = {\n",
        "    percentage_str: calculate_word_scores_timed(percentage_str) for percentage_str in data_percentages\n",
        "}"
      ]
    },
    {
      "cell_type": "code",
      "execution_count": null,
      "metadata": {
        "ExecuteTime": {
          "end_time": "2021-10-29T00:35:02.502845Z",
          "start_time": "2021-10-29T00:35:02.493477Z"
        },
        "id": "6gn8hhmq4jnR"
      },
      "outputs": [],
      "source": [
        "score_data['50-dot-0'] = calculate_word_scores_timed('50-dot-0')"
      ]
    },
    {
      "cell_type": "code",
      "execution_count": null,
      "metadata": {
        "ExecuteTime": {
          "end_time": "2021-10-29T00:35:02.506905Z",
          "start_time": "2021-10-29T00:35:02.503911Z"
        },
        "id": "o6S0UVl74jnS"
      },
      "outputs": [],
      "source": [
        "score_data['75-dot-0'] = calculate_word_scores_timed('75-dot-0')"
      ]
    },
    {
      "cell_type": "code",
      "execution_count": null,
      "metadata": {
        "ExecuteTime": {
          "end_time": "2021-10-29T00:35:02.511277Z",
          "start_time": "2021-10-29T00:35:02.510002Z"
        },
        "id": "Co5DP5jH4jnS"
      },
      "outputs": [],
      "source": [
        "score_data['100-dot-0'] = calculate_word_scores_timed('100-dot-0')"
      ]
    },
    {
      "cell_type": "code",
      "execution_count": null,
      "metadata": {
        "ExecuteTime": {
          "end_time": "2021-10-29T00:35:02.580856Z",
          "start_time": "2021-10-29T00:35:02.512026Z"
        },
        "id": "KXicfeA-4jnS",
        "scrolled": true
      },
      "outputs": [],
      "source": [
        "df_scores_scaling = pd.DataFrame(score_data).T.convert_dtypes()\n",
        "df_scores_scaling.time_spent = df_scores_scaling.time_spent.astype(float)\n",
        "\n",
        "# Access to word scores of 2 percent data: df_scores_scaling.loc['2-dot-0'].df\n",
        "df_scores_scaling"
      ]
    },
    {
      "cell_type": "code",
      "execution_count": null,
      "metadata": {
        "ExecuteTime": {
          "end_time": "2021-10-29T00:35:02.872708Z",
          "start_time": "2021-10-29T00:35:02.582105Z"
        },
        "id": "pEviNX0y4jnS",
        "scrolled": true
      },
      "outputs": [],
      "source": [
        "fig, axes = plt.subplots(ncols=3, figsize=(15, 5))\n",
        "\n",
        "lower_range = ['0-dot-25', '0-dot-5', '1-dot-0', '2-dot-0', '4-dot-0', '8-dot-0', '16-dot-0']\n",
        "df_scores_scaling[df_scores_scaling.index.isin(lower_range)] \\\n",
        "    .plot.line(x='percentage', y='time_spent', ax=axes[0], style='-o', title='Lower range')\n",
        "df_scores_scaling[~df_scores_scaling.index.isin(lower_range)] \\\n",
        "    .plot.line(x='percentage', y='time_spent', ax=axes[1], style='-o', title='Upper range')\n",
        "_ = df_scores_scaling \\\n",
        "    .plot.line(x='percentage', y='time_spent', ax=axes[2], style='-o', title='All')"
      ]
    },
    {
      "cell_type": "markdown",
      "metadata": {
        "id": "yf5c4daR4jnS"
      },
      "source": [
        "*Your explanation to the questions outlined at the start of this part goes here. Make sure you've addressed all questions asked.*"
      ]
    },
    {
      "cell_type": "markdown",
      "metadata": {
        "id": "B-61VA-34jnS"
      },
      "source": [
        "## Part 4: Robustness (5 pts)\n",
        "\n",
        "In this part we'll explore robustness of our word scores, using the values we computed in part 3. We'll do so by comparing top/bottom words for three different samples of the dataset. Specifically, the scores from your maximum (e.g. 100%) computed sample are to be compared with the 12.5% and 2.0% scores.\n",
        "\n",
        "Compute and display a dataframe that accounts for any word found in either of the three samples' top/bottom words, and additionally shows the related `word_score` and `word_occurences` values.\n",
        "\n",
        "Note that `df_scores_scaling.loc['100-dot-0'].df` provides the word scores dataframe of the 100% sample (similarly for the other two). For this part you should rely on pandas functionality only.  Moreover, `pd.set_option('display.max_rows', <n>)` should be set with sufficiently high `n` to show all rows."
      ]
    },
    {
      "cell_type": "code",
      "execution_count": null,
      "metadata": {
        "ExecuteTime": {
          "end_time": "2021-10-31T14:37:40.614597Z",
          "start_time": "2021-10-31T14:37:40.612561Z"
        },
        "id": "9jrmvVmM4jnS",
        "scrolled": true
      },
      "outputs": [],
      "source": [
        "# your code goes here"
      ]
    },
    {
      "cell_type": "markdown",
      "metadata": {
        "id": "CQyEFla44jnS"
      },
      "source": [
        "# Exercise 4: Transactions analysis (55 pts)\n",
        "\n",
        "In this exercise the goal is to analyse historical business transactions (sales of parts to other companies), and derive insights about both products and customers.\n",
        "\n",
        "The company X produces and globally sells gadget parts to a number of other companies. You requested the sales department of X to provide you with access to the customer and sales transactions database. To your horror, you've found no such database exists, but the data is instead manually maintained in a spreadsheet (error-prone solution). Intrepid as you are, you've accepted to receive the spreadsheet data as a `.csv`, realizing already data cleaning will be necessary.\n",
        "\n",
        "Your first step (parts 1 and 2) is to clean the data after which you will derive insights about X's business operations (parts 3 and 4).\n",
        "\n",
        "The input data is available here: [transactions.csv](http://courses.compute.dtu.dk/02807/2021/projects/project2/transactions.csv)\n",
        "\n",
        "**Using SQL**\n",
        "\n",
        "In this final exercise you must write SQL to do the data processing in parts 3 and 4. This entails using `psql.sqldf` to execute your queries (up against `df_transactions_cleaned`) which will return a pandas dataframe. Each question should be answered with a *single* query. For visualisation the `psql.sqldf` call should be followed only by functions necessary to customize the plotting/layout steps or reshape the dataframe (i.e. no data processing take place after your SQL statement is materialized as a pandas dataframe).\n",
        "\n",
        "In part 1 and 2 of this exercise, you should make use of pandas functionality.\n",
        "\n"
      ]
    },
    {
      "cell_type": "markdown",
      "metadata": {
        "id": "SM2KEdqu4jnS"
      },
      "source": [
        "## Part 1: Data cleaning (15 pts)\n",
        "\n",
        "For each column in the dataframe, investigate and **correct** problematic aspects such as,\n",
        "* Missing values: Insert meaningful values (data imputation). Detectable as `np.nan`'s. A typical value for imputation is the *mode* (most frequent value) of the distribution. If no proper data imputation is possible, you may resort to dropping rows.\n",
        "* Incorrect values: Typos and other data mishaps are present as values are manually entered. Detectable as low-prevalence categorical values, or ambigious data links (e.g. company listed in multiple countries). If no proper value correction is possible, you may resort to dropping rows.\n",
        "\n",
        "In both cases, your strategy for replacing values should be data-driven, that is, shaped by the patterns you observe in the data. It is allowed to skip correcting the data (and instead drop the rows) if few rows are improved by your corrections. If in doubt, do the correction.\n",
        "\n",
        "After all your cleaning steps are completed, you should run the `PandasProfiler` on your cleaned dataset, which should now contain 0% missing cells. Lastly, summarize the issues you identified and how you addressed them."
      ]
    },
    {
      "cell_type": "markdown",
      "metadata": {
        "id": "u9EAimzb4jnS"
      },
      "source": [
        "### Read, profile and explain\n",
        "\n",
        "As the first step, load the data naming the dataframe `df_transactions`, and make a copy named `df_transactions_cleaned` on which your data cleaning steps will be done. Establish an overview using `PandasProfiler` (but realize there's more to cleaning than what this tool will let you know). Write a paragraph on what the data is about (e.g. what does a row constitute), and a paragraph on what the profile report tells you."
      ]
    },
    {
      "cell_type": "code",
      "execution_count": null,
      "metadata": {
        "ExecuteTime": {
          "end_time": "2021-10-31T14:37:53.403596Z",
          "start_time": "2021-10-31T14:37:53.400458Z"
        },
        "id": "A4gokJNI4jnT"
      },
      "outputs": [],
      "source": [
        "# your code goes here"
      ]
    },
    {
      "cell_type": "markdown",
      "metadata": {
        "id": "2KwNFkhZ4jnT"
      },
      "source": [
        "*Your explanation here*"
      ]
    },
    {
      "cell_type": "markdown",
      "metadata": {
        "id": "1uCcxzh54jnT"
      },
      "source": [
        "### Country column"
      ]
    },
    {
      "cell_type": "code",
      "execution_count": null,
      "metadata": {
        "ExecuteTime": {
          "end_time": "2021-10-31T14:38:10.817218Z",
          "start_time": "2021-10-31T14:38:10.814361Z"
        },
        "id": "UQobGiSQ4jnT"
      },
      "outputs": [],
      "source": [
        "# your code goes here"
      ]
    },
    {
      "cell_type": "markdown",
      "metadata": {
        "id": "pnxk7N984jnT"
      },
      "source": [
        "### Company column"
      ]
    },
    {
      "cell_type": "code",
      "execution_count": null,
      "metadata": {
        "ExecuteTime": {
          "end_time": "2021-10-31T14:38:23.615156Z",
          "start_time": "2021-10-31T14:38:23.612981Z"
        },
        "id": "Z1vr1z1V4jnT"
      },
      "outputs": [],
      "source": [
        "# your code goes here"
      ]
    },
    {
      "cell_type": "markdown",
      "metadata": {
        "id": "hzkzURFj4jnT"
      },
      "source": [
        "### City column"
      ]
    },
    {
      "cell_type": "code",
      "execution_count": null,
      "metadata": {
        "ExecuteTime": {
          "end_time": "2021-10-27T18:56:56.402705Z",
          "start_time": "2021-10-27T18:56:56.401612Z"
        },
        "id": "zOQjBe-94jnT"
      },
      "outputs": [],
      "source": [
        "# your code goes here"
      ]
    },
    {
      "cell_type": "markdown",
      "metadata": {
        "id": "SN671FEX4jnT"
      },
      "source": [
        "### Parts column"
      ]
    },
    {
      "cell_type": "code",
      "execution_count": null,
      "metadata": {
        "ExecuteTime": {
          "end_time": "2021-10-27T18:56:56.644628Z",
          "start_time": "2021-10-27T18:56:56.643615Z"
        },
        "id": "nMHzx5rl4jnT"
      },
      "outputs": [],
      "source": [
        "# your code goes here"
      ]
    },
    {
      "cell_type": "markdown",
      "metadata": {
        "id": "Stk-AVkM4jnT"
      },
      "source": [
        "### Price column"
      ]
    },
    {
      "cell_type": "code",
      "execution_count": null,
      "metadata": {
        "ExecuteTime": {
          "end_time": "2021-10-27T18:56:56.662243Z",
          "start_time": "2021-10-27T18:56:56.660643Z"
        },
        "id": "bGb4G97k4jnU"
      },
      "outputs": [],
      "source": [
        "# your code goes here"
      ]
    },
    {
      "cell_type": "markdown",
      "metadata": {
        "id": "S9TgwrNZ4jnU"
      },
      "source": [
        "### Date column"
      ]
    },
    {
      "cell_type": "code",
      "execution_count": null,
      "metadata": {
        "ExecuteTime": {
          "end_time": "2021-10-31T14:38:43.270635Z",
          "start_time": "2021-10-31T14:38:43.268585Z"
        },
        "id": "am9CNN594jnU"
      },
      "outputs": [],
      "source": [
        "#your code goes here"
      ]
    },
    {
      "cell_type": "markdown",
      "metadata": {
        "id": "2Ik77rvq4jnU"
      },
      "source": [
        "### Profile `df_transactions_cleaned` and summarize corrections made"
      ]
    },
    {
      "cell_type": "code",
      "execution_count": null,
      "metadata": {
        "ExecuteTime": {
          "end_time": "2021-10-31T14:38:52.078805Z",
          "start_time": "2021-10-31T14:38:52.076381Z"
        },
        "id": "vOuZ6QGY4jnU",
        "scrolled": true
      },
      "outputs": [],
      "source": [
        "# your code goes here"
      ]
    },
    {
      "cell_type": "markdown",
      "metadata": {
        "id": "tTnK1fMF4jnU"
      },
      "source": [
        "*Your summary goes here*"
      ]
    },
    {
      "cell_type": "markdown",
      "metadata": {
        "id": "rVEOeN4C4jnU"
      },
      "source": [
        "## Part 2: Standardise prices (5 pts)\n",
        "\n",
        "Transaction prices are recorded in the local currency of the client (EUR, GBP, USD or JPY). You will need to convert these prices from local currency into the common currency (chosen here as) EUR, for comparability. These standardised prices should be added as a column to the dataframe called `prices_euro`.\n",
        "\n",
        "Consider a two step process where you 1) Identify what currency has been used, and 2) Calculate the price conversion. Step 1 may reveal the data is still not completely clean (so either correct by impute or drop). For Step 2 look up exchange rates on the Internet."
      ]
    },
    {
      "cell_type": "code",
      "execution_count": null,
      "metadata": {
        "ExecuteTime": {
          "end_time": "2021-10-27T18:56:58.558049Z",
          "start_time": "2021-10-27T18:56:58.556556Z"
        },
        "id": "VTFTFPMX4jnU"
      },
      "outputs": [],
      "source": [
        "# your code goes here"
      ]
    },
    {
      "cell_type": "markdown",
      "metadata": {
        "id": "7Yiqzq3L4jnU"
      },
      "source": [
        "## Part 3: Business insights (15 pts)"
      ]
    },
    {
      "cell_type": "markdown",
      "metadata": {
        "id": "L019f5Sb4jnV"
      },
      "source": [
        "### Company by revenue\n",
        "\n",
        "The revenue of a company is its total value of orders, all time. Compute and visualise all companies by revenue in descending order."
      ]
    },
    {
      "cell_type": "code",
      "execution_count": null,
      "metadata": {
        "ExecuteTime": {
          "end_time": "2021-10-31T14:39:13.954452Z",
          "start_time": "2021-10-31T14:39:13.952349Z"
        },
        "id": "qS67VJG-4jnV"
      },
      "outputs": [],
      "source": [
        "# your code goes here"
      ]
    },
    {
      "cell_type": "markdown",
      "metadata": {
        "id": "VL29OwOV4jnV"
      },
      "source": [
        "### Country by revenue, per year\n",
        "\n",
        "The revenue of a country in a time period, is its total value of orders in that time period. Compute and visualise all countries by revenue, for years 2016, 2017 and 2018. Your visualisation should have countries on the x-axis and multiple bars (one for each year)."
      ]
    },
    {
      "cell_type": "code",
      "execution_count": null,
      "metadata": {
        "ExecuteTime": {
          "end_time": "2021-10-31T14:39:18.597583Z",
          "start_time": "2021-10-31T14:39:18.594419Z"
        },
        "id": "_KHGZs0O4jnV"
      },
      "outputs": [],
      "source": [
        "# your code goes here"
      ]
    },
    {
      "cell_type": "markdown",
      "metadata": {
        "id": "tIwka6bY4jnV"
      },
      "source": [
        "### Orders per quarter, all companies\n",
        "\n",
        "Compute and visualise the number of orders each company has placed in each quarter. Exclude quarters where the order count is less than 3. As always, be mindful to not produce a cluttered visualisation.\n",
        "\n",
        "Part of your query should form a variable that converts `date` into `YEAR_QUARTER` format. Dealing with dates is via `STRFTIME` [docs](https://www.sqlite.org/lang_datefunc.html) which doesn't allow quarter extraction. Instead, it allows for extraction of month, which you can case on in order to produce the quarter (Q1, Q2, Q3, Q4).  "
      ]
    },
    {
      "cell_type": "code",
      "execution_count": null,
      "metadata": {
        "ExecuteTime": {
          "end_time": "2021-10-31T14:39:23.632721Z",
          "start_time": "2021-10-31T14:39:23.629720Z"
        },
        "id": "zGT4oqVl4jnV"
      },
      "outputs": [],
      "source": [
        "# your code goes here"
      ]
    },
    {
      "cell_type": "markdown",
      "metadata": {
        "id": "xW0LZ7_b4jnV"
      },
      "source": [
        "## Part 4: Parts and prices (20 pts)"
      ]
    },
    {
      "cell_type": "markdown",
      "metadata": {
        "id": "uM6CcJQj4jnV"
      },
      "source": [
        "### Parts demand changes\n",
        "\n",
        "A different amount of orders are placed on parts each year. The demand of a part is the number of orders placed on it. The demand change of a part is the absolute difference between its average demand in 2016/2017, and its demand in 2018.\n",
        "\n",
        "Compute and visualise the 15 parts whose demand change has been the largest."
      ]
    },
    {
      "cell_type": "code",
      "execution_count": null,
      "metadata": {
        "ExecuteTime": {
          "end_time": "2021-10-31T14:39:30.418442Z",
          "start_time": "2021-10-31T14:39:30.415270Z"
        },
        "id": "qjh6pszu4jnV"
      },
      "outputs": [],
      "source": [
        "# your code goes here"
      ]
    },
    {
      "cell_type": "markdown",
      "metadata": {
        "id": "YNGVkZIL4jnV"
      },
      "source": [
        "### Popular parts pricing\n",
        "\n",
        "The most popular parts are those whose demand has increased the most from its 2016/2017 average to 2018. We're interested to find out if popularity is due to a price drop, and also inform us if prices of these parts are properly adjusted.\n",
        "\n",
        "The demand increase of a part is its 2018 demand minus its 2016/2017 average demand. The price change of a part is its average 2018 price minus its average 2016/2017 price.\n",
        "\n",
        "Compute the parts whose demand has increased (has positive demand increase) and the change in price for each of these parts. Then visualise this relationship and include in the figure title the correlation (compute via pandas) between these two variables. Conclude which is most likely 1) Parts became more popular from a drop in prices, or 2) The sales department deserved its bonuses."
      ]
    },
    {
      "cell_type": "code",
      "execution_count": null,
      "metadata": {
        "ExecuteTime": {
          "end_time": "2021-10-31T14:39:38.813945Z",
          "start_time": "2021-10-31T14:39:38.811979Z"
        },
        "id": "prx6EWk04jnV"
      },
      "outputs": [],
      "source": [
        "# your code goes here"
      ]
    },
    {
      "cell_type": "markdown",
      "metadata": {
        "id": "jTYM02c14jnW"
      },
      "source": [
        "*your explanation goes here*"
      ]
    }
  ],
  "metadata": {
    "colab": {
      "collapsed_sections": [],
      "name": "02807_Project_2.ipynb",
      "provenance": []
    },
    "interpreter": {
      "hash": "6c03af9a6691b05e740642a9ca2ba4851b13dbebe645df9a494ddea17fab02a6"
    },
    "kernelspec": {
      "display_name": "Python 3.7.6 64-bit ('base': conda)",
      "name": "python3"
    },
    "language_info": {
      "codemirror_mode": {
        "name": "ipython",
        "version": 3
      },
      "file_extension": ".py",
      "mimetype": "text/x-python",
      "name": "python",
      "nbconvert_exporter": "python",
      "pygments_lexer": "ipython3",
      "version": "3.7.6"
    },
    "toc": {
      "base_numbering": 1,
      "nav_menu": {},
      "number_sections": true,
      "sideBar": true,
      "skip_h1_title": false,
      "title_cell": "Table of Contents",
      "title_sidebar": "Contents",
      "toc_cell": false,
      "toc_position": {
        "height": "calc(100% - 180px)",
        "left": "10px",
        "top": "150px",
        "width": "432.448px"
      },
      "toc_section_display": true,
      "toc_window_display": true
    }
  },
  "nbformat": 4,
  "nbformat_minor": 0
}
