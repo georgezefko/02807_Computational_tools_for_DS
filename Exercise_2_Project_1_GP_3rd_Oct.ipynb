{
  "nbformat": 4,
  "nbformat_minor": 0,
  "metadata": {
    "colab": {
      "name": "Exercise_2_Project_1.ipynb",
      "provenance": [],
      "collapsed_sections": [],
      "toc_visible": true,
      "include_colab_link": true
    },
    "kernelspec": {
      "display_name": "Python 3",
      "language": "python",
      "name": "python3"
    },
    "language_info": {
      "codemirror_mode": {
        "name": "ipython",
        "version": 3
      },
      "file_extension": ".py",
      "mimetype": "text/x-python",
      "name": "python",
      "nbconvert_exporter": "python",
      "pygments_lexer": "ipython3",
      "version": "3.8.10"
    },
    "toc": {
      "base_numbering": 1,
      "nav_menu": {},
      "number_sections": true,
      "sideBar": true,
      "skip_h1_title": false,
      "title_cell": "Table of Contents",
      "title_sidebar": "Contents",
      "toc_cell": false,
      "toc_position": {
        "height": "calc(100% - 180px)",
        "left": "10px",
        "top": "150px",
        "width": "362px"
      },
      "toc_section_display": true,
      "toc_window_display": true
    }
  },
  "cells": [
    {
      "cell_type": "markdown",
      "metadata": {
        "id": "view-in-github",
        "colab_type": "text"
      },
      "source": [
        "<a href=\"https://colab.research.google.com/github/georgezefko/02807_Computational_tools_for_DS/blob/main/Exercise_2_Project_1_GP_3rd_Oct.ipynb\" target=\"_parent\"><img src=\"https://colab.research.google.com/assets/colab-badge.svg\" alt=\"Open In Colab\"/></a>"
      ]
    },
    {
      "cell_type": "markdown",
      "metadata": {
        "id": "PlsPJUw7wCWZ"
      },
      "source": [
        "# 02807: Project 1\n",
        " \n",
        "## Practical information\n",
        " \n",
        "* This project must be completed in groups of 3 students.\n",
        "    * The group must be registered on the course site on DTU Learn: My Course > Groups\n",
        "* This project must be handed in as a jupyter notebook to the course site on DTU Learn. \n",
        "    * Go to the Course Content > Assignments tab to upload your submission. \n",
        "* This project is due on Monday, November 1, 20:00.\n",
        "\n",
        "## Submission rules\n",
        "\n",
        "* Each group has to hand in *one* notebook (`.ipynb`) with their solutions, including a filled out Contribution table (see below).\n",
        "* Your solution must be written in Python.\n",
        "* For each question you should use the cells provided (\"`# your code goes here`\") for your solution\n",
        "    * It is allowed to add code cells within a question block, but consider if it's really necessary.\n",
        "* You should not remove the problem statements, and you should not modify the structure of the notebook.\n",
        "* Your notebook should be runnable and readable from top to bottom.\n",
        "    * Meaning that your code cells work when run in order (from top to bottom).\n",
        "    * Output of any cell depends only on itself and cells above it.\n",
        "* Your notebook should be submitted after having been run from top to bottom.\n",
        "    * This means outputs are interpretable without necessarily running your cells.\n",
        "    * The simplest way to achieve this is using the jupyter menu item Kernel > Restart & Run All just prior to submission. If any cell fails when you do this, your notebook is not ready for submission.\n",
        "* Failure to comply may make it impossible for us to evaluate your submission properly, which will likely negatively impact the points awarded.\n",
        "    \n",
        " \n",
        "## Colaboration policy\n",
        " \n",
        "* It is not allowed to collaborate on the exercises with students outside your group, except for discussing the text of the exercise with teachers and fellow students enrolled on the course in the same semester. \n",
        "* It is not allowed to exchange, hand-over or in any other way communicate solutions or parts of solutions to the exercises. \n",
        "* It is not allowed to use solutions from similar courses, or solutions found elsewhere."
      ]
    },
    {
      "cell_type": "markdown",
      "metadata": {
        "id": "ZP30rwxHDQyG"
      },
      "source": [
        "## Contribution table and grading\n",
        "\n",
        "* The total amount of points in the project is 110.\n",
        "* You have to indicate who has solved each part of each exercise in a **contribution table**. \n",
        "* The following is an example of a contributions table:\n",
        "\n",
        "|        | Exercise 1 | Exercise 2 | Exercise 3 | Exercise 4 |\n",
        "|--------|------------|------------|------------|------------|\n",
        "| **Part 1** | John       |    Mary        |     Ann       |   Mary, Ann         |\n",
        "| **Part 2** |     Mary       |    Mary        |   Ann         |    John, Ann        |\n",
        "| **Part 3** |     John, Mary, Ann       |      John, Ann      |   John         | **n.a.**      |\n",
        "| **Part 4** | **n.a.**       |  Ann          |     John, Mary       | **n.a.**       |\n",
        "| **Part 5** | **n.a.**     | John, Mary, Ann           | John       | **n.a.**       |\n",
        "\n",
        "* A group member can take credit for solving a part of an exercise only if they have contributed **substantially** to the solution. \n",
        "    * Simple contributions, such as correcting a small bug or double-checking the results of functions, are not sufficient for taking credit for a solution.\n",
        "    * Several group members can take credit for the same solution if they all have contributed substantially to it.\n",
        "* Each group member must contribute **at least 50 points**. \n",
        "    * If no name is provided for an exercise's part, **all group members** are considered contributors to it.\n",
        "* Group members should decide amongst themselves how to collaborate on the project to meet the above-mentioned constraints.  \n",
        "* Scores are individual. The score $\\text{score}(m)$ for a group member $m$ ranges from 0 to 10 and is calculated as follows: \n",
        "\n",
        "  * $\\text{individual-score}(m) = \\frac{\\text{total number of points for the parts correctly solved by }m}{\\text{total number of points for the parts contributed by }m}$\n",
        "\n",
        "  * $\\text{group-score} = \\frac{\\text{total number of points correctly solved by any group member}}{\\text{total number of points in the project}}$\n",
        "\n",
        "  * $\\text{score}(m) =  7.5 \\cdot \\text{individual-score}(m) + 2.5 \\cdot \\text{group-score}$\n",
        "\n",
        "* **Example**: in the contribution table above, suppose that all parts are solved correctly except for those of Exercise 4, which are both wrong. Then Ann's score is calculated as follows:\n",
        "\n",
        "  * $\\text{individual-score}(Ann) = \\frac{2.5+12.5+12.5+2.5+15+5}{2.5+12.5+12.5+2.5+15+5 + 10 + 10} = \\frac{50}{70} = 0.714$\n",
        "\n",
        "  * $\\text{group-score} = \\frac{90}{110} = 0.818$\n",
        "\n",
        "  * $\\text{score}(Ann) = 7.5\\cdot 0.714 + 2.5 \\cdot 0.818 = 7.4$\n"
      ]
    },
    {
      "cell_type": "markdown",
      "metadata": {
        "id": "vklet8XdRGVV"
      },
      "source": [
        "# Group declaration table \n",
        "\n",
        "This table must be filled before submission.\n",
        "\n"
      ]
    },
    {
      "cell_type": "code",
      "metadata": {
        "ExecuteTime": {
          "end_time": "2021-09-27T15:03:19.791917Z",
          "start_time": "2021-09-27T15:03:19.764408Z"
        },
        "id": "chiXA3CzRSA1",
        "colab": {
          "base_uri": "https://localhost:8080/",
          "height": 206
        },
        "outputId": "afc5dcfc-fb90-432f-f8f5-6fe3684f8609"
      },
      "source": [
        "import pandas as pd\n",
        "\n",
        "d = {'Exercise 1' : [\"\", \"\", \"\", \"\", \"\"], \n",
        "     'Exercise 2' : [\"\", \"\", \"\", \"\", \"\"],\n",
        "     'Exercise 3' : [\"\", \"\", \"\", \"\", \"\"], \n",
        "     'Exercise 4' : [\"\", \"\", \"\", \"\", \"\"],\n",
        "     } \n",
        "  \n",
        "ct = pd.DataFrame(d, index =['Part 1','Part 2','Part 3','Part 4','Part 5']) \n",
        "\n",
        "ct"
      ],
      "execution_count": 1,
      "outputs": [
        {
          "output_type": "execute_result",
          "data": {
            "text/html": [
              "<div>\n",
              "<style scoped>\n",
              "    .dataframe tbody tr th:only-of-type {\n",
              "        vertical-align: middle;\n",
              "    }\n",
              "\n",
              "    .dataframe tbody tr th {\n",
              "        vertical-align: top;\n",
              "    }\n",
              "\n",
              "    .dataframe thead th {\n",
              "        text-align: right;\n",
              "    }\n",
              "</style>\n",
              "<table border=\"1\" class=\"dataframe\">\n",
              "  <thead>\n",
              "    <tr style=\"text-align: right;\">\n",
              "      <th></th>\n",
              "      <th>Exercise 1</th>\n",
              "      <th>Exercise 2</th>\n",
              "      <th>Exercise 3</th>\n",
              "      <th>Exercise 4</th>\n",
              "    </tr>\n",
              "  </thead>\n",
              "  <tbody>\n",
              "    <tr>\n",
              "      <th>Part 1</th>\n",
              "      <td></td>\n",
              "      <td></td>\n",
              "      <td></td>\n",
              "      <td></td>\n",
              "    </tr>\n",
              "    <tr>\n",
              "      <th>Part 2</th>\n",
              "      <td></td>\n",
              "      <td></td>\n",
              "      <td></td>\n",
              "      <td></td>\n",
              "    </tr>\n",
              "    <tr>\n",
              "      <th>Part 3</th>\n",
              "      <td></td>\n",
              "      <td></td>\n",
              "      <td></td>\n",
              "      <td></td>\n",
              "    </tr>\n",
              "    <tr>\n",
              "      <th>Part 4</th>\n",
              "      <td></td>\n",
              "      <td></td>\n",
              "      <td></td>\n",
              "      <td></td>\n",
              "    </tr>\n",
              "    <tr>\n",
              "      <th>Part 5</th>\n",
              "      <td></td>\n",
              "      <td></td>\n",
              "      <td></td>\n",
              "      <td></td>\n",
              "    </tr>\n",
              "  </tbody>\n",
              "</table>\n",
              "</div>"
            ],
            "text/plain": [
              "       Exercise 1 Exercise 2 Exercise 3 Exercise 4\n",
              "Part 1                                            \n",
              "Part 2                                            \n",
              "Part 3                                            \n",
              "Part 4                                            \n",
              "Part 5                                            "
            ]
          },
          "metadata": {},
          "execution_count": 1
        }
      ]
    },
    {
      "cell_type": "markdown",
      "metadata": {
        "_uuid": "d7aa1b0ad6979877450f9cd89e1e37289b51cf6e",
        "id": "CF8tC7Z8CgbW"
      },
      "source": [
        "# Introduction to the Datasets"
      ]
    },
    {
      "cell_type": "markdown",
      "metadata": {
        "id": "pO8N4lj29u9w"
      },
      "source": [
        "![link text](https://ph-files.imgix.net/069dd825-cddf-4048-adde-8e81396c2c68?auto=format)\n",
        "\n",
        "\n",
        "You will be working with datasets obtained through the [The Movie Database (TMDb) API](https://developers.themoviedb.org/3/getting-started/introduction). The first dataset is part of the MovieLens Latest Full Dataset, comprising 26 million ratings on 45.000 movies from 27.000 users. Let's look at the features in this dataset.\n",
        "\n",
        "**Features**\n",
        "\n",
        "* **adult**: Indicates if the movie is X-Rated.\n",
        "* **belongs_to_collection**: A stringified dictionary with info on the movie series a particular film belongs to (e.g.: Lord of the Rings).\n",
        "* **budget**: The movie budget in dollars.\n",
        "* **genres**: A stringified list of dictionaries describing all genres associated with the movie.\n",
        "* **homepage**: The movie's official homepage.\n",
        "* **id**: An identifier for the movie.\n",
        "* **imdb_id**: IMDB's identifier for the movie.\n",
        "* **original_language**: The language in which the movie was shot.\n",
        "* **original_title**: The original title of the movie.\n",
        "* **overview**: A brief text about the movie.\n",
        "* **popularity**: A Popularity Score given by TMDb.\n",
        "* **poster_path**: The URL of the poster image.\n",
        "* **production_companies**: A stringified list of production companies involved with making of the movie.\n",
        "* **production_countries**: A stringified list of countries in which the movie was produced.\n",
        "* **release_date**: Release date of the movie in theaters.\n",
        "* **revenue**: The total revenue of the movie in dollars.\n",
        "* **runtime**: The runtime of the movie in minutes.\n",
        "* **spoken_languages**: A stringified list of languages spoken in the film.\n",
        "* **status**: The status of the movie (Released, To Be Released, etc.)\n",
        "* **tagline**: The movie's tagline.\n",
        "* **title**: The official title of the movie.\n",
        "* **video**: Indicates whether there is a video of the movie in TMDb.\n",
        "* **vote_average**: The average rating of the movie, on a 0-10 scale.\n",
        "* **vote_count**: The number of votes by users, as counted by TMDb."
      ]
    },
    {
      "cell_type": "markdown",
      "metadata": {
        "_uuid": "6b418588e3f9139f74cb3a9546f5dca49729579b",
        "id": "2Clue5Z_Cgbc"
      },
      "source": [
        "# Imports\n",
        "\n",
        "First, let's make sure to import Pandas and NumPy. "
      ]
    },
    {
      "cell_type": "code",
      "metadata": {
        "ExecuteTime": {
          "end_time": "2021-09-27T10:09:32.802462Z",
          "start_time": "2021-09-27T10:09:30.598648Z"
        },
        "id": "A0K3Aw3eAf2B"
      },
      "source": [
        "import pandas as pd \n",
        "import numpy as np\n",
        "import ast\n",
        "import cProfile"
      ],
      "execution_count": 1,
      "outputs": []
    },
    {
      "cell_type": "markdown",
      "metadata": {
        "id": "PFlHk-e0BZME"
      },
      "source": [
        "# Exercise 1: Loading, preprocessing and cleaning the data (15 points)"
      ]
    },
    {
      "cell_type": "markdown",
      "metadata": {
        "id": "mGJnqtQD1BOs"
      },
      "source": [
        "Read the movie dataset from the following URL."
      ]
    },
    {
      "cell_type": "code",
      "metadata": {
        "ExecuteTime": {
          "end_time": "2021-09-27T10:09:34.147572Z",
          "start_time": "2021-09-27T10:09:34.145160Z"
        },
        "id": "sQb46KRIAkOB"
      },
      "source": [
        "url = 'http://courses.compute.dtu.dk/02807/2021/projects/project1/movies_metadata.csv'"
      ],
      "execution_count": 2,
      "outputs": []
    },
    {
      "cell_type": "markdown",
      "metadata": {
        "id": "jQrm5PleClKz"
      },
      "source": [
        "## Part 1: Reading and preprocessing the data (10 pts)\n",
        "\n",
        "Pandas infers a data type for raw data from a `.csv`, defaulting to string type when no other `dtype` could be established. For example, the `genres` column in our dataset is read as a string with a *stringified* list of dictionaries as cell content. \n",
        "\n",
        "Some preprocessing steps are therefore needed, to convert the columns into their proper data types.\n",
        "\n",
        "Write a function `load_movies_data()` that reads the URL into a Pandas DataFrame and preprocesses its columns to ensure that:\n",
        "\n",
        "1. Data in the `release_date` column consists of Pandas `Timestamp` objects, except for missing values. For example, executing a code cell with `df.release_date[0]` should display the output `Timestamp('1995-10-30 00:00:00')`.\n",
        "\n",
        "2. Data in `belongs_to_collection` consists of dictionaries, except for missing values.\n",
        "\n",
        "3. Data in `genres`, `production_companies` and `production_countries` consists of lists of dictionaries, except for missing values. \n",
        "\n",
        "For example, executing a code cell with `df.genres[0]` should display the output \n",
        "```\n",
        "[{'id': 16, 'name': 'Animation'},\n",
        " {'id': 35, 'name': 'Comedy'},\n",
        " {'id': 10751, 'name': 'Family'}]\n",
        "```\n",
        "which is a list type, not a string. The elements of the list are dictionaries (executing `df.genres[0][0]['name']` returns `'Animation'`). \n",
        "\n",
        "**Hint**: for items 2 and 3, you should use `ast.literal_eval`.\n",
        "\n",
        "These conversions can be performed using Pandas' built-in functions and/or calling Pandas' `apply()` with appropriate arguments. Avoid explicit looping. You'll be asked below to time the loading and preprocessing step. "
      ]
    },
    {
      "cell_type": "code",
      "metadata": {
        "id": "VIEe2lkgscZc"
      },
      "source": [
        "# Define the function load_movies_data()\n",
        "def load_movies_data(csv_file):\n",
        "  df=pd.read_csv(csv_file)  \n",
        "  df.release_date=pd.to_datetime(df.release_date,errors='coerce')\n",
        "  df.belongs_to_collection=df.belongs_to_collection.fillna('{}').apply(lambda x: ast.literal_eval(str(x)))\n",
        "  df.genres=df.genres.fillna('[]').apply(lambda x: ast.literal_eval(str(x)))\n",
        "  df.production_companies=df.production_companies.fillna('[]').apply(lambda x: ast.literal_eval(str(x)))\n",
        "  df.production_countries=df.production_countries.fillna('[]').apply(lambda x: ast.literal_eval(str(x)))\n",
        "  return df"
      ],
      "execution_count": 3,
      "outputs": []
    },
    {
      "cell_type": "markdown",
      "metadata": {
        "id": "oZvSPPdzfScL"
      },
      "source": [
        "Now call `load_movies_data()` and load the data into a DataFrame `df`."
      ]
    },
    {
      "cell_type": "code",
      "metadata": {
        "id": "4-eOSqlhD-8J",
        "colab": {
          "base_uri": "https://localhost:8080/"
        },
        "outputId": "2c257eb9-18fd-4a0e-c22f-d84087e8e4dc"
      },
      "source": [
        "df=load_movies_data(url)"
      ],
      "execution_count": 4,
      "outputs": [
        {
          "output_type": "stream",
          "name": "stderr",
          "text": [
            "/usr/local/lib/python3.7/dist-packages/IPython/core/interactiveshell.py:2822: DtypeWarning: Columns (10) have mixed types.Specify dtype option on import or set low_memory=False.\n",
            "  if self.run_code(code, result):\n"
          ]
        }
      ]
    },
    {
      "cell_type": "markdown",
      "metadata": {
        "id": "bnelY1bZzj-J"
      },
      "source": [
        "Display the DataFrame. You should check that it looks correct."
      ]
    },
    {
      "cell_type": "code",
      "metadata": {
        "id": "tP6zpeLxu4J-",
        "colab": {
          "base_uri": "https://localhost:8080/"
        },
        "outputId": "e0dbd3f7-3c2c-4eef-bf29-923b73314f79"
      },
      "source": [
        "df.info()"
      ],
      "execution_count": 5,
      "outputs": [
        {
          "output_type": "stream",
          "name": "stdout",
          "text": [
            "<class 'pandas.core.frame.DataFrame'>\n",
            "RangeIndex: 45466 entries, 0 to 45465\n",
            "Data columns (total 24 columns):\n",
            " #   Column                 Non-Null Count  Dtype         \n",
            "---  ------                 --------------  -----         \n",
            " 0   adult                  45466 non-null  object        \n",
            " 1   belongs_to_collection  45466 non-null  object        \n",
            " 2   budget                 45466 non-null  object        \n",
            " 3   genres                 45466 non-null  object        \n",
            " 4   homepage               7782 non-null   object        \n",
            " 5   id                     45466 non-null  object        \n",
            " 6   imdb_id                45449 non-null  object        \n",
            " 7   original_language      45455 non-null  object        \n",
            " 8   original_title         45466 non-null  object        \n",
            " 9   overview               44512 non-null  object        \n",
            " 10  popularity             45461 non-null  object        \n",
            " 11  poster_path            45080 non-null  object        \n",
            " 12  production_companies   45466 non-null  object        \n",
            " 13  production_countries   45466 non-null  object        \n",
            " 14  release_date           45376 non-null  datetime64[ns]\n",
            " 15  revenue                45460 non-null  float64       \n",
            " 16  runtime                45203 non-null  float64       \n",
            " 17  spoken_languages       45460 non-null  object        \n",
            " 18  status                 45379 non-null  object        \n",
            " 19  tagline                20412 non-null  object        \n",
            " 20  title                  45460 non-null  object        \n",
            " 21  video                  45460 non-null  object        \n",
            " 22  vote_average           45460 non-null  float64       \n",
            " 23  vote_count             45460 non-null  float64       \n",
            "dtypes: datetime64[ns](1), float64(4), object(19)\n",
            "memory usage: 8.3+ MB\n"
          ]
        }
      ]
    },
    {
      "cell_type": "markdown",
      "metadata": {
        "id": "PuzjOV7ffbpR"
      },
      "source": [
        "## Part 2: Timing your function (2.5 pts)\n",
        "\n",
        "Time the performance of your function. To get the points for this part, the time reported below must not exceed 40 seconds."
      ]
    },
    {
      "cell_type": "code",
      "metadata": {
        "id": "aIYWL17bO2Ih"
      },
      "source": [
        "# load_time = %timeit -o -r 3 load_movies_data(url)\n",
        "# print(\"Time (s):\", load_time.best)"
      ],
      "execution_count": 6,
      "outputs": []
    },
    {
      "cell_type": "markdown",
      "metadata": {
        "id": "7sVQeTkLYI2b"
      },
      "source": [
        "## Part 3: Cleaning the data (2.5 pts)"
      ]
    },
    {
      "cell_type": "markdown",
      "metadata": {
        "id": "6ydbZ-KFYlRX"
      },
      "source": [
        "Filter/drop all rows in `df` meeting any of these conditions:\n",
        "* The `adult` value is not `'False'`\n",
        "* The `vote_count` value is missing\n",
        "* The `vote_average` value is missing\n",
        "\n",
        "Do not loop over rows to perform these checks. Use Pandas' built-in functionality to do so. "
      ]
    },
    {
      "cell_type": "code",
      "metadata": {
        "id": "Qtb7AaaVY5nm"
      },
      "source": [
        "df=df[df['adult']=='False']\n",
        "df=df.dropna(subset=['vote_count','vote_average'],axis=0)"
      ],
      "execution_count": 7,
      "outputs": []
    },
    {
      "cell_type": "markdown",
      "metadata": {
        "id": "mT8jdILukiBF"
      },
      "source": [
        "# Exercise 2: Computing IMDb's ratings (35 points)"
      ]
    },
    {
      "cell_type": "markdown",
      "metadata": {
        "id": "84SE_eMzkyC1"
      },
      "source": [
        "The Top Rated 250 titles in IMDb are calculated using [a formula](https://help.imdb.com/article/imdb/track-movies-tv/ratings-faq/G67Y87TFYYP6TWAV#calculatetop) that takes into account the number of votes that a title has received, the minimum votes required to be on the list, and the mean vote for all titles. The rating for a title is given as follows:\n",
        "\n",
        "$$ \\text{weighted rating } = \\left(\\frac{v}{v+m} \\cdot R\\right) + \\left(\\frac{m}{v+m} \\cdot C\\right)$$\n",
        "\n",
        "Where:\n",
        "\n",
        "$m$ = the minimum number of votes required to be listed in the Top Rated ranking. We'll let $m=1000$.\n",
        "\n",
        "$v$ = the number of votes received by the title (the title's **`vote_count`** value)\n",
        "\n",
        "$R$ = the average rating for the title (the title's **`vote_average`** value)\n",
        "\n",
        "$C$ = the mean vote across the whole list (the mean over the **`vote_average`** column)"
      ]
    },
    {
      "cell_type": "markdown",
      "metadata": {
        "id": "85J4HDO2rieA"
      },
      "source": [
        "We are going to compute the ratings for movies that could be listed in IMDb's Top Rated 250 ranking.  We want to do this as efficiently as possible. As a baseline for benchmarking, we'll use an approach that explicitly loops and indexes over the rows of the dataset and computes the weighted rating for the corresponding movie (if the movie has more than 1000 votes). "
      ]
    },
    {
      "cell_type": "code",
      "metadata": {
        "ExecuteTime": {
          "end_time": "2021-09-27T10:27:52.905697Z",
          "start_time": "2021-09-27T10:27:52.800529Z"
        },
        "id": "MyYhLdBksTec"
      },
      "source": [
        "C = df['vote_average'].mean()\n",
        "m = 1000\n",
        "\n",
        "def weighted_rating(row):\n",
        "    if row['vote_count'] > m:\n",
        "        v = row['vote_count']\n",
        "        R = row['vote_average']\n",
        "        return (v/(v+m) * R) + (m/(v+m) * C)\n",
        "    else:\n",
        "        return np.nan\n",
        "\n",
        "def weighted_rating_loop(df):\n",
        "    rating_list = []\n",
        "    for i in range(len(df)):\n",
        "        rating = weighted_rating(df.iloc[i])\n",
        "        rating_list.append(rating)\n",
        "    df['imdb_rating'] = rating_list"
      ],
      "execution_count": 8,
      "outputs": []
    },
    {
      "cell_type": "code",
      "metadata": {
        "id": "JIsei1w4r9Jz",
        "colab": {
          "base_uri": "https://localhost:8080/",
          "height": 206
        },
        "outputId": "68a72edf-483b-4f6e-8091-791025272a6c"
      },
      "source": [
        "weighted_rating_loop(df)\n",
        "\n",
        "columns_to_show = ['id', 'original_title'] + \\\n",
        "                  list(df.columns[df.columns.str.startswith('imdb_rating')])\n",
        "df[columns_to_show].head()"
      ],
      "execution_count": 9,
      "outputs": [
        {
          "output_type": "execute_result",
          "data": {
            "text/html": [
              "<div>\n",
              "<style scoped>\n",
              "    .dataframe tbody tr th:only-of-type {\n",
              "        vertical-align: middle;\n",
              "    }\n",
              "\n",
              "    .dataframe tbody tr th {\n",
              "        vertical-align: top;\n",
              "    }\n",
              "\n",
              "    .dataframe thead th {\n",
              "        text-align: right;\n",
              "    }\n",
              "</style>\n",
              "<table border=\"1\" class=\"dataframe\">\n",
              "  <thead>\n",
              "    <tr style=\"text-align: right;\">\n",
              "      <th></th>\n",
              "      <th>id</th>\n",
              "      <th>original_title</th>\n",
              "      <th>imdb_rating</th>\n",
              "    </tr>\n",
              "  </thead>\n",
              "  <tbody>\n",
              "    <tr>\n",
              "      <th>0</th>\n",
              "      <td>862</td>\n",
              "      <td>Toy Story</td>\n",
              "      <td>7.375533</td>\n",
              "    </tr>\n",
              "    <tr>\n",
              "      <th>1</th>\n",
              "      <td>8844</td>\n",
              "      <td>Jumanji</td>\n",
              "      <td>6.524536</td>\n",
              "    </tr>\n",
              "    <tr>\n",
              "      <th>2</th>\n",
              "      <td>15602</td>\n",
              "      <td>Grumpier Old Men</td>\n",
              "      <td>NaN</td>\n",
              "    </tr>\n",
              "    <tr>\n",
              "      <th>3</th>\n",
              "      <td>31357</td>\n",
              "      <td>Waiting to Exhale</td>\n",
              "      <td>NaN</td>\n",
              "    </tr>\n",
              "    <tr>\n",
              "      <th>4</th>\n",
              "      <td>11862</td>\n",
              "      <td>Father of the Bride Part II</td>\n",
              "      <td>NaN</td>\n",
              "    </tr>\n",
              "  </tbody>\n",
              "</table>\n",
              "</div>"
            ],
            "text/plain": [
              "      id               original_title  imdb_rating\n",
              "0    862                    Toy Story     7.375533\n",
              "1   8844                      Jumanji     6.524536\n",
              "2  15602             Grumpier Old Men          NaN\n",
              "3  31357            Waiting to Exhale          NaN\n",
              "4  11862  Father of the Bride Part II          NaN"
            ]
          },
          "metadata": {},
          "execution_count": 9
        }
      ]
    },
    {
      "cell_type": "markdown",
      "metadata": {
        "id": "JdlffrsJyHvI"
      },
      "source": [
        "Let's look at the average performance of this function:"
      ]
    },
    {
      "cell_type": "code",
      "metadata": {
        "id": "su__dMpZyX5W",
        "colab": {
          "base_uri": "https://localhost:8080/"
        },
        "outputId": "d1f58a5c-b05d-4549-9b15-489e054fa387"
      },
      "source": [
        "basic_time = %timeit -r 3 -o weighted_rating_loop(df)\n",
        "print(\"Best time:\", basic_time.best)"
      ],
      "execution_count": 10,
      "outputs": [
        {
          "output_type": "stream",
          "name": "stdout",
          "text": [
            "1 loop, best of 3: 9.06 s per loop\n",
            "Best time: 9.05902130200002\n"
          ]
        }
      ]
    },
    {
      "cell_type": "markdown",
      "metadata": {
        "id": "HPjyKJ2zzPoQ"
      },
      "source": [
        "In the remaining parts of the exercise, you are going to be asked to come up with alternative ways to compute the ratings, using various methodologies. Let's create a score board to keep track of performance. Here's a description of the rows:\n",
        "\n",
        "*   **Best single run time (s)**:  The best time used by your solution, in seconds.\n",
        "*   **Marginal performance improvement**: The time improvement of your current solution over its immediately preceding solution. Given by: $\\frac{\\text{best single run time (s) of previous solution}}{\\text{best single run time (s) of current solution}}$\n",
        "*   **Performance improvement over basic looping**:  The time improvement over our baseline solution. Given by: $\\frac{\\text{best single run time (s) of weighted_rating_loop}}{\\text{best single run time (s) of current solution}}$\n",
        "*   **Best single run time (s, teacher)**: The time of a solution provided by the teacher. \n",
        "*   **Marginal performance improvement (teacher)**: The time improvement of the teacher's solution over its immediately preceding solution. \n",
        "*   **Performance improvement over basic looping (teacher)**:  The teacher's solution improvement over the baseline solution.\n",
        "\n"
      ]
    },
    {
      "cell_type": "code",
      "metadata": {
        "ExecuteTime": {
          "end_time": "2021-09-27T11:03:14.455052Z",
          "start_time": "2021-09-27T11:03:14.442251Z"
        },
        "id": "fV-xfrs53NBF"
      },
      "source": [
        "timing_data = {\n",
        "    'Best single run time (s)': [basic_time.best, np.nan, np.nan, np.nan,np.nan],\n",
        "    'Marginal performance improvement': [np.nan,np.nan, np.nan, np.nan,np.nan],\n",
        "    'Performance improvement over basic looping': np.nan,\n",
        "    'Best single run time (s, teacher)': [9.37, 3.87, 0.562, 0.0054, 0.00084],\n",
        "    'Marginal performance improvement (teacher)': [np.nan, 'x2.42', 'x6.88', 'x103.8', 'x6.45'],\n",
        "    'Performance improvement over basic looping (teacher)': [np.nan, 'x2.42', 'x16.69', 'x1732.17','x11172.98']\n",
        "}\n",
        "\n",
        "indices = ['Basic looping', 'Iterrows looping', 'apply()', 'Pandas vectorisation', 'NumPy vectorisation']\n",
        "timings = pd.DataFrame(timing_data, index=indices)\n",
        "timings"
      ],
      "execution_count": null,
      "outputs": []
    },
    {
      "cell_type": "markdown",
      "metadata": {
        "id": "ZfD0eUlHgz3l"
      },
      "source": [
        "**The grading for the following parts works as follows.**\n",
        "\n",
        "Let $m$ be the marginal performance improvement for the teacher's solution over basic looping, and let $m'$ be the marginal performance improvement for your solution over `basic_time`. If a part gives $n$ points, then you will get the $n$ points if $m' \\geq 0.4 m$, and 0 points otherwise.\n",
        "\n",
        "You don't get extra points for performing faster than the teacher's solution. But this is of course possible and you should feel free to optimise away as much as you want!"
      ]
    },
    {
      "cell_type": "markdown",
      "metadata": {
        "id": "JkiLI2QT7oNY"
      },
      "source": [
        "## Part 1: Looping with `iterrows` (2.5 pts)"
      ]
    },
    {
      "cell_type": "markdown",
      "metadata": {
        "id": "bmZIqPIf743q"
      },
      "source": [
        "Define a function `weighted_rating_iterrows(df)` that computes the ratings by looping over rows with the built-in iterator `iterrows`, and stores the results in a new column of the DataFrame called called `imdb_rating_iter`."
      ]
    },
    {
      "cell_type": "code",
      "metadata": {
        "id": "m4dTxRfW6Gc4"
      },
      "source": [
        "# your code goes here\n",
        "def weighted_rating_iterrows(df):\n",
        "  ratings = []\n",
        "  for index, row in df.iterrows():\n",
        "    if row['vote_count']>1000:\n",
        "      v = row['vote_count']\n",
        "      R = row['vote_average']\n",
        "      rating = (v/(v+m) * R) + (m/(v+m) * C)\n",
        "    else:\n",
        "      rating = np.nan\n",
        "    ratings.append(rating)\n",
        "  df['imdb_rating_iter'] =  ratings\n",
        "\n",
        "\n",
        "\n",
        "  "
      ],
      "execution_count": 12,
      "outputs": []
    },
    {
      "cell_type": "markdown",
      "metadata": {
        "id": "rsvOtN6y8Ycg"
      },
      "source": [
        "Call the function and make sure that it works as intended."
      ]
    },
    {
      "cell_type": "code",
      "metadata": {
        "id": "sLKzzVP86bza",
        "colab": {
          "base_uri": "https://localhost:8080/",
          "height": 206
        },
        "outputId": "f1f53863-2689-4873-8b87-fc6aa615b048"
      },
      "source": [
        "weighted_rating_iterrows(df)\n",
        "\n",
        "pd.testing.assert_series_equal(\n",
        "    df.imdb_rating, df.imdb_rating_iter, check_names=False\n",
        ")\n",
        "\n",
        "columns_to_show = ['id', 'original_title'] + \\\n",
        "                  list(df.columns[df.columns.str.startswith('imdb_rating')])\n",
        "df[columns_to_show].head()"
      ],
      "execution_count": 13,
      "outputs": [
        {
          "output_type": "execute_result",
          "data": {
            "text/html": [
              "<div>\n",
              "<style scoped>\n",
              "    .dataframe tbody tr th:only-of-type {\n",
              "        vertical-align: middle;\n",
              "    }\n",
              "\n",
              "    .dataframe tbody tr th {\n",
              "        vertical-align: top;\n",
              "    }\n",
              "\n",
              "    .dataframe thead th {\n",
              "        text-align: right;\n",
              "    }\n",
              "</style>\n",
              "<table border=\"1\" class=\"dataframe\">\n",
              "  <thead>\n",
              "    <tr style=\"text-align: right;\">\n",
              "      <th></th>\n",
              "      <th>id</th>\n",
              "      <th>original_title</th>\n",
              "      <th>imdb_rating</th>\n",
              "      <th>imdb_rating_iter</th>\n",
              "    </tr>\n",
              "  </thead>\n",
              "  <tbody>\n",
              "    <tr>\n",
              "      <th>0</th>\n",
              "      <td>862</td>\n",
              "      <td>Toy Story</td>\n",
              "      <td>7.375533</td>\n",
              "      <td>7.375533</td>\n",
              "    </tr>\n",
              "    <tr>\n",
              "      <th>1</th>\n",
              "      <td>8844</td>\n",
              "      <td>Jumanji</td>\n",
              "      <td>6.524536</td>\n",
              "      <td>6.524536</td>\n",
              "    </tr>\n",
              "    <tr>\n",
              "      <th>2</th>\n",
              "      <td>15602</td>\n",
              "      <td>Grumpier Old Men</td>\n",
              "      <td>NaN</td>\n",
              "      <td>NaN</td>\n",
              "    </tr>\n",
              "    <tr>\n",
              "      <th>3</th>\n",
              "      <td>31357</td>\n",
              "      <td>Waiting to Exhale</td>\n",
              "      <td>NaN</td>\n",
              "      <td>NaN</td>\n",
              "    </tr>\n",
              "    <tr>\n",
              "      <th>4</th>\n",
              "      <td>11862</td>\n",
              "      <td>Father of the Bride Part II</td>\n",
              "      <td>NaN</td>\n",
              "      <td>NaN</td>\n",
              "    </tr>\n",
              "  </tbody>\n",
              "</table>\n",
              "</div>"
            ],
            "text/plain": [
              "      id               original_title  imdb_rating  imdb_rating_iter\n",
              "0    862                    Toy Story     7.375533          7.375533\n",
              "1   8844                      Jumanji     6.524536          6.524536\n",
              "2  15602             Grumpier Old Men          NaN               NaN\n",
              "3  31357            Waiting to Exhale          NaN               NaN\n",
              "4  11862  Father of the Bride Part II          NaN               NaN"
            ]
          },
          "metadata": {},
          "execution_count": 13
        }
      ]
    },
    {
      "cell_type": "markdown",
      "metadata": {
        "id": "AC-m0iR48jM6"
      },
      "source": [
        "Time the performance of the function."
      ]
    },
    {
      "cell_type": "code",
      "metadata": {
        "id": "9y3BWusJ8y70",
        "colab": {
          "base_uri": "https://localhost:8080/"
        },
        "outputId": "c10cc1a1-9614-4494-af83-43b5dfb63f66"
      },
      "source": [
        "iterrows_time = %timeit -r 3 -o weighted_rating_iterrows(df)\n",
        "print(\"Best time:\", iterrows_time.best)"
      ],
      "execution_count": 14,
      "outputs": [
        {
          "output_type": "stream",
          "name": "stdout",
          "text": [
            "1 loop, best of 3: 3.75 s per loop\n",
            "Best time: 3.751410233999991\n"
          ]
        }
      ]
    },
    {
      "cell_type": "markdown",
      "metadata": {
        "id": "HexMOOCB82e_"
      },
      "source": [
        "Update the score board with the best time, marginal and overall performance change you have obtained. Display the updated table below. "
      ]
    },
    {
      "cell_type": "code",
      "metadata": {
        "id": "_SQRS_gdJCbM",
        "colab": {
          "base_uri": "https://localhost:8080/",
          "height": 258
        },
        "outputId": "20ac4765-16f1-4261-e870-e68d005f8407"
      },
      "source": [
        "# your code goes here\n",
        "timings.iloc[1,0]=iterrows_time.best\n",
        "#marginal\n",
        "timings.iloc[1,1] = timings.iloc[0,0]/timings.iloc[1,0]\n",
        "#overall\n",
        "timings.iloc[1,2] = timings.iloc[0,0]/timings.iloc[1,0]\n",
        "\n",
        "timings"
      ],
      "execution_count": 15,
      "outputs": [
        {
          "output_type": "execute_result",
          "data": {
            "text/html": [
              "<div>\n",
              "<style scoped>\n",
              "    .dataframe tbody tr th:only-of-type {\n",
              "        vertical-align: middle;\n",
              "    }\n",
              "\n",
              "    .dataframe tbody tr th {\n",
              "        vertical-align: top;\n",
              "    }\n",
              "\n",
              "    .dataframe thead th {\n",
              "        text-align: right;\n",
              "    }\n",
              "</style>\n",
              "<table border=\"1\" class=\"dataframe\">\n",
              "  <thead>\n",
              "    <tr style=\"text-align: right;\">\n",
              "      <th></th>\n",
              "      <th>Best single run time (s)</th>\n",
              "      <th>Marginal performance improvement</th>\n",
              "      <th>Performance improvement over basic looping</th>\n",
              "      <th>Best single run time (s, teacher)</th>\n",
              "      <th>Marginal performance improvement (teacher)</th>\n",
              "      <th>Performance improvement over basic looping (teacher)</th>\n",
              "    </tr>\n",
              "  </thead>\n",
              "  <tbody>\n",
              "    <tr>\n",
              "      <th>Basic looping</th>\n",
              "      <td>9.059021</td>\n",
              "      <td>NaN</td>\n",
              "      <td>NaN</td>\n",
              "      <td>9.37000</td>\n",
              "      <td>NaN</td>\n",
              "      <td>NaN</td>\n",
              "    </tr>\n",
              "    <tr>\n",
              "      <th>Iterrows looping</th>\n",
              "      <td>3.751410</td>\n",
              "      <td>2.414831</td>\n",
              "      <td>2.414831</td>\n",
              "      <td>3.87000</td>\n",
              "      <td>x2.42</td>\n",
              "      <td>x2.42</td>\n",
              "    </tr>\n",
              "    <tr>\n",
              "      <th>apply()</th>\n",
              "      <td>NaN</td>\n",
              "      <td>NaN</td>\n",
              "      <td>NaN</td>\n",
              "      <td>0.56200</td>\n",
              "      <td>x6.88</td>\n",
              "      <td>x16.69</td>\n",
              "    </tr>\n",
              "    <tr>\n",
              "      <th>Pandas vectorisation</th>\n",
              "      <td>NaN</td>\n",
              "      <td>NaN</td>\n",
              "      <td>NaN</td>\n",
              "      <td>0.00540</td>\n",
              "      <td>x103.8</td>\n",
              "      <td>x1732.17</td>\n",
              "    </tr>\n",
              "    <tr>\n",
              "      <th>NumPy vectorisation</th>\n",
              "      <td>NaN</td>\n",
              "      <td>NaN</td>\n",
              "      <td>NaN</td>\n",
              "      <td>0.00084</td>\n",
              "      <td>x6.45</td>\n",
              "      <td>x11172.98</td>\n",
              "    </tr>\n",
              "  </tbody>\n",
              "</table>\n",
              "</div>"
            ],
            "text/plain": [
              "                      Best single run time (s)  ...  Performance improvement over basic looping (teacher)\n",
              "Basic looping                         9.059021  ...                                                NaN   \n",
              "Iterrows looping                      3.751410  ...                                              x2.42   \n",
              "apply()                                    NaN  ...                                             x16.69   \n",
              "Pandas vectorisation                       NaN  ...                                           x1732.17   \n",
              "NumPy vectorisation                        NaN  ...                                          x11172.98   \n",
              "\n",
              "[5 rows x 6 columns]"
            ]
          },
          "metadata": {},
          "execution_count": 15
        }
      ]
    },
    {
      "cell_type": "markdown",
      "metadata": {
        "id": "7-FhuhB99em4"
      },
      "source": [
        "## Part 2: Using `apply()`. (5 pts)"
      ]
    },
    {
      "cell_type": "markdown",
      "metadata": {
        "id": "iZ294FYn9qhO"
      },
      "source": [
        "Define a function `weighted_rating_apply(df)` that computes the ratings using Pandas' `apply()` function, and stores the results in a new column of the DataFrame called `imdb_rating_apply`."
      ]
    },
    {
      "cell_type": "code",
      "metadata": {
        "id": "Gk3SdbQs8ghG"
      },
      "source": [
        "# your code goes here\n",
        "\n",
        "# C = df['vote_average'].mean()\n",
        "# m = 1000\n",
        "\n",
        "def weighted_rating_apply(df):\n",
        "  df['imdb_rating_apply'] = df.apply(lambda row: (row['vote_count']/(row['vote_count'] + m) * row['vote_average']) + (m/(row['vote_count'] + m) * C)\n",
        "                                   if row['vote_count']>1000 else np.nan,\n",
        "                                   axis=1)\n"
      ],
      "execution_count": 16,
      "outputs": []
    },
    {
      "cell_type": "markdown",
      "metadata": {
        "id": "jBgP1e1uCMlF"
      },
      "source": [
        "Call the function and make sure that it works as intended."
      ]
    },
    {
      "cell_type": "code",
      "metadata": {
        "id": "wUaYXC_RCMlK",
        "colab": {
          "base_uri": "https://localhost:8080/",
          "height": 206
        },
        "outputId": "07ad2413-46d0-4ee1-bd55-83c80a1bf965"
      },
      "source": [
        "weighted_rating_apply(df)\n",
        "\n",
        "pd.testing.assert_series_equal(\n",
        "    df.imdb_rating, df.imdb_rating_apply, check_names=False\n",
        ")\n",
        "\n",
        "columns_to_show = ['id', 'original_title'] + \\\n",
        "                  list(df.columns[df.columns.str.startswith('imdb_rating')])\n",
        "df[columns_to_show].head()"
      ],
      "execution_count": 17,
      "outputs": [
        {
          "output_type": "execute_result",
          "data": {
            "text/html": [
              "<div>\n",
              "<style scoped>\n",
              "    .dataframe tbody tr th:only-of-type {\n",
              "        vertical-align: middle;\n",
              "    }\n",
              "\n",
              "    .dataframe tbody tr th {\n",
              "        vertical-align: top;\n",
              "    }\n",
              "\n",
              "    .dataframe thead th {\n",
              "        text-align: right;\n",
              "    }\n",
              "</style>\n",
              "<table border=\"1\" class=\"dataframe\">\n",
              "  <thead>\n",
              "    <tr style=\"text-align: right;\">\n",
              "      <th></th>\n",
              "      <th>id</th>\n",
              "      <th>original_title</th>\n",
              "      <th>imdb_rating</th>\n",
              "      <th>imdb_rating_iter</th>\n",
              "      <th>imdb_rating_apply</th>\n",
              "    </tr>\n",
              "  </thead>\n",
              "  <tbody>\n",
              "    <tr>\n",
              "      <th>0</th>\n",
              "      <td>862</td>\n",
              "      <td>Toy Story</td>\n",
              "      <td>7.375533</td>\n",
              "      <td>7.375533</td>\n",
              "      <td>7.375533</td>\n",
              "    </tr>\n",
              "    <tr>\n",
              "      <th>1</th>\n",
              "      <td>8844</td>\n",
              "      <td>Jumanji</td>\n",
              "      <td>6.524536</td>\n",
              "      <td>6.524536</td>\n",
              "      <td>6.524536</td>\n",
              "    </tr>\n",
              "    <tr>\n",
              "      <th>2</th>\n",
              "      <td>15602</td>\n",
              "      <td>Grumpier Old Men</td>\n",
              "      <td>NaN</td>\n",
              "      <td>NaN</td>\n",
              "      <td>NaN</td>\n",
              "    </tr>\n",
              "    <tr>\n",
              "      <th>3</th>\n",
              "      <td>31357</td>\n",
              "      <td>Waiting to Exhale</td>\n",
              "      <td>NaN</td>\n",
              "      <td>NaN</td>\n",
              "      <td>NaN</td>\n",
              "    </tr>\n",
              "    <tr>\n",
              "      <th>4</th>\n",
              "      <td>11862</td>\n",
              "      <td>Father of the Bride Part II</td>\n",
              "      <td>NaN</td>\n",
              "      <td>NaN</td>\n",
              "      <td>NaN</td>\n",
              "    </tr>\n",
              "  </tbody>\n",
              "</table>\n",
              "</div>"
            ],
            "text/plain": [
              "      id               original_title  ...  imdb_rating_iter  imdb_rating_apply\n",
              "0    862                    Toy Story  ...          7.375533           7.375533\n",
              "1   8844                      Jumanji  ...          6.524536           6.524536\n",
              "2  15602             Grumpier Old Men  ...               NaN                NaN\n",
              "3  31357            Waiting to Exhale  ...               NaN                NaN\n",
              "4  11862  Father of the Bride Part II  ...               NaN                NaN\n",
              "\n",
              "[5 rows x 5 columns]"
            ]
          },
          "metadata": {},
          "execution_count": 17
        }
      ]
    },
    {
      "cell_type": "markdown",
      "metadata": {
        "id": "C9jjZI14CMlO"
      },
      "source": [
        "Time the performance of the function."
      ]
    },
    {
      "cell_type": "code",
      "metadata": {
        "id": "jqggBfTMCMlP",
        "colab": {
          "base_uri": "https://localhost:8080/"
        },
        "outputId": "d1c438f3-4edb-4490-ab66-9074defa26ff"
      },
      "source": [
        "apply_time = %timeit -r 3 -o weighted_rating_apply(df)\n",
        "print(\"Best time:\", apply_time.best)"
      ],
      "execution_count": 18,
      "outputs": [
        {
          "output_type": "stream",
          "name": "stdout",
          "text": [
            "1 loop, best of 3: 566 ms per loop\n",
            "Best time: 0.5661760159999858\n"
          ]
        }
      ]
    },
    {
      "cell_type": "markdown",
      "metadata": {
        "id": "9DzMnzf4CMlS"
      },
      "source": [
        "Update the score board with the best time, marginal and overall performance change you have obtained. Display the updated table below. "
      ]
    },
    {
      "cell_type": "code",
      "metadata": {
        "id": "-4RSuVOYV0JZ",
        "colab": {
          "base_uri": "https://localhost:8080/",
          "height": 258
        },
        "outputId": "143f1d2d-15b1-4a21-ccbe-746c007071c3"
      },
      "source": [
        "# your code goes here\n",
        "timings.iloc[2,0]=apply_time.best\n",
        "#marginal\n",
        "timings.iloc[2,1] = timings.iloc[1,0]/timings.iloc[2,0]\n",
        "#overall\n",
        "timings.iloc[2,2] = timings.iloc[0,0]/timings.iloc[2,0]\n",
        "timings\n"
      ],
      "execution_count": 19,
      "outputs": [
        {
          "output_type": "execute_result",
          "data": {
            "text/html": [
              "<div>\n",
              "<style scoped>\n",
              "    .dataframe tbody tr th:only-of-type {\n",
              "        vertical-align: middle;\n",
              "    }\n",
              "\n",
              "    .dataframe tbody tr th {\n",
              "        vertical-align: top;\n",
              "    }\n",
              "\n",
              "    .dataframe thead th {\n",
              "        text-align: right;\n",
              "    }\n",
              "</style>\n",
              "<table border=\"1\" class=\"dataframe\">\n",
              "  <thead>\n",
              "    <tr style=\"text-align: right;\">\n",
              "      <th></th>\n",
              "      <th>Best single run time (s)</th>\n",
              "      <th>Marginal performance improvement</th>\n",
              "      <th>Performance improvement over basic looping</th>\n",
              "      <th>Best single run time (s, teacher)</th>\n",
              "      <th>Marginal performance improvement (teacher)</th>\n",
              "      <th>Performance improvement over basic looping (teacher)</th>\n",
              "    </tr>\n",
              "  </thead>\n",
              "  <tbody>\n",
              "    <tr>\n",
              "      <th>Basic looping</th>\n",
              "      <td>9.059021</td>\n",
              "      <td>NaN</td>\n",
              "      <td>NaN</td>\n",
              "      <td>9.37000</td>\n",
              "      <td>NaN</td>\n",
              "      <td>NaN</td>\n",
              "    </tr>\n",
              "    <tr>\n",
              "      <th>Iterrows looping</th>\n",
              "      <td>3.751410</td>\n",
              "      <td>2.414831</td>\n",
              "      <td>2.414831</td>\n",
              "      <td>3.87000</td>\n",
              "      <td>x2.42</td>\n",
              "      <td>x2.42</td>\n",
              "    </tr>\n",
              "    <tr>\n",
              "      <th>apply()</th>\n",
              "      <td>0.566176</td>\n",
              "      <td>6.625873</td>\n",
              "      <td>16.000362</td>\n",
              "      <td>0.56200</td>\n",
              "      <td>x6.88</td>\n",
              "      <td>x16.69</td>\n",
              "    </tr>\n",
              "    <tr>\n",
              "      <th>Pandas vectorisation</th>\n",
              "      <td>NaN</td>\n",
              "      <td>NaN</td>\n",
              "      <td>NaN</td>\n",
              "      <td>0.00540</td>\n",
              "      <td>x103.8</td>\n",
              "      <td>x1732.17</td>\n",
              "    </tr>\n",
              "    <tr>\n",
              "      <th>NumPy vectorisation</th>\n",
              "      <td>NaN</td>\n",
              "      <td>NaN</td>\n",
              "      <td>NaN</td>\n",
              "      <td>0.00084</td>\n",
              "      <td>x6.45</td>\n",
              "      <td>x11172.98</td>\n",
              "    </tr>\n",
              "  </tbody>\n",
              "</table>\n",
              "</div>"
            ],
            "text/plain": [
              "                      Best single run time (s)  ...  Performance improvement over basic looping (teacher)\n",
              "Basic looping                         9.059021  ...                                                NaN   \n",
              "Iterrows looping                      3.751410  ...                                              x2.42   \n",
              "apply()                               0.566176  ...                                             x16.69   \n",
              "Pandas vectorisation                       NaN  ...                                           x1732.17   \n",
              "NumPy vectorisation                        NaN  ...                                          x11172.98   \n",
              "\n",
              "[5 rows x 6 columns]"
            ]
          },
          "metadata": {},
          "execution_count": 19
        }
      ]
    },
    {
      "cell_type": "markdown",
      "metadata": {
        "id": "TZHPgFMsED_6"
      },
      "source": [
        "## Part 3: Vectorised solution with Pandas (12.5 pts)"
      ]
    },
    {
      "cell_type": "markdown",
      "metadata": {
        "id": "CI7zQxGNGZnX"
      },
      "source": [
        "Let's find a vectorised solution using Pandas. You have to define a function `weighted_rating_pandas(df)` that computes the ratings in a vectorised way and stores them in a new column of the DataFrame called `imdb_rating_pandas`. Use Pandas operations only: don't transform your data into NumPy arrays."
      ]
    },
    {
      "cell_type": "code",
      "metadata": {
        "id": "WqIXsMGFGZnY"
      },
      "source": [
        "# your code goes here\n",
        "def weighted_rating_pandas(df):\n",
        "  # C = df['vote_average'].mean()\n",
        "  # m = 1000\n",
        "  v = df['vote_count']\n",
        "  R = df['vote_average']\n",
        "  df['imdb_rating_pandas'] =0 \n",
        "  df.loc[ df['vote_count']>1000,'imdb_rating_pandas'] = (v/(v+m) * R) + (m/(v+m) * C)\n",
        "  df.loc[ df['vote_count']<=1000,'imdb_rating_pandas']= np.nan\n",
        "\n"
      ],
      "execution_count": 20,
      "outputs": []
    },
    {
      "cell_type": "markdown",
      "metadata": {
        "id": "qKVGubslGZna"
      },
      "source": [
        "Call the function and make sure it works as intended."
      ]
    },
    {
      "cell_type": "code",
      "metadata": {
        "id": "yXf4KAj1GZna",
        "colab": {
          "base_uri": "https://localhost:8080/",
          "height": 206
        },
        "outputId": "c596e26e-19eb-4de1-c8eb-8df561569902"
      },
      "source": [
        "weighted_rating_pandas(df)\n",
        "\n",
        "pd.testing.assert_series_equal(\n",
        "    df.imdb_rating, df.imdb_rating_pandas, check_names=False\n",
        ")\n",
        "\n",
        "columns_to_show = ['id', 'original_title'] + \\\n",
        "                  list(df.columns[df.columns.str.startswith('imdb_rating')])\n",
        "df[columns_to_show].head()"
      ],
      "execution_count": 21,
      "outputs": [
        {
          "output_type": "execute_result",
          "data": {
            "text/html": [
              "<div>\n",
              "<style scoped>\n",
              "    .dataframe tbody tr th:only-of-type {\n",
              "        vertical-align: middle;\n",
              "    }\n",
              "\n",
              "    .dataframe tbody tr th {\n",
              "        vertical-align: top;\n",
              "    }\n",
              "\n",
              "    .dataframe thead th {\n",
              "        text-align: right;\n",
              "    }\n",
              "</style>\n",
              "<table border=\"1\" class=\"dataframe\">\n",
              "  <thead>\n",
              "    <tr style=\"text-align: right;\">\n",
              "      <th></th>\n",
              "      <th>id</th>\n",
              "      <th>original_title</th>\n",
              "      <th>imdb_rating</th>\n",
              "      <th>imdb_rating_iter</th>\n",
              "      <th>imdb_rating_apply</th>\n",
              "      <th>imdb_rating_pandas</th>\n",
              "    </tr>\n",
              "  </thead>\n",
              "  <tbody>\n",
              "    <tr>\n",
              "      <th>0</th>\n",
              "      <td>862</td>\n",
              "      <td>Toy Story</td>\n",
              "      <td>7.375533</td>\n",
              "      <td>7.375533</td>\n",
              "      <td>7.375533</td>\n",
              "      <td>7.375533</td>\n",
              "    </tr>\n",
              "    <tr>\n",
              "      <th>1</th>\n",
              "      <td>8844</td>\n",
              "      <td>Jumanji</td>\n",
              "      <td>6.524536</td>\n",
              "      <td>6.524536</td>\n",
              "      <td>6.524536</td>\n",
              "      <td>6.524536</td>\n",
              "    </tr>\n",
              "    <tr>\n",
              "      <th>2</th>\n",
              "      <td>15602</td>\n",
              "      <td>Grumpier Old Men</td>\n",
              "      <td>NaN</td>\n",
              "      <td>NaN</td>\n",
              "      <td>NaN</td>\n",
              "      <td>NaN</td>\n",
              "    </tr>\n",
              "    <tr>\n",
              "      <th>3</th>\n",
              "      <td>31357</td>\n",
              "      <td>Waiting to Exhale</td>\n",
              "      <td>NaN</td>\n",
              "      <td>NaN</td>\n",
              "      <td>NaN</td>\n",
              "      <td>NaN</td>\n",
              "    </tr>\n",
              "    <tr>\n",
              "      <th>4</th>\n",
              "      <td>11862</td>\n",
              "      <td>Father of the Bride Part II</td>\n",
              "      <td>NaN</td>\n",
              "      <td>NaN</td>\n",
              "      <td>NaN</td>\n",
              "      <td>NaN</td>\n",
              "    </tr>\n",
              "  </tbody>\n",
              "</table>\n",
              "</div>"
            ],
            "text/plain": [
              "      id               original_title  ...  imdb_rating_apply  imdb_rating_pandas\n",
              "0    862                    Toy Story  ...           7.375533            7.375533\n",
              "1   8844                      Jumanji  ...           6.524536            6.524536\n",
              "2  15602             Grumpier Old Men  ...                NaN                 NaN\n",
              "3  31357            Waiting to Exhale  ...                NaN                 NaN\n",
              "4  11862  Father of the Bride Part II  ...                NaN                 NaN\n",
              "\n",
              "[5 rows x 6 columns]"
            ]
          },
          "metadata": {},
          "execution_count": 21
        }
      ]
    },
    {
      "cell_type": "markdown",
      "metadata": {
        "id": "scNFR7X8GZnc"
      },
      "source": [
        "Time the performance of the function."
      ]
    },
    {
      "cell_type": "code",
      "metadata": {
        "id": "TbhwZZ0mGZnf",
        "colab": {
          "base_uri": "https://localhost:8080/"
        },
        "outputId": "0b3f489d-5152-4c91-d352-8e18ed22fa24"
      },
      "source": [
        "pandas_time = %timeit -r 3 -o weighted_rating_pandas(df)\n",
        "print(\"Best time:\", pandas_time.best)"
      ],
      "execution_count": 22,
      "outputs": [
        {
          "output_type": "stream",
          "name": "stdout",
          "text": [
            "100 loops, best of 3: 9.84 ms per loop\n",
            "Best time: 0.009837506979999943\n"
          ]
        }
      ]
    },
    {
      "cell_type": "markdown",
      "metadata": {
        "id": "Xsqz0kUJGZnh"
      },
      "source": [
        "Update the score board with the best time, marginal and overall performance change you have obtained. Display the updated table below. "
      ]
    },
    {
      "cell_type": "code",
      "metadata": {
        "id": "SxCI0nUXV3Lk",
        "colab": {
          "base_uri": "https://localhost:8080/",
          "height": 258
        },
        "outputId": "8d2849e4-6b9f-4f06-c6d7-921a057dacc2"
      },
      "source": [
        "# your code goes here\n",
        "timings.iloc[3,0]= pandas_time.best\n",
        "#marginal\n",
        "timings.iloc[3,1] = timings.iloc[2,0]/timings.iloc[3,0]\n",
        "#overall\n",
        "timings.iloc[3,2] = timings.iloc[0,0]/timings.iloc[3,0]\n",
        "timings\n"
      ],
      "execution_count": 23,
      "outputs": [
        {
          "output_type": "execute_result",
          "data": {
            "text/html": [
              "<div>\n",
              "<style scoped>\n",
              "    .dataframe tbody tr th:only-of-type {\n",
              "        vertical-align: middle;\n",
              "    }\n",
              "\n",
              "    .dataframe tbody tr th {\n",
              "        vertical-align: top;\n",
              "    }\n",
              "\n",
              "    .dataframe thead th {\n",
              "        text-align: right;\n",
              "    }\n",
              "</style>\n",
              "<table border=\"1\" class=\"dataframe\">\n",
              "  <thead>\n",
              "    <tr style=\"text-align: right;\">\n",
              "      <th></th>\n",
              "      <th>Best single run time (s)</th>\n",
              "      <th>Marginal performance improvement</th>\n",
              "      <th>Performance improvement over basic looping</th>\n",
              "      <th>Best single run time (s, teacher)</th>\n",
              "      <th>Marginal performance improvement (teacher)</th>\n",
              "      <th>Performance improvement over basic looping (teacher)</th>\n",
              "    </tr>\n",
              "  </thead>\n",
              "  <tbody>\n",
              "    <tr>\n",
              "      <th>Basic looping</th>\n",
              "      <td>9.059021</td>\n",
              "      <td>NaN</td>\n",
              "      <td>NaN</td>\n",
              "      <td>9.37000</td>\n",
              "      <td>NaN</td>\n",
              "      <td>NaN</td>\n",
              "    </tr>\n",
              "    <tr>\n",
              "      <th>Iterrows looping</th>\n",
              "      <td>3.751410</td>\n",
              "      <td>2.414831</td>\n",
              "      <td>2.414831</td>\n",
              "      <td>3.87000</td>\n",
              "      <td>x2.42</td>\n",
              "      <td>x2.42</td>\n",
              "    </tr>\n",
              "    <tr>\n",
              "      <th>apply()</th>\n",
              "      <td>0.566176</td>\n",
              "      <td>6.625873</td>\n",
              "      <td>16.000362</td>\n",
              "      <td>0.56200</td>\n",
              "      <td>x6.88</td>\n",
              "      <td>x16.69</td>\n",
              "    </tr>\n",
              "    <tr>\n",
              "      <th>Pandas vectorisation</th>\n",
              "      <td>0.009838</td>\n",
              "      <td>57.552794</td>\n",
              "      <td>920.865553</td>\n",
              "      <td>0.00540</td>\n",
              "      <td>x103.8</td>\n",
              "      <td>x1732.17</td>\n",
              "    </tr>\n",
              "    <tr>\n",
              "      <th>NumPy vectorisation</th>\n",
              "      <td>NaN</td>\n",
              "      <td>NaN</td>\n",
              "      <td>NaN</td>\n",
              "      <td>0.00084</td>\n",
              "      <td>x6.45</td>\n",
              "      <td>x11172.98</td>\n",
              "    </tr>\n",
              "  </tbody>\n",
              "</table>\n",
              "</div>"
            ],
            "text/plain": [
              "                      Best single run time (s)  ...  Performance improvement over basic looping (teacher)\n",
              "Basic looping                         9.059021  ...                                                NaN   \n",
              "Iterrows looping                      3.751410  ...                                              x2.42   \n",
              "apply()                               0.566176  ...                                             x16.69   \n",
              "Pandas vectorisation                  0.009838  ...                                           x1732.17   \n",
              "NumPy vectorisation                        NaN  ...                                          x11172.98   \n",
              "\n",
              "[5 rows x 6 columns]"
            ]
          },
          "metadata": {},
          "execution_count": 23
        }
      ]
    },
    {
      "cell_type": "markdown",
      "metadata": {
        "id": "HvwaE7pIjzEa"
      },
      "source": [
        "Time to reflect on your solution. Do the following: \n",
        " \n",
        "* Explain in words what your function does and why it is a vectorised solution. In particular, break down each step involving ufuncs, broadcasting and other vectorized calls. \n",
        "    * If your explanation has major errors, we will substract points for this part.\n",
        " \n",
        "* Display profiler output and give an analysis of what you see."
      ]
    },
    {
      "cell_type": "code",
      "metadata": {
        "id": "bQHB_JqeV52E",
        "outputId": "10a3af9e-66b8-4d2d-a62e-a6c6a2b680a5",
        "colab": {
          "base_uri": "https://localhost:8080/"
        }
      },
      "source": [
        "cProfile.run('weighted_rating_pandas(df)')"
      ],
      "execution_count": 27,
      "outputs": [
        {
          "output_type": "stream",
          "name": "stdout",
          "text": [
            "         6233 function calls (6158 primitive calls) in 0.018 seconds\n",
            "\n",
            "   Ordered by: standard name\n",
            "\n",
            "   ncalls  tottime  percall  cumtime  percall filename:lineno(function)\n",
            "        1    0.000    0.000    0.000    0.000 <__array_function__ internals>:2(argsort)\n",
            "        4    0.000    0.000    0.000    0.000 <__array_function__ internals>:2(atleast_2d)\n",
            "        4    0.000    0.000    0.001    0.000 <__array_function__ internals>:2(concatenate)\n",
            "        2    0.000    0.000    0.000    0.000 <__array_function__ internals>:2(copyto)\n",
            "        2    0.000    0.000    0.001    0.001 <__array_function__ internals>:2(delete)\n",
            "        2    0.000    0.000    0.000    0.000 <__array_function__ internals>:2(min_scalar_type)\n",
            "        4    0.000    0.000    0.000    0.000 <__array_function__ internals>:2(ndim)\n",
            "        9    0.000    0.000    0.000    0.000 <__array_function__ internals>:2(prod)\n",
            "        1    0.000    0.000    0.001    0.001 <__array_function__ internals>:2(vstack)\n",
            "       30    0.000    0.000    0.000    0.000 <frozen importlib._bootstrap>:1009(_handle_fromlist)\n",
            "        1    0.000    0.000    0.018    0.018 <ipython-input-20-78a051a8af49>:2(weighted_rating_pandas)\n",
            "        1    0.000    0.000    0.018    0.018 <string>:1(<module>)\n",
            "        3    0.000    0.000    0.000    0.000 __init__.py:111(_maybe_match_name)\n",
            "        7    0.000    0.000    0.000    0.000 __init__.py:307(_align_method_SERIES)\n",
            "        7    0.000    0.000    0.008    0.001 __init__.py:335(wrapper)\n",
            "        2    0.000    0.000    0.001    0.001 __init__.py:359(wrapper)\n",
            "        9    0.000    0.000    0.000    0.000 __init__.py:88(get_op_result_name)\n",
            "    55/50    0.000    0.000    0.000    0.000 _asarray.py:14(asarray)\n",
            "        4    0.000    0.000    0.000    0.000 _asarray.py:221(require)\n",
            "        4    0.000    0.000    0.000    0.000 _asarray.py:298(<setcomp>)\n",
            "        6    0.000    0.000    0.000    0.000 _asarray.py:86(asanyarray)\n",
            "        2    0.000    0.000    0.000    0.000 _dtype.py:178(_datetime_metadata_str)\n",
            "       32    0.000    0.000    0.000    0.000 _dtype.py:24(_kind_name)\n",
            "       32    0.000    0.000    0.000    0.000 _dtype.py:307(_name_includes_bit_suffix)\n",
            "       32    0.000    0.000    0.000    0.000 _dtype.py:321(_name_get)\n",
            "        1    0.000    0.000    0.000    0.000 _methods.py:53(_any)\n",
            "       18    0.000    0.000    0.000    0.000 _ufunc_config.py:132(geterr)\n",
            "       18    0.000    0.000    0.000    0.000 _ufunc_config.py:32(seterr)\n",
            "        9    0.000    0.000    0.000    0.000 _ufunc_config.py:429(__init__)\n",
            "        9    0.000    0.000    0.000    0.000 _ufunc_config.py:433(__enter__)\n",
            "        9    0.000    0.000    0.000    0.000 _ufunc_config.py:438(__exit__)\n",
            "       38    0.000    0.000    0.000    0.000 abc.py:137(__instancecheck__)\n",
            "        1    0.000    0.000    0.000    0.000 algorithms.py:1511(_get_take_nd_function)\n",
            "        1    0.000    0.000    0.000    0.000 algorithms.py:1640(take_nd)\n",
            "        9    0.000    0.000    0.006    0.001 array_ops.py:119(na_arithmetic_op)\n",
            "        7    0.000    0.000    0.006    0.001 array_ops.py:160(arithmetic_op)\n",
            "        2    0.000    0.000    0.001    0.000 array_ops.py:195(comparison_op)\n",
            "       16    0.000    0.000    0.000    0.000 array_ops.py:404(maybe_upcast_datetimelike_array)\n",
            "        7    0.000    0.000    0.000    0.000 array_ops.py:429(maybe_upcast_for_op)\n",
            "        8    0.000    0.000    0.000    0.000 base.py:1175(name)\n",
            "        4    0.000    0.000    0.000    0.000 base.py:1378(nlevels)\n",
            "        1    0.000    0.000    0.000    0.000 base.py:1685(is_boolean)\n",
            "        4    0.000    0.000    0.000    0.000 base.py:1720(is_integer)\n",
            "        7    0.000    0.000    0.000    0.000 base.py:1755(is_floating)\n",
            "       67    0.000    0.000    0.000    0.000 base.py:256(is_dtype)\n",
            "        7    0.000    0.000    0.000    0.000 base.py:2854(get_loc)\n",
            "        1    0.000    0.000    0.000    0.000 base.py:293(__new__)\n",
            "        1    0.000    0.000    0.000    0.000 base.py:2960(get_indexer)\n",
            "        1    0.000    0.000    0.000    0.000 base.py:3278(_can_reindex)\n",
            "        1    0.000    0.000    0.000    0.000 base.py:3294(reindex)\n",
            "        9    0.000    0.000    0.000    0.000 base.py:3873(_values)\n",
            "        1    0.000    0.000    0.000    0.000 base.py:3899(_get_engine_target)\n",
            "        6    0.000    0.000    0.000    0.000 base.py:4039(__contains__)\n",
            "       11    0.000    0.000    0.000    0.000 base.py:4086(__getitem__)\n",
            "       64    0.000    0.000    0.000    0.000 base.py:413(find)\n",
            "       10    0.000    0.000    0.000    0.000 base.py:4199(equals)\n",
            "        1    0.000    0.000    0.000    0.000 base.py:4278(identical)\n",
            "        6    0.000    0.000    0.000    0.000 base.py:463(_simple_new)\n",
            "        1    0.000    0.000    0.000    0.000 base.py:4720(_maybe_promote)\n",
            "        7    0.000    0.000    0.000    0.000 base.py:4979(_maybe_cast_indexer)\n",
            "        5    0.000    0.000    0.000    0.000 base.py:498(_shallow_copy)\n",
            "       10    0.000    0.000    0.000    0.000 base.py:520(is_)\n",
            "        6    0.000    0.000    0.000    0.000 base.py:544(_reset_identity)\n",
            "       12    0.000    0.000    0.000    0.000 base.py:5562(ensure_index)\n",
            "        1    0.000    0.000    0.000    0.000 base.py:5626(ensure_has_len)\n",
            "       11    0.000    0.000    0.000    0.000 base.py:5659(maybe_extract_name)\n",
            "       54    0.000    0.000    0.000    0.000 base.py:567(__len__)\n",
            "        1    0.000    0.000    0.000    0.000 base.py:573(__array__)\n",
            "        2    0.000    0.000    0.000    0.000 base.py:590(dtype)\n",
            "        2    0.000    0.000    0.000    0.000 base.py:613(view)\n",
            "        1    0.000    0.000    0.000    0.000 base.py:637(ndim)\n",
            "        1    0.000    0.000    0.000    0.000 blocks.py:1238(take_nd)\n",
            "       24    0.000    0.000    0.000    0.000 blocks.py:124(__init__)\n",
            "       24    0.000    0.000    0.000    0.000 blocks.py:135(_check_ndim)\n",
            "        8    0.000    0.000    0.000    0.000 blocks.py:176(_consolidate_key)\n",
            "        2    0.000    0.000    0.000    0.000 blocks.py:1925(_can_hold_element)\n",
            "        1    0.000    0.000    0.000    0.000 blocks.py:1992(_can_hold_element)\n",
            "        3    0.000    0.000    0.000    0.000 blocks.py:201(internal_values)\n",
            "       14    0.000    0.000    0.000    0.000 blocks.py:207(array_values)\n",
            "        1    0.000    0.000    0.000    0.000 blocks.py:213(get_values)\n",
            "       40    0.000    0.000    0.000    0.000 blocks.py:233(mgr_locs)\n",
            "       25    0.000    0.000    0.000    0.000 blocks.py:237(mgr_locs)\n",
            "        2    0.000    0.000    0.000    0.000 blocks.py:244(make_block)\n",
            "        9    0.000    0.000    0.000    0.000 blocks.py:256(make_block_same_class)\n",
            "       15    0.000    0.000    0.001    0.000 blocks.py:2677(get_block_type)\n",
            "       15    0.000    0.000    0.001    0.000 blocks.py:2723(make_block)\n",
            "        7    0.000    0.000    0.000    0.000 blocks.py:2750(_extend_blocks)\n",
            "        1    0.000    0.000    0.000    0.000 blocks.py:276(__len__)\n",
            "        3    0.000    0.000    0.000    0.000 blocks.py:311(shape)\n",
            "       37    0.000    0.000    0.000    0.000 blocks.py:315(dtype)\n",
            "        6    0.000    0.000    0.000    0.000 blocks.py:319(iget)\n",
            "        1    0.000    0.000    0.000    0.000 blocks.py:322(set)\n",
            "        1    0.000    0.000    0.001    0.001 blocks.py:333(delete)\n",
            "        1    0.000    0.000    0.000    0.000 blocks.py:514(astype)\n",
            "        3    0.000    0.000    0.000    0.000 blocks.py:642(should_store)\n",
            "        2    0.000    0.000    0.000    0.000 blocks.py:675(copy)\n",
            "      3/2    0.000    0.000    0.001    0.000 blocks.py:782(setitem)\n",
            "        9    0.000    0.000    0.000    0.000 cast.py:1187(maybe_castable)\n",
            "        1    0.000    0.000    0.000    0.000 cast.py:1310(maybe_cast_to_datetime)\n",
            "        1    0.000    0.000    0.000    0.000 cast.py:1448(find_common_type)\n",
            "        2    0.000    0.000    0.000    0.000 cast.py:1472(<genexpr>)\n",
            "        3    0.000    0.000    0.000    0.000 cast.py:1478(<genexpr>)\n",
            "        2    0.000    0.000    0.000    0.000 cast.py:1487(<genexpr>)\n",
            "        2    0.000    0.000    0.000    0.000 cast.py:1489(<genexpr>)\n",
            "        3    0.000    0.000    0.000    0.000 cast.py:1494(<genexpr>)\n",
            "        1    0.000    0.000    0.000    0.000 cast.py:1503(cast_scalar_to_array)\n",
            "        1    0.000    0.000    0.000    0.000 cast.py:1700(convert_scalar_for_putitemlike)\n",
            "        1    0.000    0.000    0.000    0.000 cast.py:1731(validate_numeric_casting)\n",
            "        2    0.000    0.000    0.000    0.000 cast.py:442(maybe_promote)\n",
            "        2    0.000    0.000    0.000    0.000 cast.py:598(_ensure_dtype_type)\n",
            "        2    0.000    0.000    0.000    0.000 cast.py:643(infer_dtype_from_scalar)\n",
            "        3    0.000    0.000    0.000    0.000 cast.py:780(maybe_infer_dtype_type)\n",
            "        1    0.000    0.000    0.000    0.000 cast.py:898(astype_nansafe)\n",
            "        2    0.000    0.000    0.000    0.000 common.py:1064(is_numeric_v_string_like)\n",
            "        2    0.000    0.000    0.000    0.000 common.py:1223(is_numeric_dtype)\n",
            "        2    0.000    0.000    0.000    0.000 common.py:1265(is_string_like_dtype)\n",
            "        2    0.000    0.000    0.000    0.000 common.py:1293(<lambda>)\n",
            "        7    0.000    0.000    0.000    0.000 common.py:1330(is_bool_dtype)\n",
            "       64    0.000    0.000    0.000    0.000 common.py:1460(is_extension_array_dtype)\n",
            "       15    0.000    0.000    0.000    0.000 common.py:149(cast_scalar_indexer)\n",
            "        2    0.000    0.000    0.000    0.000 common.py:1541(_is_dtype)\n",
            "       27    0.000    0.000    0.000    0.000 common.py:1565(_get_dtype)\n",
            "       26    0.000    0.000    0.000    0.000 common.py:1600(_is_dtype_type)\n",
            "       11    0.000    0.000    0.000    0.000 common.py:1733(pandas_dtype)\n",
            "       23    0.000    0.000    0.000    0.000 common.py:178(classes)\n",
            "       23    0.000    0.000    0.000    0.000 common.py:180(<lambda>)\n",
            "        3    0.000    0.000    0.000    0.000 common.py:183(classes_and_not_datetimelike)\n",
            "        3    0.000    0.000    0.000    0.000 common.py:188(<lambda>)\n",
            "       20    0.000    0.000    0.000    0.000 common.py:194(is_object_dtype)\n",
            "       15    0.000    0.000    0.000    0.000 common.py:224(is_sparse)\n",
            "        4    0.000    0.000    0.000    0.000 common.py:283(is_null_slice)\n",
            "        2    0.000    0.000    0.000    0.000 common.py:303(is_full_slice)\n",
            "        9    0.000    0.000    0.000    0.000 common.py:329(apply_if_callable)\n",
            "        4    0.000    0.000    0.000    0.000 common.py:348(is_datetime64_dtype)\n",
            "       18    0.000    0.000    0.000    0.000 common.py:381(is_datetime64tz_dtype)\n",
            "        5    0.000    0.000    0.000    0.000 common.py:422(is_timedelta64_dtype)\n",
            "       17    0.000    0.000    0.000    0.000 common.py:456(is_period_dtype)\n",
            "       17    0.000    0.000    0.000    0.000 common.py:492(is_interval_dtype)\n",
            "        9    0.000    0.000    0.010    0.001 common.py:50(new_method)\n",
            "       18    0.000    0.000    0.000    0.000 common.py:530(is_categorical_dtype)\n",
            "        9    0.000    0.000    0.000    0.000 common.py:608(is_dtype_equal)\n",
            "        1    0.000    0.000    0.000    0.000 common.py:750(is_signed_integer_dtype)\n",
            "        2    0.000    0.000    0.000    0.000 common.py:905(is_datetime64_any_dtype)\n",
            "        5    0.000    0.000    0.000    0.000 common.py:97(is_bool_indexer)\n",
            "       31    0.000    0.000    0.000    0.000 construction.py:339(extract_array)\n",
            "        9    0.000    0.000    0.001    0.000 construction.py:390(sanitize_array)\n",
            "        9    0.000    0.000    0.000    0.000 construction.py:520(_try_cast)\n",
            "        9    0.000    0.000    0.000    0.000 construction.py:580(is_empty_data)\n",
            "        9    0.000    0.000    0.000    0.000 dispatch.py:11(should_extension_dispatch)\n",
            "       16    0.000    0.000    0.000    0.000 dtypes.py:1119(is_dtype)\n",
            "       16    0.000    0.000    0.000    0.000 dtypes.py:906(is_dtype)\n",
            "        9    0.000    0.000    0.000    0.000 expressions.py:186(_has_bool_dtype)\n",
            "        9    0.000    0.000    0.000    0.000 expressions.py:195(_bool_arith_check)\n",
            "        9    0.000    0.000    0.006    0.001 expressions.py:217(evaluate)\n",
            "        9    0.000    0.000    0.001    0.000 expressions.py:71(_can_use_numexpr)\n",
            "        9    0.000    0.000    0.006    0.001 expressions.py:97(_evaluate_numexpr)\n",
            "        5    0.000    0.000    0.000    0.000 frame.py:1099(__len__)\n",
            "        2    0.000    0.000    0.000    0.000 frame.py:2816(_ixs)\n",
            "        4    0.000    0.000    0.000    0.000 frame.py:2869(__getitem__)\n",
            "        1    0.000    0.000    0.002    0.002 frame.py:3028(__setitem__)\n",
            "        2    0.000    0.000    0.001    0.000 frame.py:3095(_iset_item)\n",
            "        1    0.000    0.000    0.002    0.002 frame.py:3109(_set_item)\n",
            "        3    0.000    0.000    0.000    0.000 frame.py:3162(_ensure_valid_index)\n",
            "        6    0.000    0.000    0.000    0.000 frame.py:3184(_box_col_values)\n",
            "        3    0.000    0.000    0.001    0.000 frame.py:3702(_sanitize_column)\n",
            "        2    0.000    0.000    0.000    0.000 frame.py:3722(reindexer)\n",
            "        5    0.000    0.000    0.000    0.000 frame.py:568(axes)\n",
            "        9    0.000    0.000    0.000    0.000 fromnumeric.py:2876(_prod_dispatcher)\n",
            "        9    0.000    0.000    0.000    0.000 fromnumeric.py:2881(prod)\n",
            "        4    0.000    0.000    0.000    0.000 fromnumeric.py:3071(_ndim_dispatcher)\n",
            "        4    0.000    0.000    0.000    0.000 fromnumeric.py:3075(ndim)\n",
            "        1    0.000    0.000    0.000    0.000 fromnumeric.py:52(_wrapfunc)\n",
            "        9    0.000    0.000    0.000    0.000 fromnumeric.py:70(_wrapreduction)\n",
            "        9    0.000    0.000    0.000    0.000 fromnumeric.py:71(<dictcomp>)\n",
            "        1    0.000    0.000    0.000    0.000 fromnumeric.py:995(_argsort_dispatcher)\n",
            "        1    0.000    0.000    0.000    0.000 fromnumeric.py:999(argsort)\n",
            "        2    0.000    0.000    0.000    0.000 function_base.py:4232(_delete_dispatcher)\n",
            "        2    0.001    0.001    0.001    0.001 function_base.py:4236(delete)\n",
            "      438    0.000    0.000    0.000    0.000 generic.py:10(_check)\n",
            "       18    0.000    0.000    0.000    0.000 generic.py:195(__init__)\n",
            "       13    0.000    0.000    0.000    0.000 generic.py:232(attrs)\n",
            "        6    0.000    0.000    0.000    0.000 generic.py:3180(_set_as_cached)\n",
            "        2    0.000    0.000    0.000    0.000 generic.py:3213(_maybe_update_cacher)\n",
            "        8    0.000    0.000    0.000    0.000 generic.py:3250(_clear_item_cache)\n",
            "        1    0.000    0.000    0.000    0.000 generic.py:334(_construct_axes_from_arguments)\n",
            "        4    0.000    0.000    0.000    0.000 generic.py:3534(_get_item_cache)\n",
            "        3    0.000    0.000    0.002    0.001 generic.py:3570(_iset_item)\n",
            "        1    0.000    0.000    0.002    0.002 generic.py:3574(_set_item)\n",
            "        5    0.000    0.000    0.000    0.000 generic.py:3611(_check_setitem_copy)\n",
            "        1    0.000    0.000    0.000    0.000 generic.py:362(<dictcomp>)\n",
            "       12    0.000    0.000    0.000    0.000 generic.py:365(_get_axis_number)\n",
            "       10    0.000    0.000    0.000    0.000 generic.py:377(_get_axis)\n",
            "        1    0.000    0.000    0.000    0.000 generic.py:382(_get_block_manager_axis)\n",
            "        1    0.000    0.000    0.000    0.000 generic.py:4216(reindex)\n",
            "        2    0.000    0.000    0.000    0.000 generic.py:4450(<genexpr>)\n",
            "        1    0.000    0.000    0.000    0.000 generic.py:4467(_reindex_axes)\n",
            "        1    0.000    0.000    0.000    0.000 generic.py:447(_info_axis)\n",
            "        1    0.000    0.000    0.000    0.000 generic.py:4504(_reindex_with_indexers)\n",
            "        4    0.000    0.000    0.000    0.000 generic.py:471(ndim)\n",
            "       13    0.000    0.000    0.000    0.000 generic.py:5097(__finalize__)\n",
            "       24    0.000    0.000    0.000    0.000 generic.py:5125(__getattr__)\n",
            "       40    0.000    0.000    0.000    0.000 generic.py:5143(__setattr__)\n",
            "        3    0.000    0.000    0.002    0.001 generic.py:5199(_protect_consolidate)\n",
            "        1    0.000    0.000    0.000    0.000 generic.py:5210(_consolidate_inplace)\n",
            "        1    0.000    0.000    0.000    0.000 generic.py:5213(f)\n",
            "        2    0.000    0.000    0.002    0.001 generic.py:5240(_is_mixed_type)\n",
            "        2    0.000    0.000    0.002    0.001 generic.py:5242(<lambda>)\n",
            "        2    0.000    0.000    0.000    0.000 generic.py:5560(copy)\n",
            "        2    0.000    0.000    0.000    0.000 indexers.py:109(<genexpr>)\n",
            "        2    0.000    0.000    0.000    0.000 indexers.py:117(check_setitem_lengths)\n",
            "        2    0.000    0.000    0.000    0.000 indexers.py:258(length_of_indexer)\n",
            "        2    0.000    0.000    0.000    0.000 indexers.py:348(check_array_indexer)\n",
            "        9    0.000    0.000    0.000    0.000 indexers.py:52(is_list_like_indexer)\n",
            "        2    0.000    0.000    0.000    0.000 indexers.py:68(is_scalar_indexer)\n",
            "        4    0.000    0.000    0.000    0.000 indexers.py:85(<genexpr>)\n",
            "        2    0.000    0.000    0.000    0.000 indexers.py:91(is_empty_indexer)\n",
            "        2    0.000    0.000    0.000    0.000 indexing.py:100(iloc)\n",
            "        4    0.000    0.000    0.000    0.000 indexing.py:1133(_convert_to_indexer)\n",
            "        2    0.000    0.000    0.005    0.003 indexing.py:1523(_setitem_with_indexer)\n",
            "        2    0.000    0.000    0.002    0.001 indexing.py:1672(isetter)\n",
            "        4    0.000    0.000    0.000    0.000 indexing.py:1682(<genexpr>)\n",
            "        1    0.000    0.000    0.001    0.001 indexing.py:1863(_align_series)\n",
            "        2    0.000    0.000    0.000    0.000 indexing.py:1886(ravel)\n",
            "        1    0.000    0.000    0.000    0.000 indexing.py:1891(<listcomp>)\n",
            "        3    0.000    0.000    0.000    0.000 indexing.py:1908(<genexpr>)\n",
            "        1    0.000    0.000    0.000    0.000 indexing.py:2126(convert_to_index_sliceable)\n",
            "        2    0.000    0.000    0.000    0.000 indexing.py:2151(check_bool_indexer)\n",
            "        2    0.000    0.000    0.000    0.000 indexing.py:2241(is_nested_tuple)\n",
            "        2    0.000    0.000    0.000    0.000 indexing.py:237(loc)\n",
            "        2    0.000    0.000    0.001    0.000 indexing.py:588(_get_setitem_indexer)\n",
            "        2    0.000    0.000    0.000    0.000 indexing.py:627(_ensure_listlike_indexer)\n",
            "        2    0.000    0.000    0.006    0.003 indexing.py:661(__setitem__)\n",
            "        6    0.000    0.000    0.000    0.000 indexing.py:663(<genexpr>)\n",
            "        2    0.000    0.000    0.000    0.000 indexing.py:719(_convert_tuple)\n",
            "        2    0.000    0.000    0.000    0.000 indexing.py:922(_has_valid_setitem_indexer)\n",
            "        6    0.000    0.000    0.000    0.000 inference.py:185(is_array_like)\n",
            "       55    0.000    0.000    0.000    0.000 inference.py:322(is_hashable)\n",
            "        4    0.000    0.000    0.000    0.000 inference.py:360(is_sequence)\n",
            "        1    0.000    0.000    0.000    0.000 inspect.py:72(isclass)\n",
            "        3    0.000    0.000    0.002    0.001 managers.py:1052(iset)\n",
            "        3    0.000    0.000    0.000    0.000 managers.py:1080(value_getitem)\n",
            "        4    0.000    0.000    0.000    0.000 managers.py:1127(<genexpr>)\n",
            "        1    0.000    0.000    0.000    0.000 managers.py:1247(reindex_indexer)\n",
            "        1    0.000    0.000    0.000    0.000 managers.py:1309(_slice_take_blocks_ax0)\n",
            "       20    0.000    0.000    0.000    0.000 managers.py:1541(__init__)\n",
            "        5    0.000    0.000    0.000    0.000 managers.py:1562(from_blocks)\n",
            "        9    0.000    0.000    0.001    0.000 managers.py:1573(from_array)\n",
            "       31    0.000    0.000    0.000    0.000 managers.py:1584(_block)\n",
            "       14    0.000    0.000    0.000    0.000 managers.py:1611(dtype)\n",
            "        3    0.000    0.000    0.000    0.000 managers.py:1622(internal_values)\n",
            "        9    0.000    0.000    0.000    0.000 managers.py:163(blknos)\n",
            "        1    0.000    0.000    0.000    0.000 managers.py:1630(is_consolidated)\n",
            "        1    0.000    0.000    0.000    0.000 managers.py:1636(_consolidate_inplace)\n",
            "        9    0.000    0.000    0.000    0.000 managers.py:179(blklocs)\n",
            "        1    0.000    0.000    0.002    0.002 managers.py:1898(_consolidate)\n",
            "        8    0.000    0.000    0.000    0.000 managers.py:1903(<lambda>)\n",
            "        3    0.001    0.000    0.002    0.001 managers.py:1915(_merge_blocks)\n",
            "        1    0.000    0.000    0.000    0.000 managers.py:1930(<listcomp>)\n",
            "        1    0.000    0.000    0.000    0.000 managers.py:1931(<listcomp>)\n",
            "        1    0.000    0.000    0.000    0.000 managers.py:2024(_preprocess_slice_or_indexer)\n",
            "        6    0.000    0.000    0.000    0.000 managers.py:212(shape)\n",
            "       17    0.000    0.000    0.000    0.000 managers.py:214(<genexpr>)\n",
            "        9    0.000    0.000    0.000    0.000 managers.py:216(ndim)\n",
            "        1    0.000    0.000    0.000    0.000 managers.py:238(_rebuild_blknos_and_blklocs)\n",
            "        4    0.000    0.000    0.001    0.000 managers.py:369(apply)\n",
            "        4    0.000    0.000    0.000    0.000 managers.py:388(<dictcomp>)\n",
            "        2    0.000    0.000    0.001    0.000 managers.py:542(setitem)\n",
            "        2    0.000    0.000    0.000    0.000 managers.py:684(is_consolidated)\n",
            "        2    0.000    0.000    0.000    0.000 managers.py:692(_consolidate_check)\n",
            "        2    0.000    0.000    0.000    0.000 managers.py:693(<listcomp>)\n",
            "        2    0.000    0.000    0.002    0.001 managers.py:697(is_mixed_type)\n",
            "        3    0.000    0.000    0.000    0.000 managers.py:782(nblocks)\n",
            "        2    0.000    0.000    0.000    0.000 managers.py:786(copy)\n",
            "        2    0.000    0.000    0.000    0.000 managers.py:804(copy_func)\n",
            "        2    0.000    0.000    0.000    0.000 managers.py:807(<listcomp>)\n",
            "        1    0.000    0.000    0.000    0.000 managers.py:970(consolidate)\n",
            "        2    0.000    0.000    0.002    0.001 managers.py:986(_consolidate_inplace)\n",
            "        6    0.000    0.000    0.000    0.000 managers.py:993(iget)\n",
            "        4    0.000    0.000    0.000    0.000 missing.py:130(_isna)\n",
            "        9    0.000    0.000    0.000    0.000 missing.py:136(dispatch_fill_zeros)\n",
            "        3    0.000    0.000    0.000    0.000 missing.py:358(array_equivalent)\n",
            "        4    0.000    0.000    0.000    0.000 missing.py:47(isna)\n",
            "        2    0.000    0.000    0.000    0.000 missing.py:665(clean_reindex_fill_method)\n",
            "        2    0.000    0.000    0.000    0.000 missing.py:75(clean_fill_method)\n",
            "        2    0.000    0.000    0.000    0.000 multiarray.py:1043(copyto)\n",
            "        4    0.000    0.000    0.000    0.000 multiarray.py:143(concatenate)\n",
            "        2    0.000    0.000    0.000    0.000 multiarray.py:583(min_scalar_type)\n",
            "        9    0.000    0.000    0.000    0.000 necompiler.py:535(getContext)\n",
            "       18    0.000    0.000    0.000    0.000 necompiler.py:685(getType)\n",
            "        9    0.000    0.000    0.000    0.000 necompiler.py:726(getArguments)\n",
            "        9    0.005    0.001    0.005    0.001 necompiler.py:767(evaluate)\n",
            "        9    0.000    0.000    0.000    0.000 necompiler.py:823(<listcomp>)\n",
            "        3    0.000    0.000    0.000    0.000 numeric.py:105(_shallow_copy)\n",
            "        2    0.000    0.000    0.000    0.000 numeric.py:144(ones)\n",
            "       15    0.000    0.000    0.000    0.000 numeric.py:150(is_all_dates)\n",
            "        6    0.000    0.000    0.000    0.000 numeric.py:237(inferred_type)\n",
            "        1    0.000    0.000    0.000    0.000 numeric.py:50(__new__)\n",
            "        1    0.000    0.000    0.000    0.000 numeric.py:81(_validate_dtype)\n",
            "       58    0.000    0.000    0.000    0.000 numerictypes.py:286(issubclass_)\n",
            "       29    0.000    0.000    0.000    0.000 numerictypes.py:360(issubdtype)\n",
            "        2    0.000    0.000    0.000    0.000 numerictypes.py:545(_can_coerce_all)\n",
            "       14    0.000    0.000    0.000    0.000 numerictypes.py:554(<listcomp>)\n",
            "        1    0.000    0.000    0.000    0.000 numerictypes.py:569(find_common_type)\n",
            "        1    0.000    0.000    0.000    0.000 numerictypes.py:621(<listcomp>)\n",
            "        1    0.000    0.000    0.000    0.000 numerictypes.py:622(<listcomp>)\n",
            "       14    0.000    0.000    0.000    0.000 numpy_.py:162(__init__)\n",
            "        2    0.000    0.000    0.000    0.000 numpy_.py:210(__array__)\n",
            "       12    0.000    0.000    0.000    0.000 numpy_.py:414(to_numpy)\n",
            "       14    0.000    0.000    0.000    0.000 numpy_.py:50(__init__)\n",
            "       18    0.000    0.000    0.002    0.000 series.py:201(__init__)\n",
            "        9    0.000    0.000    0.002    0.000 series.py:2741(_construct_result)\n",
            "       12    0.000    0.000    0.000    0.000 series.py:381(_constructor)\n",
            "       15    0.000    0.000    0.000    0.000 series.py:398(_set_axis)\n",
            "        1    0.000    0.000    0.000    0.000 series.py:4262(_needs_reindex_multi)\n",
            "       14    0.000    0.000    0.000    0.000 series.py:427(dtype)\n",
            "        1    0.000    0.000    0.000    0.000 series.py:4404(reindex)\n",
            "       59    0.000    0.000    0.000    0.000 series.py:442(name)\n",
            "       40    0.000    0.000    0.000    0.000 series.py:492(name)\n",
            "        3    0.000    0.000    0.000    0.000 series.py:540(_values)\n",
            "       14    0.000    0.000    0.000    0.000 series.py:574(array)\n",
            "        2    0.000    0.000    0.000    0.000 series.py:750(__array__)\n",
            "        1    0.000    0.000    0.000    0.000 shape_base.py:208(_arrays_for_stack_dispatcher)\n",
            "        1    0.000    0.000    0.000    0.000 shape_base.py:219(_vhstack_dispatcher)\n",
            "        1    0.000    0.000    0.001    0.001 shape_base.py:223(vstack)\n",
            "        4    0.000    0.000    0.000    0.000 shape_base.py:78(_atleast_2d_dispatcher)\n",
            "        4    0.000    0.000    0.000    0.000 shape_base.py:82(atleast_2d)\n",
            "        2    0.000    0.000    0.000    0.000 warnings.py:165(simplefilter)\n",
            "        2    0.000    0.000    0.000    0.000 warnings.py:181(_add_filter)\n",
            "        2    0.000    0.000    0.000    0.000 warnings.py:449(__init__)\n",
            "        2    0.000    0.000    0.000    0.000 warnings.py:470(__enter__)\n",
            "        2    0.000    0.000    0.000    0.000 warnings.py:489(__exit__)\n",
            "        6    0.000    0.000    0.000    0.000 {built-in method __new__ of type object at 0x55d59ec2dd40}\n",
            "       38    0.000    0.000    0.000    0.000 {built-in method _abc._abc_instancecheck}\n",
            "        6    0.000    0.000    0.000    0.000 {built-in method _warnings._filters_mutated}\n",
            "        9    0.000    0.000    0.000    0.000 {built-in method builtins.all}\n",
            "        3    0.000    0.000    0.000    0.000 {built-in method builtins.any}\n",
            "       13    0.000    0.000    0.000    0.000 {built-in method builtins.callable}\n",
            "        1    0.000    0.000    0.018    0.018 {built-in method builtins.exec}\n",
            "      640    0.000    0.000    0.000    0.000 {built-in method builtins.getattr}\n",
            "      133    0.000    0.000    0.000    0.000 {built-in method builtins.hasattr}\n",
            "       61    0.000    0.000    0.000    0.000 {built-in method builtins.hash}\n",
            "     1146    0.000    0.000    0.001    0.000 {built-in method builtins.isinstance}\n",
            "      286    0.000    0.000    0.000    0.000 {built-in method builtins.issubclass}\n",
            "        4    0.000    0.000    0.000    0.000 {built-in method builtins.iter}\n",
            "  305/245    0.000    0.000    0.000    0.000 {built-in method builtins.len}\n",
            "       11    0.000    0.000    0.000    0.000 {built-in method builtins.sorted}\n",
            "        1    0.000    0.000    0.000    0.000 {built-in method builtins.sum}\n",
            "        1    0.000    0.000    0.000    0.000 {built-in method fromkeys}\n",
            "        7    0.000    0.000    0.000    0.000 {built-in method numpy.arange}\n",
            "    69/64    0.000    0.000    0.000    0.000 {built-in method numpy.array}\n",
            "    29/25    0.001    0.000    0.003    0.000 {built-in method numpy.core._multiarray_umath.implement_array_function}\n",
            "        2    0.000    0.000    0.000    0.000 {built-in method numpy.core._multiarray_umath.normalize_axis_index}\n",
            "        2    0.000    0.000    0.000    0.000 {built-in method numpy.datetime_data}\n",
            "        7    0.000    0.000    0.000    0.000 {built-in method numpy.empty}\n",
            "       36    0.000    0.000    0.000    0.000 {built-in method numpy.geterrobj}\n",
            "       18    0.000    0.000    0.000    0.000 {built-in method numpy.seterrobj}\n",
            "        1    0.000    0.000    0.000    0.000 {built-in method numpy.zeros}\n",
            "        4    0.000    0.000    0.000    0.000 {built-in method pandas._libs.missing.checknull}\n",
            "       18    0.000    0.000    0.000    0.000 {built-in method sys._getframe}\n",
            "        1    0.000    0.000    0.000    0.000 {method 'any' of 'numpy.ndarray' objects}\n",
            "       45    0.000    0.000    0.000    0.000 {method 'append' of 'list' objects}\n",
            "        2    0.000    0.000    0.000    0.000 {method 'append' of 'pandas._libs.internals.BlockPlacement' objects}\n",
            "        1    0.000    0.000    0.000    0.000 {method 'argsort' of 'numpy.ndarray' objects}\n",
            "        1    0.000    0.000    0.000    0.000 {method 'astype' of 'numpy.ndarray' objects}\n",
            "        8    0.000    0.000    0.000    0.000 {method 'clear' of 'dict' objects}\n",
            "       11    0.000    0.000    0.000    0.000 {method 'copy' of 'dict' objects}\n",
            "        7    0.000    0.000    0.000    0.000 {method 'copy' of 'numpy.ndarray' objects}\n",
            "        1    0.000    0.000    0.000    0.000 {method 'delete' of 'pandas._libs.internals.BlockPlacement' objects}\n",
            "        1    0.000    0.000    0.000    0.000 {method 'disable' of '_lsprof.Profiler' objects}\n",
            "        4    0.000    0.000    0.000    0.000 {method 'fill' of 'numpy.ndarray' objects}\n",
            "       30    0.000    0.000    0.000    0.000 {method 'format' of 'str' objects}\n",
            "       14    0.000    0.000    0.000    0.000 {method 'get' of 'dict' objects}\n",
            "        1    0.000    0.000    0.000    0.000 {method 'get_indexer' of 'pandas._libs.index.IndexEngine' objects}\n",
            "        7    0.000    0.000    0.000    0.000 {method 'get_loc' of 'pandas._libs.index.IndexEngine' objects}\n",
            "        2    0.000    0.000    0.000    0.000 {method 'insert' of 'list' objects}\n",
            "       19    0.000    0.000    0.000    0.000 {method 'items' of 'dict' objects}\n",
            "        2    0.000    0.000    0.000    0.000 {method 'keys' of 'dict' objects}\n",
            "        2    0.000    0.000    0.000    0.000 {method 'nonzero' of 'numpy.ndarray' objects}\n",
            "       26    0.000    0.000    0.000    0.000 {method 'pop' of 'dict' objects}\n",
            "        2    0.000    0.000    0.000    0.000 {method 'ravel' of 'numpy.ndarray' objects}\n",
            "       10    0.000    0.000    0.000    0.000 {method 'reduce' of 'numpy.ufunc' objects}\n",
            "        2    0.000    0.000    0.000    0.000 {method 'remove' of 'list' objects}\n",
            "        1    0.000    0.000    0.000    0.000 {method 'reshape' of 'numpy.ndarray' objects}\n",
            "        9    0.000    0.000    0.000    0.000 {method 'startswith' of 'str' objects}\n",
            "        9    0.000    0.000    0.000    0.000 {method 'strip' of 'str' objects}\n",
            "        4    0.000    0.000    0.000    0.000 {method 'upper' of 'str' objects}\n",
            "        2    0.000    0.000    0.000    0.000 {pandas._libs.algos.ensure_int64}\n",
            "        1    0.000    0.000    0.000    0.000 {pandas._libs.algos.ensure_platform_int}\n",
            "        1    0.000    0.000    0.000    0.000 {pandas._libs.algos.take_1d_float64_float64}\n",
            "        3    0.000    0.000    0.000    0.000 {pandas._libs.internals.get_blkno_placements}\n",
            "        3    0.000    0.000    0.000    0.000 {pandas._libs.lib.is_bool}\n",
            "       17    0.000    0.000    0.000    0.000 {pandas._libs.lib.is_float}\n",
            "       13    0.000    0.000    0.000    0.000 {pandas._libs.lib.is_integer}\n",
            "       38    0.000    0.000    0.000    0.000 {pandas._libs.lib.is_list_like}\n",
            "       31    0.000    0.000    0.000    0.000 {pandas._libs.lib.is_scalar}\n",
            "       15    0.000    0.000    0.000    0.000 {pandas._libs.lib.item_from_zerodim}\n",
            "\n",
            "\n"
          ]
        }
      ]
    },
    {
      "cell_type": "markdown",
      "metadata": {
        "id": "DngbQA2eV770"
      },
      "source": [
        "*Your explanation goes here*"
      ]
    },
    {
      "cell_type": "markdown",
      "metadata": {
        "id": "QLwJEzATEKwi"
      },
      "source": [
        "## Part 4: Vectorised solution with NumPy (12.5 pts)"
      ]
    },
    {
      "cell_type": "markdown",
      "metadata": {
        "id": "GrAZ4OI2EPk8"
      },
      "source": [
        "Let's find a vectorised solution that uses NumPy to speed up the calculations. You have to define a function `weighted_rating_numpy(df)` that computes the ratings in a vectorised way and stores them in a new column of the DataFrame called `imdb_rating_numpy`."
      ]
    },
    {
      "cell_type": "code",
      "metadata": {
        "id": "9sJlkDYAzQr8"
      },
      "source": [
        "# your code goes here\n",
        "def weighted_rating_numpy(df):\n",
        "  C = df['vote_average'].mean()\n",
        "  m = 1000\n",
        "  v = df['vote_count'].values\n",
        "  R = df['vote_average'].values\n",
        "  df['imdb_rating_numpy'] = np.where(v > 1000 , (v/(v+m) * R) + (m/(v+m) * C), np.where(v <=1000, np.nan, 0))"
      ],
      "execution_count": 28,
      "outputs": []
    },
    {
      "cell_type": "markdown",
      "metadata": {
        "id": "n2pAc_GEEudy"
      },
      "source": [
        "Call the function and make sure it works as intended."
      ]
    },
    {
      "cell_type": "code",
      "metadata": {
        "id": "IALbcsKO2RNt",
        "colab": {
          "base_uri": "https://localhost:8080/",
          "height": 206
        },
        "outputId": "2fa2be51-705d-4ec6-ff7d-beeb3a6831fc"
      },
      "source": [
        "weighted_rating_numpy(df)\n",
        "\n",
        "pd.testing.assert_series_equal(\n",
        "    df.imdb_rating, df.imdb_rating_numpy, check_names=False\n",
        ")\n",
        "\n",
        "columns_to_show = ['id', 'original_title'] + \\\n",
        "                  list(df.columns[df.columns.str.startswith('imdb_rating')])\n",
        "df[columns_to_show].head()"
      ],
      "execution_count": 29,
      "outputs": [
        {
          "output_type": "execute_result",
          "data": {
            "text/html": [
              "<div>\n",
              "<style scoped>\n",
              "    .dataframe tbody tr th:only-of-type {\n",
              "        vertical-align: middle;\n",
              "    }\n",
              "\n",
              "    .dataframe tbody tr th {\n",
              "        vertical-align: top;\n",
              "    }\n",
              "\n",
              "    .dataframe thead th {\n",
              "        text-align: right;\n",
              "    }\n",
              "</style>\n",
              "<table border=\"1\" class=\"dataframe\">\n",
              "  <thead>\n",
              "    <tr style=\"text-align: right;\">\n",
              "      <th></th>\n",
              "      <th>id</th>\n",
              "      <th>original_title</th>\n",
              "      <th>imdb_rating</th>\n",
              "      <th>imdb_rating_iter</th>\n",
              "      <th>imdb_rating_apply</th>\n",
              "      <th>imdb_rating_pandas</th>\n",
              "      <th>imdb_rating_numpy</th>\n",
              "    </tr>\n",
              "  </thead>\n",
              "  <tbody>\n",
              "    <tr>\n",
              "      <th>0</th>\n",
              "      <td>862</td>\n",
              "      <td>Toy Story</td>\n",
              "      <td>7.375533</td>\n",
              "      <td>7.375533</td>\n",
              "      <td>7.375533</td>\n",
              "      <td>7.375533</td>\n",
              "      <td>7.375533</td>\n",
              "    </tr>\n",
              "    <tr>\n",
              "      <th>1</th>\n",
              "      <td>8844</td>\n",
              "      <td>Jumanji</td>\n",
              "      <td>6.524536</td>\n",
              "      <td>6.524536</td>\n",
              "      <td>6.524536</td>\n",
              "      <td>6.524536</td>\n",
              "      <td>6.524536</td>\n",
              "    </tr>\n",
              "    <tr>\n",
              "      <th>2</th>\n",
              "      <td>15602</td>\n",
              "      <td>Grumpier Old Men</td>\n",
              "      <td>NaN</td>\n",
              "      <td>NaN</td>\n",
              "      <td>NaN</td>\n",
              "      <td>NaN</td>\n",
              "      <td>NaN</td>\n",
              "    </tr>\n",
              "    <tr>\n",
              "      <th>3</th>\n",
              "      <td>31357</td>\n",
              "      <td>Waiting to Exhale</td>\n",
              "      <td>NaN</td>\n",
              "      <td>NaN</td>\n",
              "      <td>NaN</td>\n",
              "      <td>NaN</td>\n",
              "      <td>NaN</td>\n",
              "    </tr>\n",
              "    <tr>\n",
              "      <th>4</th>\n",
              "      <td>11862</td>\n",
              "      <td>Father of the Bride Part II</td>\n",
              "      <td>NaN</td>\n",
              "      <td>NaN</td>\n",
              "      <td>NaN</td>\n",
              "      <td>NaN</td>\n",
              "      <td>NaN</td>\n",
              "    </tr>\n",
              "  </tbody>\n",
              "</table>\n",
              "</div>"
            ],
            "text/plain": [
              "      id               original_title  ...  imdb_rating_pandas  imdb_rating_numpy\n",
              "0    862                    Toy Story  ...            7.375533           7.375533\n",
              "1   8844                      Jumanji  ...            6.524536           6.524536\n",
              "2  15602             Grumpier Old Men  ...                 NaN                NaN\n",
              "3  31357            Waiting to Exhale  ...                 NaN                NaN\n",
              "4  11862  Father of the Bride Part II  ...                 NaN                NaN\n",
              "\n",
              "[5 rows x 7 columns]"
            ]
          },
          "metadata": {},
          "execution_count": 29
        }
      ]
    },
    {
      "cell_type": "markdown",
      "metadata": {
        "id": "r0ebRPwiFAfo"
      },
      "source": [
        "Time the best performance of the function."
      ]
    },
    {
      "cell_type": "code",
      "metadata": {
        "id": "eWe52oAQ6l8R",
        "colab": {
          "base_uri": "https://localhost:8080/"
        },
        "outputId": "59b64aef-0be7-42eb-8750-60687bb81eb4"
      },
      "source": [
        "numpy_time = %timeit -r 3 -o weighted_rating_numpy(df)\n",
        "print(\"Best time:\", numpy_time.best)"
      ],
      "execution_count": 30,
      "outputs": [
        {
          "output_type": "stream",
          "name": "stdout",
          "text": [
            "1000 loops, best of 3: 1.09 ms per loop\n",
            "Best time: 0.00109188744700009\n"
          ]
        }
      ]
    },
    {
      "cell_type": "markdown",
      "metadata": {
        "id": "TB7tkhUDFAfr"
      },
      "source": [
        "Update the score board with the best time, marginal and overall performance change you have obtained. Display the updated table below. "
      ]
    },
    {
      "cell_type": "code",
      "metadata": {
        "id": "J8MBiqnvushL",
        "colab": {
          "base_uri": "https://localhost:8080/",
          "height": 258
        },
        "outputId": "2d31dd82-ac9f-461b-df89-380fe154cd10"
      },
      "source": [
        "# your code goes here\n",
        "# your code goes here\n",
        "timings.iloc[4,0]= numpy_time.best\n",
        "#marginal\n",
        "timings.iloc[4,1] = timings.iloc[3,0]/timings.iloc[4,0]\n",
        "#overall\n",
        "timings.iloc[4,2] = timings.iloc[0,0]/timings.iloc[4,0]\n",
        "timings\n"
      ],
      "execution_count": 31,
      "outputs": [
        {
          "output_type": "execute_result",
          "data": {
            "text/html": [
              "<div>\n",
              "<style scoped>\n",
              "    .dataframe tbody tr th:only-of-type {\n",
              "        vertical-align: middle;\n",
              "    }\n",
              "\n",
              "    .dataframe tbody tr th {\n",
              "        vertical-align: top;\n",
              "    }\n",
              "\n",
              "    .dataframe thead th {\n",
              "        text-align: right;\n",
              "    }\n",
              "</style>\n",
              "<table border=\"1\" class=\"dataframe\">\n",
              "  <thead>\n",
              "    <tr style=\"text-align: right;\">\n",
              "      <th></th>\n",
              "      <th>Best single run time (s)</th>\n",
              "      <th>Marginal performance improvement</th>\n",
              "      <th>Performance improvement over basic looping</th>\n",
              "      <th>Best single run time (s, teacher)</th>\n",
              "      <th>Marginal performance improvement (teacher)</th>\n",
              "      <th>Performance improvement over basic looping (teacher)</th>\n",
              "    </tr>\n",
              "  </thead>\n",
              "  <tbody>\n",
              "    <tr>\n",
              "      <th>Basic looping</th>\n",
              "      <td>9.059021</td>\n",
              "      <td>NaN</td>\n",
              "      <td>NaN</td>\n",
              "      <td>9.37000</td>\n",
              "      <td>NaN</td>\n",
              "      <td>NaN</td>\n",
              "    </tr>\n",
              "    <tr>\n",
              "      <th>Iterrows looping</th>\n",
              "      <td>3.751410</td>\n",
              "      <td>2.414831</td>\n",
              "      <td>2.414831</td>\n",
              "      <td>3.87000</td>\n",
              "      <td>x2.42</td>\n",
              "      <td>x2.42</td>\n",
              "    </tr>\n",
              "    <tr>\n",
              "      <th>apply()</th>\n",
              "      <td>0.566176</td>\n",
              "      <td>6.625873</td>\n",
              "      <td>16.000362</td>\n",
              "      <td>0.56200</td>\n",
              "      <td>x6.88</td>\n",
              "      <td>x16.69</td>\n",
              "    </tr>\n",
              "    <tr>\n",
              "      <th>Pandas vectorisation</th>\n",
              "      <td>0.009838</td>\n",
              "      <td>57.552794</td>\n",
              "      <td>920.865553</td>\n",
              "      <td>0.00540</td>\n",
              "      <td>x103.8</td>\n",
              "      <td>x1732.17</td>\n",
              "    </tr>\n",
              "    <tr>\n",
              "      <th>NumPy vectorisation</th>\n",
              "      <td>0.001092</td>\n",
              "      <td>9.009635</td>\n",
              "      <td>8296.662194</td>\n",
              "      <td>0.00084</td>\n",
              "      <td>x6.45</td>\n",
              "      <td>x11172.98</td>\n",
              "    </tr>\n",
              "  </tbody>\n",
              "</table>\n",
              "</div>"
            ],
            "text/plain": [
              "                      Best single run time (s)  ...  Performance improvement over basic looping (teacher)\n",
              "Basic looping                         9.059021  ...                                                NaN   \n",
              "Iterrows looping                      3.751410  ...                                              x2.42   \n",
              "apply()                               0.566176  ...                                             x16.69   \n",
              "Pandas vectorisation                  0.009838  ...                                           x1732.17   \n",
              "NumPy vectorisation                   0.001092  ...                                          x11172.98   \n",
              "\n",
              "[5 rows x 6 columns]"
            ]
          },
          "metadata": {},
          "execution_count": 31
        }
      ]
    },
    {
      "cell_type": "markdown",
      "metadata": {
        "id": "8RSyEDTvA-QQ"
      },
      "source": [
        "Time to reflect on your solution. Do the following: \n",
        " \n",
        "* Explain in words what your function does and why it is a vectorised solution. In particular, break down each step involving ufuncs, broadcasting and other vectorized calls. \n",
        "    * If your explanation has major errors, we will substract points for this part.\n",
        "    * If applicable, you may refer back to the explanation you gave for `weighted_rating_pandas`.\n",
        " \n",
        "* Display profiler output and give an analysis of what you see.\n",
        "    * Contrast your findings with those from `weighted_rating_pandas`."
      ]
    },
    {
      "cell_type": "code",
      "metadata": {
        "id": "FV8aYhv5WEqA",
        "outputId": "ebb6f9ac-f40e-4459-a135-8d0b660de7bd",
        "colab": {
          "base_uri": "https://localhost:8080/"
        }
      },
      "source": [
        "cProfile.run('weighted_rating_numpy(df)')"
      ],
      "execution_count": 32,
      "outputs": [
        {
          "output_type": "stream",
          "name": "stdout",
          "text": [
            "         351 function calls (345 primitive calls) in 0.003 seconds\n",
            "\n",
            "   Ordered by: standard name\n",
            "\n",
            "   ncalls  tottime  percall  cumtime  percall filename:lineno(function)\n",
            "        1    0.000    0.000    0.000    0.000 <__array_function__ internals>:2(atleast_2d)\n",
            "        2    0.000    0.000    0.000    0.000 <__array_function__ internals>:2(where)\n",
            "        1    0.001    0.001    0.003    0.003 <ipython-input-28-0de221d39944>:2(weighted_rating_numpy)\n",
            "        1    0.000    0.000    0.003    0.003 <string>:1(<module>)\n",
            "        1    0.000    0.000    0.000    0.000 _asarray.py:14(asarray)\n",
            "        1    0.000    0.000    0.000    0.000 _asarray.py:86(asanyarray)\n",
            "        1    0.000    0.000    0.000    0.000 _methods.py:53(_any)\n",
            "        4    0.000    0.000    0.000    0.000 _ufunc_config.py:132(geterr)\n",
            "        4    0.000    0.000    0.000    0.000 _ufunc_config.py:32(seterr)\n",
            "        2    0.000    0.000    0.000    0.000 _ufunc_config.py:429(__init__)\n",
            "        2    0.000    0.000    0.000    0.000 _ufunc_config.py:433(__enter__)\n",
            "        2    0.000    0.000    0.000    0.000 _ufunc_config.py:438(__exit__)\n",
            "        3    0.000    0.000    0.000    0.000 base.py:1378(nlevels)\n",
            "        3    0.000    0.000    0.000    0.000 base.py:1755(is_floating)\n",
            "        2    0.000    0.000    0.000    0.000 base.py:256(is_dtype)\n",
            "        3    0.000    0.000    0.000    0.000 base.py:2854(get_loc)\n",
            "        5    0.000    0.000    0.000    0.000 base.py:4039(__contains__)\n",
            "        2    0.000    0.000    0.000    0.000 base.py:4086(__getitem__)\n",
            "        2    0.000    0.000    0.000    0.000 base.py:413(find)\n",
            "        3    0.000    0.000    0.000    0.000 base.py:4979(_maybe_cast_indexer)\n",
            "        5    0.000    0.000    0.000    0.000 base.py:567(__len__)\n",
            "        2    0.000    0.000    0.000    0.000 blocks.py:124(__init__)\n",
            "        2    0.000    0.000    0.000    0.000 blocks.py:135(_check_ndim)\n",
            "        2    0.000    0.000    0.000    0.000 blocks.py:190(external_values)\n",
            "        1    0.000    0.000    0.000    0.000 blocks.py:201(internal_values)\n",
            "        2    0.000    0.000    0.000    0.000 blocks.py:233(mgr_locs)\n",
            "        2    0.000    0.000    0.000    0.000 blocks.py:237(mgr_locs)\n",
            "        2    0.000    0.000    0.000    0.000 blocks.py:256(make_block_same_class)\n",
            "        1    0.000    0.000    0.000    0.000 blocks.py:315(dtype)\n",
            "        2    0.000    0.000    0.000    0.000 blocks.py:319(iget)\n",
            "        1    0.000    0.000    0.000    0.000 blocks.py:322(set)\n",
            "        1    0.000    0.000    0.000    0.000 blocks.py:642(should_store)\n",
            "        1    0.000    0.000    0.000    0.000 common.py:1025(is_datetime_or_timedelta_dtype)\n",
            "        1    0.000    0.000    0.000    0.000 common.py:1180(needs_i8_conversion)\n",
            "        2    0.000    0.000    0.000    0.000 common.py:1460(is_extension_array_dtype)\n",
            "        5    0.000    0.000    0.000    0.000 common.py:149(cast_scalar_indexer)\n",
            "        2    0.000    0.000    0.000    0.000 common.py:1565(_get_dtype)\n",
            "        3    0.000    0.000    0.000    0.000 common.py:1600(_is_dtype_type)\n",
            "        3    0.000    0.000    0.000    0.000 common.py:178(classes)\n",
            "        3    0.000    0.000    0.000    0.000 common.py:180(<lambda>)\n",
            "        2    0.000    0.000    0.000    0.000 common.py:194(is_object_dtype)\n",
            "        4    0.000    0.000    0.000    0.000 common.py:329(apply_if_callable)\n",
            "        1    0.000    0.000    0.000    0.000 common.py:381(is_datetime64tz_dtype)\n",
            "        1    0.000    0.000    0.000    0.000 common.py:456(is_period_dtype)\n",
            "        1    0.000    0.000    0.000    0.000 common.py:608(is_dtype_equal)\n",
            "        1    0.000    0.000    0.000    0.000 construction.py:339(extract_array)\n",
            "        1    0.000    0.000    0.000    0.000 construction.py:741(sanitize_index)\n",
            "        1    0.000    0.000    0.000    0.000 dtypes.py:906(is_dtype)\n",
            "        1    0.000    0.000    0.000    0.000 frame.py:1099(__len__)\n",
            "        3    0.000    0.000    0.000    0.000 frame.py:2869(__getitem__)\n",
            "        1    0.000    0.000    0.001    0.001 frame.py:3028(__setitem__)\n",
            "        1    0.000    0.000    0.000    0.000 frame.py:3109(_set_item)\n",
            "        1    0.000    0.000    0.000    0.000 frame.py:3162(_ensure_valid_index)\n",
            "        2    0.000    0.000    0.000    0.000 frame.py:3184(_box_col_values)\n",
            "        1    0.000    0.000    0.000    0.000 frame.py:3702(_sanitize_column)\n",
            "        1    0.000    0.000    0.000    0.000 function.py:48(__call__)\n",
            "        9    0.000    0.000    0.000    0.000 generic.py:10(_check)\n",
            "        1    0.000    0.000    0.001    0.001 generic.py:11451(stat_func)\n",
            "        2    0.000    0.000    0.000    0.000 generic.py:195(__init__)\n",
            "        2    0.000    0.000    0.000    0.000 generic.py:3180(_set_as_cached)\n",
            "        1    0.000    0.000    0.000    0.000 generic.py:3250(_clear_item_cache)\n",
            "        3    0.000    0.000    0.000    0.000 generic.py:3534(_get_item_cache)\n",
            "        1    0.000    0.000    0.000    0.000 generic.py:3570(_iset_item)\n",
            "        1    0.000    0.000    0.000    0.000 generic.py:3574(_set_item)\n",
            "        1    0.000    0.000    0.000    0.000 generic.py:3611(_check_setitem_copy)\n",
            "        1    0.000    0.000    0.000    0.000 generic.py:365(_get_axis_number)\n",
            "        1    0.000    0.000    0.000    0.000 generic.py:447(_info_axis)\n",
            "        2    0.000    0.000    0.000    0.000 generic.py:5125(__getattr__)\n",
            "        6    0.000    0.000    0.000    0.000 generic.py:5143(__setattr__)\n",
            "        1    0.000    0.000    0.000    0.000 indexing.py:2126(convert_to_index_sliceable)\n",
            "        5    0.000    0.000    0.000    0.000 inference.py:322(is_hashable)\n",
            "        1    0.000    0.000    0.000    0.000 inference.py:360(is_sequence)\n",
            "        1    0.000    0.000    0.000    0.000 managers.py:1052(iset)\n",
            "        1    0.000    0.000    0.000    0.000 managers.py:1080(value_getitem)\n",
            "        2    0.000    0.000    0.000    0.000 managers.py:1541(__init__)\n",
            "        3    0.000    0.000    0.000    0.000 managers.py:1584(_block)\n",
            "        2    0.000    0.000    0.000    0.000 managers.py:1618(external_values)\n",
            "        1    0.000    0.000    0.000    0.000 managers.py:1622(internal_values)\n",
            "        3    0.000    0.000    0.000    0.000 managers.py:163(blknos)\n",
            "        3    0.000    0.000    0.000    0.000 managers.py:179(blklocs)\n",
            "        1    0.000    0.000    0.000    0.000 managers.py:212(shape)\n",
            "        3    0.000    0.000    0.000    0.000 managers.py:214(<genexpr>)\n",
            "        1    0.000    0.000    0.000    0.000 managers.py:216(ndim)\n",
            "        2    0.000    0.000    0.000    0.000 managers.py:993(iget)\n",
            "        2    0.000    0.000    0.000    0.000 multiarray.py:311(where)\n",
            "        1    0.000    0.000    0.000    0.000 nanops.py:136(_bn_ok_dtype)\n",
            "        1    0.000    0.000    0.000    0.000 nanops.py:155(_has_infs)\n",
            "        2    0.000    0.000    0.000    0.000 nanops.py:57(check)\n",
            "        1    0.000    0.000    0.001    0.001 nanops.py:61(_f)\n",
            "        3    0.000    0.000    0.000    0.000 nanops.py:64(<genexpr>)\n",
            "        1    0.000    0.000    0.001    0.001 nanops.py:97(f)\n",
            "        2    0.000    0.000    0.000    0.000 numeric.py:150(is_all_dates)\n",
            "        2    0.000    0.000    0.000    0.000 series.py:201(__init__)\n",
            "        2    0.000    0.000    0.000    0.000 series.py:398(_set_axis)\n",
            "        1    0.000    0.000    0.001    0.001 series.py:4224(_reduce)\n",
            "        2    0.000    0.000    0.000    0.000 series.py:442(name)\n",
            "        2    0.000    0.000    0.000    0.000 series.py:492(name)\n",
            "        2    0.000    0.000    0.000    0.000 series.py:498(values)\n",
            "        1    0.000    0.000    0.000    0.000 series.py:540(_values)\n",
            "        1    0.000    0.000    0.000    0.000 shape_base.py:78(_atleast_2d_dispatcher)\n",
            "        1    0.000    0.000    0.000    0.000 shape_base.py:82(atleast_2d)\n",
            "        1    0.000    0.000    0.000    0.000 {built-in method bottleneck.reduce.nanmean}\n",
            "        1    0.000    0.000    0.000    0.000 {built-in method builtins.any}\n",
            "        4    0.000    0.000    0.000    0.000 {built-in method builtins.callable}\n",
            "        1    0.000    0.000    0.003    0.003 {built-in method builtins.exec}\n",
            "       15    0.000    0.000    0.000    0.000 {built-in method builtins.getattr}\n",
            "        2    0.000    0.000    0.000    0.000 {built-in method builtins.hasattr}\n",
            "       10    0.000    0.000    0.000    0.000 {built-in method builtins.hash}\n",
            "       43    0.000    0.000    0.000    0.000 {built-in method builtins.isinstance}\n",
            "        6    0.000    0.000    0.000    0.000 {built-in method builtins.issubclass}\n",
            "        1    0.000    0.000    0.000    0.000 {built-in method builtins.iter}\n",
            "    23/17    0.000    0.000    0.000    0.000 {built-in method builtins.len}\n",
            "        2    0.000    0.000    0.000    0.000 {built-in method numpy.array}\n",
            "        3    0.000    0.000    0.000    0.000 {built-in method numpy.core._multiarray_umath.implement_array_function}\n",
            "        8    0.000    0.000    0.000    0.000 {built-in method numpy.geterrobj}\n",
            "        4    0.000    0.000    0.000    0.000 {built-in method numpy.seterrobj}\n",
            "        1    0.000    0.000    0.000    0.000 {method 'any' of 'numpy.generic' objects}\n",
            "        1    0.000    0.000    0.000    0.000 {method 'append' of 'list' objects}\n",
            "        1    0.000    0.000    0.000    0.000 {method 'clear' of 'dict' objects}\n",
            "        2    0.000    0.000    0.000    0.000 {method 'copy' of 'numpy.ndarray' objects}\n",
            "        1    0.000    0.000    0.000    0.000 {method 'disable' of '_lsprof.Profiler' objects}\n",
            "        4    0.000    0.000    0.000    0.000 {method 'get' of 'dict' objects}\n",
            "        3    0.000    0.000    0.000    0.000 {method 'get_loc' of 'pandas._libs.index.IndexEngine' objects}\n",
            "        1    0.000    0.000    0.000    0.000 {method 'pop' of 'dict' objects}\n",
            "        1    0.000    0.000    0.000    0.000 {method 'reduce' of 'numpy.ufunc' objects}\n",
            "        1    0.000    0.000    0.000    0.000 {method 'values' of 'dict' objects}\n",
            "        1    0.000    0.000    0.000    0.000 {pandas._libs.internals.get_blkno_placements}\n",
            "        5    0.000    0.000    0.000    0.000 {pandas._libs.lib.is_float}\n",
            "        1    0.000    0.000    0.000    0.000 {pandas._libs.lib.is_integer}\n",
            "        2    0.000    0.000    0.000    0.000 {pandas._libs.lib.is_scalar}\n",
            "        3    0.000    0.000    0.000    0.000 {pandas._libs.lib.item_from_zerodim}\n",
            "\n",
            "\n"
          ]
        }
      ]
    },
    {
      "cell_type": "markdown",
      "metadata": {
        "id": "k7lgegwDWFTt"
      },
      "source": [
        "*Your explanation goes here*"
      ]
    },
    {
      "cell_type": "markdown",
      "metadata": {
        "id": "rcGeZKuIRHe7"
      },
      "source": [
        "## Part 5: Find out the top 25 titles (2.5 pts)"
      ]
    },
    {
      "cell_type": "markdown",
      "metadata": {
        "id": "E-IE_GfsRMOG"
      },
      "source": [
        "What are the top 25 titles? Now that we have the IMDb ratings conveniently stored in a column, display the top 25 titles, together with their IMDb rating:"
      ]
    },
    {
      "cell_type": "code",
      "metadata": {
        "id": "svC-x1ZcRNJ4",
        "colab": {
          "base_uri": "https://localhost:8080/",
          "height": 834
        },
        "outputId": "d264945d-9eae-4a82-8dfe-dff283843504"
      },
      "source": [
        "# your code goes here\n",
        "df[['title','imdb_rating']].sort_values(ascending=False, by ='imdb_rating').head(25)"
      ],
      "execution_count": 29,
      "outputs": [
        {
          "output_type": "execute_result",
          "data": {
            "text/html": [
              "<div>\n",
              "<style scoped>\n",
              "    .dataframe tbody tr th:only-of-type {\n",
              "        vertical-align: middle;\n",
              "    }\n",
              "\n",
              "    .dataframe tbody tr th {\n",
              "        vertical-align: top;\n",
              "    }\n",
              "\n",
              "    .dataframe thead th {\n",
              "        text-align: right;\n",
              "    }\n",
              "</style>\n",
              "<table border=\"1\" class=\"dataframe\">\n",
              "  <thead>\n",
              "    <tr style=\"text-align: right;\">\n",
              "      <th></th>\n",
              "      <th>title</th>\n",
              "      <th>imdb_rating</th>\n",
              "    </tr>\n",
              "  </thead>\n",
              "  <tbody>\n",
              "    <tr>\n",
              "      <th>314</th>\n",
              "      <td>The Shawshank Redemption</td>\n",
              "      <td>8.192086</td>\n",
              "    </tr>\n",
              "    <tr>\n",
              "      <th>12481</th>\n",
              "      <td>The Dark Knight</td>\n",
              "      <td>8.097916</td>\n",
              "    </tr>\n",
              "    <tr>\n",
              "      <th>834</th>\n",
              "      <td>The Godfather</td>\n",
              "      <td>8.089770</td>\n",
              "    </tr>\n",
              "    <tr>\n",
              "      <th>2843</th>\n",
              "      <td>Fight Club</td>\n",
              "      <td>8.048880</td>\n",
              "    </tr>\n",
              "    <tr>\n",
              "      <th>292</th>\n",
              "      <td>Pulp Fiction</td>\n",
              "      <td>8.022704</td>\n",
              "    </tr>\n",
              "    <tr>\n",
              "      <th>15480</th>\n",
              "      <td>Inception</td>\n",
              "      <td>7.935393</td>\n",
              "    </tr>\n",
              "    <tr>\n",
              "      <th>351</th>\n",
              "      <td>Forrest Gump</td>\n",
              "      <td>7.917781</td>\n",
              "    </tr>\n",
              "    <tr>\n",
              "      <th>22879</th>\n",
              "      <td>Interstellar</td>\n",
              "      <td>7.896385</td>\n",
              "    </tr>\n",
              "    <tr>\n",
              "      <th>1154</th>\n",
              "      <td>The Empire Strikes Back</td>\n",
              "      <td>7.831115</td>\n",
              "    </tr>\n",
              "    <tr>\n",
              "      <th>7000</th>\n",
              "      <td>The Lord of the Rings: The Return of the King</td>\n",
              "      <td>7.831037</td>\n",
              "    </tr>\n",
              "    <tr>\n",
              "      <th>522</th>\n",
              "      <td>Schindler's List</td>\n",
              "      <td>7.806722</td>\n",
              "    </tr>\n",
              "    <tr>\n",
              "      <th>23673</th>\n",
              "      <td>Whiplash</td>\n",
              "      <td>7.801217</td>\n",
              "    </tr>\n",
              "    <tr>\n",
              "      <th>18465</th>\n",
              "      <td>The Intouchables</td>\n",
              "      <td>7.797277</td>\n",
              "    </tr>\n",
              "    <tr>\n",
              "      <th>256</th>\n",
              "      <td>Star Wars</td>\n",
              "      <td>7.780965</td>\n",
              "    </tr>\n",
              "    <tr>\n",
              "      <th>5481</th>\n",
              "      <td>Spirited Away</td>\n",
              "      <td>7.760254</td>\n",
              "    </tr>\n",
              "    <tr>\n",
              "      <th>4863</th>\n",
              "      <td>The Lord of the Rings: The Fellowship of the Ring</td>\n",
              "      <td>7.759254</td>\n",
              "    </tr>\n",
              "    <tr>\n",
              "      <th>46</th>\n",
              "      <td>Se7en</td>\n",
              "      <td>7.741149</td>\n",
              "    </tr>\n",
              "    <tr>\n",
              "      <th>5814</th>\n",
              "      <td>The Lord of the Rings: The Two Towers</td>\n",
              "      <td>7.724400</td>\n",
              "    </tr>\n",
              "    <tr>\n",
              "      <th>2211</th>\n",
              "      <td>Life Is Beautiful</td>\n",
              "      <td>7.722473</td>\n",
              "    </tr>\n",
              "    <tr>\n",
              "      <th>289</th>\n",
              "      <td>Leon: The Professional</td>\n",
              "      <td>7.712289</td>\n",
              "    </tr>\n",
              "    <tr>\n",
              "      <th>3030</th>\n",
              "      <td>The Green Mile</td>\n",
              "      <td>7.700299</td>\n",
              "    </tr>\n",
              "    <tr>\n",
              "      <th>1178</th>\n",
              "      <td>The Godfather: Part II</td>\n",
              "      <td>7.693061</td>\n",
              "    </tr>\n",
              "    <tr>\n",
              "      <th>23753</th>\n",
              "      <td>Guardians of the Galaxy</td>\n",
              "      <td>7.692858</td>\n",
              "    </tr>\n",
              "    <tr>\n",
              "      <th>2458</th>\n",
              "      <td>The Matrix</td>\n",
              "      <td>7.673643</td>\n",
              "    </tr>\n",
              "    <tr>\n",
              "      <th>1225</th>\n",
              "      <td>Back to the Future</td>\n",
              "      <td>7.671024</td>\n",
              "    </tr>\n",
              "  </tbody>\n",
              "</table>\n",
              "</div>"
            ],
            "text/plain": [
              "                                                   title  imdb_rating\n",
              "314                             The Shawshank Redemption     8.192086\n",
              "12481                                    The Dark Knight     8.097916\n",
              "834                                        The Godfather     8.089770\n",
              "2843                                          Fight Club     8.048880\n",
              "292                                         Pulp Fiction     8.022704\n",
              "15480                                          Inception     7.935393\n",
              "351                                         Forrest Gump     7.917781\n",
              "22879                                       Interstellar     7.896385\n",
              "1154                             The Empire Strikes Back     7.831115\n",
              "7000       The Lord of the Rings: The Return of the King     7.831037\n",
              "522                                     Schindler's List     7.806722\n",
              "23673                                           Whiplash     7.801217\n",
              "18465                                   The Intouchables     7.797277\n",
              "256                                            Star Wars     7.780965\n",
              "5481                                       Spirited Away     7.760254\n",
              "4863   The Lord of the Rings: The Fellowship of the Ring     7.759254\n",
              "46                                                 Se7en     7.741149\n",
              "5814               The Lord of the Rings: The Two Towers     7.724400\n",
              "2211                                   Life Is Beautiful     7.722473\n",
              "289                               Leon: The Professional     7.712289\n",
              "3030                                      The Green Mile     7.700299\n",
              "1178                              The Godfather: Part II     7.693061\n",
              "23753                            Guardians of the Galaxy     7.692858\n",
              "2458                                          The Matrix     7.673643\n",
              "1225                                  Back to the Future     7.671024"
            ]
          },
          "metadata": {},
          "execution_count": 29
        }
      ]
    },
    {
      "cell_type": "markdown",
      "metadata": {
        "id": "2Ca4XaEtqvwt"
      },
      "source": [
        "# Exercise 3: Predicting the genre of movies (40 points)"
      ]
    },
    {
      "cell_type": "markdown",
      "metadata": {
        "id": "irkcmAfTHTzR"
      },
      "source": [
        "In this exercise, you'll be asked to create a number of features and use them to predict whether a movie is a science fiction movie or not. \n",
        "For this classification task, we'll work with a different part of the movies dataset, which contains more information for each movie."
      ]
    },
    {
      "cell_type": "code",
      "metadata": {
        "ExecuteTime": {
          "end_time": "2021-09-27T12:28:57.151965Z",
          "start_time": "2021-09-27T12:28:57.145452Z"
        },
        "id": "cs0dJMEG1PLL"
      },
      "source": [
        "train_url = 'http://courses.compute.dtu.dk/02807/2021/projects/project1/train.csv'"
      ],
      "execution_count": null,
      "outputs": []
    },
    {
      "cell_type": "markdown",
      "metadata": {
        "id": "SIcpNS2GCXUi"
      },
      "source": [
        "You'll try to predict whether a movie is a science fiction movie based on the other associated genres for the movie, the people and companies involved in making it, as well as its release date."
      ]
    },
    {
      "cell_type": "markdown",
      "metadata": {
        "id": "IkN5bCjoCPW9"
      },
      "source": [
        "## Part 1: Adding binary features for genres (15 pts)"
      ]
    },
    {
      "cell_type": "markdown",
      "metadata": {
        "id": "XA00jck22BKq"
      },
      "source": [
        "As in Exercise 1, the data on several columns is in a stringified format. Pre-process the following columns appropriately, as you did with the `genres` column in Part 1 of Exercise 1.\n",
        "```\n",
        "'belongs_to_collection', 'genres', 'production_companies','production_countries', 'spoken_languages', 'Keywords', 'cast', 'crew'\n",
        "```\n",
        " \n",
        "Don't loop explicitly over the rows to perform this preprocessing. Your dataframe should be named `train`."
      ]
    },
    {
      "cell_type": "code",
      "metadata": {
        "id": "tHi0Ejxb2bKM"
      },
      "source": [
        "# your code goes here"
      ],
      "execution_count": null,
      "outputs": []
    },
    {
      "cell_type": "markdown",
      "metadata": {
        "id": "Z57lsGZ5IL7b"
      },
      "source": [
        "Looking at the 'genres' column, you can see that movies have a varying number of associated genres."
      ]
    },
    {
      "cell_type": "code",
      "metadata": {
        "id": "amzV_VzSE0VL"
      },
      "source": [
        "# this will work only if you've already preprocessed the genres' column into lists of dicts\n",
        "for i, v in enumerate(train.genres.head()):\n",
        "    print(i, v)"
      ],
      "execution_count": null,
      "outputs": []
    },
    {
      "cell_type": "markdown",
      "metadata": {
        "id": "kPDjPDHlInOC"
      },
      "source": [
        "Count the number of movies that have $n$ associated genres, for each $n$ in the dataset. If a movie has no associated genres, assign it the number 0. \n",
        "\n",
        "You have to use Pandas built-in functions only (no explicit looping). For example, you could use `apply()` with an appropriate function to apply to each row. \n",
        "\n",
        "Once you have the counts, visualise them as a bar chart, with one bar per possible number of associated genres, and the height of the bar representing the number of movies with that number of genres.\n"
      ]
    },
    {
      "cell_type": "code",
      "metadata": {
        "id": "6cHqZJ8iImh1"
      },
      "source": [
        "# your code goes here"
      ],
      "execution_count": null,
      "outputs": []
    },
    {
      "cell_type": "markdown",
      "metadata": {
        "id": "EqA9UQ3rJyBQ"
      },
      "source": [
        "Let's create our binary features next. Complete the following steps:\n",
        " \n",
        "1.   Transform the `genres` column by replacing its current entries with the list of names of genres occurring in the entries.  For example, the entry \n",
        "```\n",
        "[{'id': 10749, 'name': 'Romance'}, {'id': 35, 'name': 'Comedy'}]\n",
        "```\n",
        "should be transformed into:\n",
        "```\n",
        "['Romance','Comedy']\n",
        "```\n",
        "Empty entries should be transformed into the empty list `[]`.\n",
        "\n",
        "2. Create a separate column (in `train`) for each of the 20 genres, with name `genres_(nameofgenre)` (e.g. `genres_Comedy`). A movie should have a 1 on a genres column if the genre is one of the associated genres for that movie, and a 0 otherwise.\n",
        "    * To get started, consider what operations create a data frame with dimensions as `train` and columns as specified here, based on the list output from step 1. Then combine this data frame with `train`.\n",
        "\n",
        "You have to use Pandas built-in functions only (no explicit looping)."
      ]
    },
    {
      "cell_type": "code",
      "metadata": {
        "id": "EVXMvDv3Mk1t"
      },
      "source": [
        "# your code goes here"
      ],
      "execution_count": null,
      "outputs": []
    },
    {
      "cell_type": "markdown",
      "metadata": {
        "id": "nN65zGfLnSe-"
      },
      "source": [
        "Visualise the number of movies per top 20 genre with a chart of your choice."
      ]
    },
    {
      "cell_type": "code",
      "metadata": {
        "id": "wEjJJkMZh9mF"
      },
      "source": [
        "# your code goes here"
      ],
      "execution_count": null,
      "outputs": []
    },
    {
      "cell_type": "markdown",
      "metadata": {
        "id": "M79tzVdMDfXL"
      },
      "source": [
        "## Part 2: Adding more binary features (5 pts)"
      ]
    },
    {
      "cell_type": "markdown",
      "metadata": {
        "id": "7iZngZ3ZnAsG"
      },
      "source": [
        "You've now extracted binary features for all genres associated with a movie. But there's other information that we could use to base our predictions on. \n",
        "\n",
        "The `genres` column is just one out of several columns containing lists of dictionaries as entries. For example, the `production_companies` column also contains lists of dictionaries, providing names of the companies producing the movie. As you just did with genres, add new columns for:\n",
        " \n",
        "1.   The names of the 30 most common production companies\n",
        "2.   The names of the 30 most common production countries\n",
        "3.   The names of the 30 most common actors (`cast` column) \n",
        "4.   The names of the 30 most common crew members\n",
        "5.   The names of the 30 most common keywords\n",
        " \n",
        "We recommend you generalize the functionality implemented in the previous question (e.g. to other columns and to restrict to top 30 most common values)."
      ]
    },
    {
      "cell_type": "code",
      "metadata": {
        "id": "9sO8Tsqduatn"
      },
      "source": [
        "# your code goes here"
      ],
      "execution_count": null,
      "outputs": []
    },
    {
      "cell_type": "markdown",
      "metadata": {
        "id": "KjFFSEJs93yJ"
      },
      "source": [
        "Check the result. You should now have a much wider table, with the new columns consisting of binary features."
      ]
    },
    {
      "cell_type": "code",
      "metadata": {
        "id": "IyORi5V27Mg0"
      },
      "source": [
        "train.head()"
      ],
      "execution_count": null,
      "outputs": []
    },
    {
      "cell_type": "markdown",
      "metadata": {
        "id": "joEcHikdD5SY"
      },
      "source": [
        " ## Part 3: Adding numerical date features (5 points)"
      ]
    },
    {
      "cell_type": "markdown",
      "metadata": {
        "id": "nliC-9woDYd_"
      },
      "source": [
        "Next, we'll create some features based on the release date information. Create a new column storing the value for each of the following  aspects of a release date:\n",
        " \n",
        "```\n",
        "['year', 'weekday', 'month', 'weekofyear', 'day', 'quarter']\n",
        "```\n",
        " \n",
        "As usual, don't iterate explicitly to create these columns."
      ]
    },
    {
      "cell_type": "code",
      "metadata": {
        "id": "-K5u197bDX1A"
      },
      "source": [
        "# your code goes here"
      ],
      "execution_count": null,
      "outputs": []
    },
    {
      "cell_type": "markdown",
      "metadata": {
        "id": "KWLi9-BW97VX"
      },
      "source": [
        "Next, we'll drop the columns that will not be used for learning. "
      ]
    },
    {
      "cell_type": "code",
      "metadata": {
        "ExecuteTime": {
          "end_time": "2021-09-27T15:27:05.446343Z",
          "start_time": "2021-09-27T15:27:05.426250Z"
        },
        "id": "MbycSRqu8dR5"
      },
      "source": [
        "train = train.drop(['id', 'homepage', 'original_language',\n",
        "                    'title', 'imdb_id','crew', 'poster_path', \n",
        "                    'release_date', 'status', 'belongs_to_collection',\n",
        "                    'Keywords', 'original_title', 'overview',\n",
        "                    'production_companies', 'production_countries', \n",
        "                    'spoken_languages', 'tagline', 'cast','genres'], \n",
        "                   axis=1)"
      ],
      "execution_count": null,
      "outputs": []
    },
    {
      "cell_type": "markdown",
      "metadata": {
        "id": "lOlV7ho4-OR9"
      },
      "source": [
        "Lastly, drop any rows with missing values."
      ]
    },
    {
      "cell_type": "code",
      "metadata": {
        "id": "asrzvNYy-NO4"
      },
      "source": [
        "# your code goes here"
      ],
      "execution_count": null,
      "outputs": []
    },
    {
      "cell_type": "markdown",
      "metadata": {
        "id": "tV_ANmOH0rQJ"
      },
      "source": [
        "## Part 4: Prediction (10 pts)"
      ]
    },
    {
      "cell_type": "markdown",
      "metadata": {
        "id": "9Y1XUwNX0rQL"
      },
      "source": [
        "Let's load the necessary `sklearn` libraries and prepare the training data for learning. Recall that your goal is to predict whether a movie has science fiction as an associated genre. So you're dealing with a binary classification task."
      ]
    },
    {
      "cell_type": "code",
      "metadata": {
        "id": "9Qpz2Cd60rQM"
      },
      "source": [
        "from sklearn.model_selection import train_test_split"
      ],
      "execution_count": null,
      "outputs": []
    },
    {
      "cell_type": "markdown",
      "metadata": {
        "id": "dWzqddf90rQR"
      },
      "source": [
        "Use `sklearn` to prepare the training and test sets, setting aside 15% of the data for testing. Call the training input features, training labels, test input features and test labels as follows:\n",
        "\n",
        "```\n",
        "x_train, x_test, y_train, y_test\n",
        "```\n",
        "\n"
      ]
    },
    {
      "cell_type": "code",
      "metadata": {
        "id": "dDLDQWPl0rQS"
      },
      "source": [
        "# your code goes here"
      ],
      "execution_count": null,
      "outputs": []
    },
    {
      "cell_type": "markdown",
      "metadata": {
        "id": "AKaGZrSuLg1K"
      },
      "source": [
        "Feature scaling is a common requirement for many machine learning estimators: they might behave badly if the individual features do not more or less look like standard normally distributed data (e.g. Gaussian with 0 mean and unit variance). Run the following code to feature scale your input data."
      ]
    },
    {
      "cell_type": "code",
      "metadata": {
        "id": "by0c0S7s0rQY"
      },
      "source": [
        "from sklearn.preprocessing import StandardScaler  \n",
        "scaler = StandardScaler()  \n",
        "scaler.fit(x_train)  \n",
        "x_train = scaler.transform(x_train) \n",
        "x_test = scaler.transform(x_test)"
      ],
      "execution_count": null,
      "outputs": []
    },
    {
      "cell_type": "markdown",
      "metadata": {
        "id": "lxX0ugDuNR8o"
      },
      "source": [
        "Check that the shape of your data looks correct."
      ]
    },
    {
      "cell_type": "code",
      "metadata": {
        "id": "5tJHqw2M0rQf"
      },
      "source": [
        "print(x_train.shape, y_train.shape)\n",
        "print(x_test.shape, y_test.shape)"
      ],
      "execution_count": null,
      "outputs": []
    },
    {
      "cell_type": "markdown",
      "metadata": {
        "id": "90SIHxqzN3Ht"
      },
      "source": [
        "Train a classifier of your choice. Then report results:\n",
        "* Display the confusion matrix over the test set in absolute numbers.\n",
        "    * These numbers reflect number of true positives, true negatives, false positives and false negatives.\n",
        "* Display a normalized confusion matrix over the test set, so [sensitivity and specificity](https://en.wikipedia.org/wiki/Evaluation_of_binary_classifiers) can be read from the diagonal (off-diagonal will contain type I and type II error rates).\n",
        "    * Note that sensitivity is recall for the positive class (1), whereas specificity is recall for the negative class (0).\n",
        "* State **in free-text** the sensitivity and specificity of your classifier."
      ]
    },
    {
      "cell_type": "code",
      "metadata": {
        "id": "lIg8WIm3NiKN"
      },
      "source": [
        "# your code goes here"
      ],
      "execution_count": null,
      "outputs": []
    },
    {
      "cell_type": "markdown",
      "metadata": {
        "id": "lBkWn4WXA-QS"
      },
      "source": [
        "*Your explanation here*"
      ]
    },
    {
      "cell_type": "markdown",
      "metadata": {
        "id": "oP8IaWa9A-QS"
      },
      "source": [
        "## Part 5: Prediction with less leakage (5 points)"
      ]
    },
    {
      "cell_type": "markdown",
      "metadata": {
        "id": "ZKIGA3BOA-QS"
      },
      "source": [
        "From Wikipedia, [data leakage](https://en.wikipedia.org/wiki/Leakage_(machine_learning)) is the use of information in the model training process which would not be expected to be available at prediction time, causing the predictive scores (metrics) to overestimate the model's utility when run in a production environment.\n",
        "\n",
        "Feature or column-wise leakage is caused by the inclusion of columns which are one of the following: a duplicate label, a proxy for the label, or the label itself\n",
        "\n",
        "Considering we're doing binary classification of whether a movie is science fiction, identify the most prominent cause of feature leakage among the features added during Exercise 3. \n",
        "\n",
        "1) **Argue** for your choice, 2) train a classifier not subject to this feature leakage (it's OK to create a new train/test split) and 3) **report the results** as you did in Part 4."
      ]
    },
    {
      "cell_type": "markdown",
      "metadata": {
        "id": "Mb7FTGgTA-QS"
      },
      "source": [
        "*Your explanation here*"
      ]
    },
    {
      "cell_type": "code",
      "metadata": {
        "ExecuteTime": {
          "end_time": "2021-09-27T14:01:15.648444Z",
          "start_time": "2021-09-27T14:01:15.643363Z"
        },
        "id": "9CzDjF_pA-QS"
      },
      "source": [
        "# your code goes here"
      ],
      "execution_count": null,
      "outputs": []
    },
    {
      "cell_type": "markdown",
      "metadata": {
        "id": "hc4EOB-gb5pp"
      },
      "source": [
        "# Exercise 4: Basic movie recommendation system (20 points)"
      ]
    },
    {
      "cell_type": "markdown",
      "metadata": {
        "id": "7PqirpLgVdN0"
      },
      "source": [
        "In this exercise, you'll build a simple movie recommendation system.  The system will take a movie as input and recommend a list of similar movies. In order to recommend similar movies, you will use the correlation between the ratings of movies as a similarity metric. We'll use Pearson's correlation. \n",
        " \n",
        "The data for this exercise is available in the following URLs. It contains basic info about movies, as well as ratings provided by several users."
      ]
    },
    {
      "cell_type": "code",
      "metadata": {
        "ExecuteTime": {
          "end_time": "2021-09-27T14:49:08.552678Z",
          "start_time": "2021-09-27T14:49:08.547286Z"
        },
        "id": "HOHERjo8cLQo"
      },
      "source": [
        "url1 = 'http://courses.compute.dtu.dk/02807/2021/projects/project1/ratings.csv'\n",
        "url2 = 'http://courses.compute.dtu.dk/02807/2021/projects/project1/movies.csv'"
      ],
      "execution_count": null,
      "outputs": []
    },
    {
      "cell_type": "markdown",
      "metadata": {
        "id": "YOXKd22xXgo2"
      },
      "source": [
        "## Part 1: Preparing the ratings data (10 pts)"
      ]
    },
    {
      "cell_type": "markdown",
      "metadata": {
        "id": "Isn8M65HXi3i"
      },
      "source": [
        "Read the data from these two URLs, and create a single dataframe from them, with the following columns:\n",
        "\n",
        "| userId | movieId | rating | timestamp | title | genres |\n",
        "|--------|---------|--------|-----------|-------|--------|\n",
        "|        |         |        |           |       |        |\n",
        "\n",
        "Call the dataframe `movie_data`."
      ]
    },
    {
      "cell_type": "code",
      "metadata": {
        "id": "GwhdEsGUn1zz"
      },
      "source": [
        "# your code goes here"
      ],
      "execution_count": null,
      "outputs": []
    },
    {
      "cell_type": "markdown",
      "metadata": {
        "id": "MFGc9VSzadHi"
      },
      "source": [
        "To find the correlation between the ratings of movies, create a dataframe where each column is a movie name and each row contains the rating assigned by a specific user to that movie. \n",
        "\n",
        "You'll notice that this dataframe has many NaN values, since each movie is not rated by every user. Call the dataframe `user_ratings`."
      ]
    },
    {
      "cell_type": "code",
      "metadata": {
        "id": "eTrrVPsrfn1Q"
      },
      "source": [
        "# your code goes here"
      ],
      "execution_count": null,
      "outputs": []
    },
    {
      "cell_type": "markdown",
      "metadata": {
        "id": "hy61Luqyu2Te"
      },
      "source": [
        "## Part 2: Finding the most similar movies (10 pts)"
      ]
    },
    {
      "cell_type": "markdown",
      "metadata": {
        "id": "M7FBDshDd1j7"
      },
      "source": [
        "Each column contains all the user ratings for a particular movie. Let's take the user ratings for the movie Toy Story."
      ]
    },
    {
      "cell_type": "code",
      "metadata": {
        "id": "6e-9WXAro_4-"
      },
      "source": [
        "toystory_ratings = user_ratings['Toy Story (1995)']\n",
        "toystory_ratings"
      ],
      "execution_count": null,
      "outputs": []
    },
    {
      "cell_type": "markdown",
      "metadata": {
        "id": "fljIQkJmpCJD"
      },
      "source": [
        "Next, find the correlation between the user ratings for Toy Story and the user ratings of all other movies. \n",
        " \n",
        "More specifically, create a dataframe that contains two columns, called `title` and `Correlation`. Each row should contain a movie title $x$, followed by the pairwise correlation between the column of ratings for Toy Story and the column of ratings for $x$.  Drop any rows with null values, and display the resulting dataframe.\n",
        " \n",
        "Use built-in functions to compute correlations and avoid explicit loops."
      ]
    },
    {
      "cell_type": "code",
      "metadata": {
        "id": "_yuX1U0Xh0nk"
      },
      "source": [
        "# your code goes here"
      ],
      "execution_count": null,
      "outputs": []
    },
    {
      "cell_type": "markdown",
      "metadata": {
        "id": "aji7cUw-r-JG"
      },
      "source": [
        "Sort the movies by descending order of correlation to find out highly correlated movies at the top. Display the 5 most highly correlated movies.\n"
      ]
    },
    {
      "cell_type": "code",
      "metadata": {
        "id": "FU0Zm9fjg4BD"
      },
      "source": [
        "# your code goes here"
      ],
      "execution_count": null,
      "outputs": []
    },
    {
      "cell_type": "markdown",
      "metadata": {
        "id": "qrvD_u63sVdD"
      },
      "source": [
        "If you computed correlations correctly, you will find that the recommended movies are not very well known. We can generate more popular recommendations by finding highly correlated movies that have a sensible number of ratings. \n",
        " \n",
        "Add a column to your correlation table, called `rating_counts`, which stores the number of ratings received by each movie."
      ]
    },
    {
      "cell_type": "code",
      "metadata": {
        "id": "WvMKUmBFg-Ow"
      },
      "source": [
        "# your code goes here"
      ],
      "execution_count": null,
      "outputs": []
    },
    {
      "cell_type": "markdown",
      "metadata": {
        "id": "b_20nfFvt-7y"
      },
      "source": [
        "Now find the 5 movies with the highest correlation with Toy Story, which have strictly more than 100 ratings. Display the result below. "
      ]
    },
    {
      "cell_type": "code",
      "metadata": {
        "id": "KvE3c2lMhHNz"
      },
      "source": [
        "# your code goes here"
      ],
      "execution_count": null,
      "outputs": []
    }
  ]
}